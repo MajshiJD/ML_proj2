{
 "cells": [
  {
   "cell_type": "markdown",
   "id": "9acdc2ae",
   "metadata": {
    "papermill": {
     "duration": 0.027531,
     "end_time": "2022-07-16T15:55:22.603624",
     "exception": false,
     "start_time": "2022-07-16T15:55:22.576093",
     "status": "completed"
    },
    "tags": []
   },
   "source": [
    "# Marketing Data Analysis (Banking)"
   ]
  },
  {
   "cell_type": "markdown",
   "id": "21199df5",
   "metadata": {
    "papermill": {
     "duration": 0.023756,
     "end_time": "2022-07-16T15:55:22.651582",
     "exception": false,
     "start_time": "2022-07-16T15:55:22.627826",
     "status": "completed"
    },
    "tags": []
   },
   "source": [
    "# **1. Import libraries**"
   ]
  },
  {
   "cell_type": "code",
   "execution_count": 1,
   "id": "4a797a4c",
   "metadata": {
    "execution": {
     "iopub.execute_input": "2022-07-16T15:55:22.702480Z",
     "iopub.status.busy": "2022-07-16T15:55:22.701750Z",
     "iopub.status.idle": "2022-07-16T15:55:24.797280Z",
     "shell.execute_reply": "2022-07-16T15:55:24.796259Z"
    },
    "papermill": {
     "duration": 2.124808,
     "end_time": "2022-07-16T15:55:24.800354",
     "exception": false,
     "start_time": "2022-07-16T15:55:22.675546",
     "status": "completed"
    },
    "tags": []
   },
   "outputs": [],
   "source": [
    "import pandas as pd\n",
    "import numpy as np\n",
    "import matplotlib.pyplot as plt\n",
    "from scipy.stats import spearmanr\n",
    "import seaborn as sns\n",
    "import statsmodels.api as sm\n",
    "import os\n",
    "from statsmodels.stats.outliers_influence import variance_inflation_factor\n",
    "from sklearn import metrics\n",
    "from sklearn.metrics import r2_score\n",
    "from sklearn.model_selection import train_test_split\n",
    "sns.set()\n",
    "import warnings\n",
    "warnings.filterwarnings(\"ignore\", category=FutureWarning)\n",
    "import warnings\n",
    "warnings.filterwarnings('ignore')"
   ]
  },
  {
   "cell_type": "markdown",
   "id": "82a6e7d9",
   "metadata": {
    "papermill": {
     "duration": 0.023923,
     "end_time": "2022-07-16T15:55:24.850052",
     "exception": false,
     "start_time": "2022-07-16T15:55:24.826129",
     "status": "completed"
    },
    "tags": []
   },
   "source": [
    "# **2. Read data**"
   ]
  },
  {
   "cell_type": "code",
   "execution_count": 2,
   "id": "d1ec0ec6",
   "metadata": {
    "execution": {
     "iopub.execute_input": "2022-07-16T15:55:24.901641Z",
     "iopub.status.busy": "2022-07-16T15:55:24.900773Z",
     "iopub.status.idle": "2022-07-16T15:55:24.908456Z",
     "shell.execute_reply": "2022-07-16T15:55:24.907686Z"
    },
    "papermill": {
     "duration": 0.036259,
     "end_time": "2022-07-16T15:55:24.910417",
     "exception": false,
     "start_time": "2022-07-16T15:55:24.874158",
     "status": "completed"
    },
    "tags": []
   },
   "outputs": [
    {
     "data": {
      "text/plain": [
       "'/kaggle/working'"
      ]
     },
     "execution_count": 2,
     "metadata": {},
     "output_type": "execute_result"
    }
   ],
   "source": [
    "## This will show current working diractory\n",
    "os.getcwd()"
   ]
  },
  {
   "cell_type": "code",
   "execution_count": 3,
   "id": "94b924ca",
   "metadata": {
    "execution": {
     "iopub.execute_input": "2022-07-16T15:55:24.961053Z",
     "iopub.status.busy": "2022-07-16T15:55:24.960281Z",
     "iopub.status.idle": "2022-07-16T15:55:25.116937Z",
     "shell.execute_reply": "2022-07-16T15:55:25.115890Z"
    },
    "papermill": {
     "duration": 0.18485,
     "end_time": "2022-07-16T15:55:25.119518",
     "exception": false,
     "start_time": "2022-07-16T15:55:24.934668",
     "status": "completed"
    },
    "tags": []
   },
   "outputs": [
    {
     "data": {
      "text/html": [
       "<div>\n",
       "<style scoped>\n",
       "    .dataframe tbody tr th:only-of-type {\n",
       "        vertical-align: middle;\n",
       "    }\n",
       "\n",
       "    .dataframe tbody tr th {\n",
       "        vertical-align: top;\n",
       "    }\n",
       "\n",
       "    .dataframe thead th {\n",
       "        text-align: right;\n",
       "    }\n",
       "</style>\n",
       "<table border=\"1\" class=\"dataframe\">\n",
       "  <thead>\n",
       "    <tr style=\"text-align: right;\">\n",
       "      <th></th>\n",
       "      <th>age</th>\n",
       "      <th>job</th>\n",
       "      <th>marital</th>\n",
       "      <th>education</th>\n",
       "      <th>default</th>\n",
       "      <th>balance</th>\n",
       "      <th>housing</th>\n",
       "      <th>loan</th>\n",
       "      <th>contact</th>\n",
       "      <th>day</th>\n",
       "      <th>month</th>\n",
       "      <th>duration</th>\n",
       "      <th>campaign</th>\n",
       "      <th>pdays</th>\n",
       "      <th>previous</th>\n",
       "      <th>poutcome</th>\n",
       "      <th>y</th>\n",
       "    </tr>\n",
       "  </thead>\n",
       "  <tbody>\n",
       "    <tr>\n",
       "      <th>0</th>\n",
       "      <td>58</td>\n",
       "      <td>management</td>\n",
       "      <td>married</td>\n",
       "      <td>tertiary</td>\n",
       "      <td>no</td>\n",
       "      <td>2143</td>\n",
       "      <td>yes</td>\n",
       "      <td>no</td>\n",
       "      <td>unknown</td>\n",
       "      <td>5</td>\n",
       "      <td>may</td>\n",
       "      <td>261</td>\n",
       "      <td>1</td>\n",
       "      <td>-1</td>\n",
       "      <td>0</td>\n",
       "      <td>unknown</td>\n",
       "      <td>no</td>\n",
       "    </tr>\n",
       "    <tr>\n",
       "      <th>1</th>\n",
       "      <td>44</td>\n",
       "      <td>technician</td>\n",
       "      <td>single</td>\n",
       "      <td>secondary</td>\n",
       "      <td>no</td>\n",
       "      <td>29</td>\n",
       "      <td>yes</td>\n",
       "      <td>no</td>\n",
       "      <td>unknown</td>\n",
       "      <td>5</td>\n",
       "      <td>may</td>\n",
       "      <td>151</td>\n",
       "      <td>1</td>\n",
       "      <td>-1</td>\n",
       "      <td>0</td>\n",
       "      <td>unknown</td>\n",
       "      <td>no</td>\n",
       "    </tr>\n",
       "    <tr>\n",
       "      <th>2</th>\n",
       "      <td>33</td>\n",
       "      <td>entrepreneur</td>\n",
       "      <td>married</td>\n",
       "      <td>secondary</td>\n",
       "      <td>no</td>\n",
       "      <td>2</td>\n",
       "      <td>yes</td>\n",
       "      <td>yes</td>\n",
       "      <td>unknown</td>\n",
       "      <td>5</td>\n",
       "      <td>may</td>\n",
       "      <td>76</td>\n",
       "      <td>1</td>\n",
       "      <td>-1</td>\n",
       "      <td>0</td>\n",
       "      <td>unknown</td>\n",
       "      <td>no</td>\n",
       "    </tr>\n",
       "    <tr>\n",
       "      <th>3</th>\n",
       "      <td>47</td>\n",
       "      <td>blue-collar</td>\n",
       "      <td>married</td>\n",
       "      <td>unknown</td>\n",
       "      <td>no</td>\n",
       "      <td>1506</td>\n",
       "      <td>yes</td>\n",
       "      <td>no</td>\n",
       "      <td>unknown</td>\n",
       "      <td>5</td>\n",
       "      <td>may</td>\n",
       "      <td>92</td>\n",
       "      <td>1</td>\n",
       "      <td>-1</td>\n",
       "      <td>0</td>\n",
       "      <td>unknown</td>\n",
       "      <td>no</td>\n",
       "    </tr>\n",
       "    <tr>\n",
       "      <th>4</th>\n",
       "      <td>33</td>\n",
       "      <td>unknown</td>\n",
       "      <td>single</td>\n",
       "      <td>unknown</td>\n",
       "      <td>no</td>\n",
       "      <td>1</td>\n",
       "      <td>no</td>\n",
       "      <td>no</td>\n",
       "      <td>unknown</td>\n",
       "      <td>5</td>\n",
       "      <td>may</td>\n",
       "      <td>198</td>\n",
       "      <td>1</td>\n",
       "      <td>-1</td>\n",
       "      <td>0</td>\n",
       "      <td>unknown</td>\n",
       "      <td>no</td>\n",
       "    </tr>\n",
       "  </tbody>\n",
       "</table>\n",
       "</div>"
      ],
      "text/plain": [
       "   age           job  marital  education default  balance housing loan  \\\n",
       "0   58    management  married   tertiary      no     2143     yes   no   \n",
       "1   44    technician   single  secondary      no       29     yes   no   \n",
       "2   33  entrepreneur  married  secondary      no        2     yes  yes   \n",
       "3   47   blue-collar  married    unknown      no     1506     yes   no   \n",
       "4   33       unknown   single    unknown      no        1      no   no   \n",
       "\n",
       "   contact  day month  duration  campaign  pdays  previous poutcome   y  \n",
       "0  unknown    5   may       261         1     -1         0  unknown  no  \n",
       "1  unknown    5   may       151         1     -1         0  unknown  no  \n",
       "2  unknown    5   may        76         1     -1         0  unknown  no  \n",
       "3  unknown    5   may        92         1     -1         0  unknown  no  \n",
       "4  unknown    5   may       198         1     -1         0  unknown  no  "
      ]
     },
     "execution_count": 3,
     "metadata": {},
     "output_type": "execute_result"
    }
   ],
   "source": [
    "# Read the data from cvs into a Pandas DataFrame\n",
    "data= pd.read_csv('../input/bank-marketing-dataset-analysis-classification/bank-full.csv')\n",
    "data.head()"
   ]
  },
  {
   "cell_type": "markdown",
   "id": "5a8dcee6",
   "metadata": {
    "papermill": {
     "duration": 0.024254,
     "end_time": "2022-07-16T15:55:25.168340",
     "exception": false,
     "start_time": "2022-07-16T15:55:25.144086",
     "status": "completed"
    },
    "tags": []
   },
   "source": [
    "### **About this data** "
   ]
  },
  {
   "cell_type": "markdown",
   "id": "16fec262",
   "metadata": {
    "papermill": {
     "duration": 0.024047,
     "end_time": "2022-07-16T15:55:25.216947",
     "exception": false,
     "start_time": "2022-07-16T15:55:25.192900",
     "status": "completed"
    },
    "tags": []
   },
   "source": [
    "This is the classic marketing bank dataset uploaded originally in the UCI Machine Learning Repository. The dataset gives you information about a marketing campaign of a financial institution. \n",
    "\n",
    "Input variables:\n",
    "- Age (Age of customer)\n",
    "- Job (Job of customer)\n",
    "- Martial (Martial status of customer)\n",
    "- Education (Customer education level)\n",
    "- Defaul (Has credit in default?)\n",
    "- Housing (If costumer has housing loan)\n",
    "- Loan\t  (Has Personal Loan)\n",
    "- Balance (Customer's individual balance)\n",
    "- Contact (Communication type)\n",
    "- Month\t   (Last contact month of year)\n",
    "- Day\t   (Last contact day of the week)\n",
    "- Duration\t(Last contact duration, in seconds,this attribute highly affects the output target (e.g., if duration=0 theny='no')\n",
    "- Campaign\t(Number of contacts performed during this campaign and for this client)\n",
    "- Pdays\t    (Number of days that passed by after the client was last contacted from a previous campaign)\n",
    "- Previous\t(Number of contacts performed before this campaign and for this client)\n",
    "- Poutcome\t(outcome of the previous marketing campaign)\n",
    "- Deposit\tY has the client subscribed a term deposit (binary: 'yes','no')"
   ]
  },
  {
   "cell_type": "markdown",
   "id": "5915404b",
   "metadata": {
    "papermill": {
     "duration": 0.024111,
     "end_time": "2022-07-16T15:55:25.265289",
     "exception": false,
     "start_time": "2022-07-16T15:55:25.241178",
     "status": "completed"
    },
    "tags": []
   },
   "source": [
    "### Objective: \n",
    "Analyze data in order to find ways to look for future strategies in order to improve future marketing campaigns for the bank."
   ]
  },
  {
   "cell_type": "markdown",
   "id": "a25fdfd4",
   "metadata": {
    "papermill": {
     "duration": 0.02407,
     "end_time": "2022-07-16T15:55:25.314003",
     "exception": false,
     "start_time": "2022-07-16T15:55:25.289933",
     "status": "completed"
    },
    "tags": []
   },
   "source": [
    "# **3. Data review and checks**"
   ]
  },
  {
   "cell_type": "code",
   "execution_count": 4,
   "id": "793674c2",
   "metadata": {
    "execution": {
     "iopub.execute_input": "2022-07-16T15:55:25.364626Z",
     "iopub.status.busy": "2022-07-16T15:55:25.363999Z",
     "iopub.status.idle": "2022-07-16T15:55:25.376298Z",
     "shell.execute_reply": "2022-07-16T15:55:25.375126Z"
    },
    "papermill": {
     "duration": 0.040194,
     "end_time": "2022-07-16T15:55:25.378461",
     "exception": false,
     "start_time": "2022-07-16T15:55:25.338267",
     "status": "completed"
    },
    "tags": []
   },
   "outputs": [
    {
     "name": "stdout",
     "output_type": "stream",
     "text": [
      "(45211, 17)\n"
     ]
    }
   ],
   "source": [
    "data0 = data.copy()\n",
    "print(data0.shape)"
   ]
  },
  {
   "cell_type": "markdown",
   "id": "4b77ecc5",
   "metadata": {
    "papermill": {
     "duration": 0.024144,
     "end_time": "2022-07-16T15:55:25.426908",
     "exception": false,
     "start_time": "2022-07-16T15:55:25.402764",
     "status": "completed"
    },
    "tags": []
   },
   "source": [
    "- This dataset has rows=45211 and columns=17"
   ]
  },
  {
   "cell_type": "code",
   "execution_count": 5,
   "id": "b2e6636d",
   "metadata": {
    "execution": {
     "iopub.execute_input": "2022-07-16T15:55:25.477997Z",
     "iopub.status.busy": "2022-07-16T15:55:25.477374Z",
     "iopub.status.idle": "2022-07-16T15:55:25.501238Z",
     "shell.execute_reply": "2022-07-16T15:55:25.499932Z"
    },
    "papermill": {
     "duration": 0.052145,
     "end_time": "2022-07-16T15:55:25.503583",
     "exception": false,
     "start_time": "2022-07-16T15:55:25.451438",
     "status": "completed"
    },
    "tags": []
   },
   "outputs": [
    {
     "name": "stdout",
     "output_type": "stream",
     "text": [
      "['age', 'balance', 'day', 'duration', 'campaign', 'pdays', 'previous']\n",
      "7\n",
      "['job', 'marital', 'education', 'default', 'housing', 'loan', 'contact', 'month', 'poutcome', 'y']\n",
      "10\n"
     ]
    }
   ],
   "source": [
    "# Check data types in this dateset\n",
    "numeric_col= list(data0.select_dtypes(np.number))\n",
    "print(numeric_col)\n",
    "print(len(numeric_col))\n",
    "categorical_col= list(data0.select_dtypes(include= 'object'))\n",
    "print((categorical_col))\n",
    "print(len(categorical_col))"
   ]
  },
  {
   "cell_type": "code",
   "execution_count": 6,
   "id": "8abba7a5",
   "metadata": {
    "execution": {
     "iopub.execute_input": "2022-07-16T15:55:25.554925Z",
     "iopub.status.busy": "2022-07-16T15:55:25.554219Z",
     "iopub.status.idle": "2022-07-16T15:55:25.621289Z",
     "shell.execute_reply": "2022-07-16T15:55:25.620095Z"
    },
    "papermill": {
     "duration": 0.095696,
     "end_time": "2022-07-16T15:55:25.623943",
     "exception": false,
     "start_time": "2022-07-16T15:55:25.528247",
     "status": "completed"
    },
    "tags": []
   },
   "outputs": [
    {
     "name": "stdout",
     "output_type": "stream",
     "text": [
      "<class 'pandas.core.frame.DataFrame'>\n",
      "RangeIndex: 45211 entries, 0 to 45210\n",
      "Data columns (total 17 columns):\n",
      " #   Column     Non-Null Count  Dtype \n",
      "---  ------     --------------  ----- \n",
      " 0   age        45211 non-null  int64 \n",
      " 1   job        45211 non-null  object\n",
      " 2   marital    45211 non-null  object\n",
      " 3   education  45211 non-null  object\n",
      " 4   default    45211 non-null  object\n",
      " 5   balance    45211 non-null  int64 \n",
      " 6   housing    45211 non-null  object\n",
      " 7   loan       45211 non-null  object\n",
      " 8   contact    45211 non-null  object\n",
      " 9   day        45211 non-null  int64 \n",
      " 10  month      45211 non-null  object\n",
      " 11  duration   45211 non-null  int64 \n",
      " 12  campaign   45211 non-null  int64 \n",
      " 13  pdays      45211 non-null  int64 \n",
      " 14  previous   45211 non-null  int64 \n",
      " 15  poutcome   45211 non-null  object\n",
      " 16  y          45211 non-null  object\n",
      "dtypes: int64(7), object(10)\n",
      "memory usage: 5.9+ MB\n"
     ]
    }
   ],
   "source": [
    "data0.info()"
   ]
  },
  {
   "cell_type": "code",
   "execution_count": 7,
   "id": "ca223274",
   "metadata": {
    "execution": {
     "iopub.execute_input": "2022-07-16T15:55:25.675372Z",
     "iopub.status.busy": "2022-07-16T15:55:25.674984Z",
     "iopub.status.idle": "2022-07-16T15:55:25.731008Z",
     "shell.execute_reply": "2022-07-16T15:55:25.730196Z"
    },
    "papermill": {
     "duration": 0.084301,
     "end_time": "2022-07-16T15:55:25.733069",
     "exception": false,
     "start_time": "2022-07-16T15:55:25.648768",
     "status": "completed"
    },
    "tags": []
   },
   "outputs": [
    {
     "data": {
      "text/plain": [
       "0"
      ]
     },
     "execution_count": 7,
     "metadata": {},
     "output_type": "execute_result"
    }
   ],
   "source": [
    "# Handling duplicate values\n",
    "data0.duplicated().sum()"
   ]
  },
  {
   "cell_type": "markdown",
   "id": "edbf2061",
   "metadata": {
    "papermill": {
     "duration": 0.024469,
     "end_time": "2022-07-16T15:55:25.782456",
     "exception": false,
     "start_time": "2022-07-16T15:55:25.757987",
     "status": "completed"
    },
    "tags": []
   },
   "source": [
    "- Thare is no duplicate values in this dataset"
   ]
  },
  {
   "cell_type": "markdown",
   "id": "863287bd",
   "metadata": {
    "papermill": {
     "duration": 0.02425,
     "end_time": "2022-07-16T15:55:25.831333",
     "exception": false,
     "start_time": "2022-07-16T15:55:25.807083",
     "status": "completed"
    },
    "tags": []
   },
   "source": [
    "## **3.1 Descriptive Statistics**"
   ]
  },
  {
   "cell_type": "markdown",
   "id": "a1f72e5a",
   "metadata": {
    "papermill": {
     "duration": 0.02423,
     "end_time": "2022-07-16T15:55:25.880253",
     "exception": false,
     "start_time": "2022-07-16T15:55:25.856023",
     "status": "completed"
    },
    "tags": []
   },
   "source": [
    "Descriptive statistics are used to describe or summarize the characteristics of a sample or data set, such as a variable's mean, standard deviation, or median. "
   ]
  },
  {
   "cell_type": "code",
   "execution_count": 8,
   "id": "a160b835",
   "metadata": {
    "execution": {
     "iopub.execute_input": "2022-07-16T15:55:25.931492Z",
     "iopub.status.busy": "2022-07-16T15:55:25.931079Z",
     "iopub.status.idle": "2022-07-16T15:55:25.973899Z",
     "shell.execute_reply": "2022-07-16T15:55:25.973123Z"
    },
    "papermill": {
     "duration": 0.07114,
     "end_time": "2022-07-16T15:55:25.975933",
     "exception": false,
     "start_time": "2022-07-16T15:55:25.904793",
     "status": "completed"
    },
    "tags": []
   },
   "outputs": [
    {
     "data": {
      "text/html": [
       "<div>\n",
       "<style scoped>\n",
       "    .dataframe tbody tr th:only-of-type {\n",
       "        vertical-align: middle;\n",
       "    }\n",
       "\n",
       "    .dataframe tbody tr th {\n",
       "        vertical-align: top;\n",
       "    }\n",
       "\n",
       "    .dataframe thead th {\n",
       "        text-align: right;\n",
       "    }\n",
       "</style>\n",
       "<table border=\"1\" class=\"dataframe\">\n",
       "  <thead>\n",
       "    <tr style=\"text-align: right;\">\n",
       "      <th></th>\n",
       "      <th>age</th>\n",
       "      <th>balance</th>\n",
       "      <th>day</th>\n",
       "      <th>duration</th>\n",
       "      <th>campaign</th>\n",
       "      <th>pdays</th>\n",
       "      <th>previous</th>\n",
       "    </tr>\n",
       "  </thead>\n",
       "  <tbody>\n",
       "    <tr>\n",
       "      <th>count</th>\n",
       "      <td>45211.000000</td>\n",
       "      <td>45211.000000</td>\n",
       "      <td>45211.000000</td>\n",
       "      <td>45211.000000</td>\n",
       "      <td>45211.000000</td>\n",
       "      <td>45211.000000</td>\n",
       "      <td>45211.000000</td>\n",
       "    </tr>\n",
       "    <tr>\n",
       "      <th>mean</th>\n",
       "      <td>40.936210</td>\n",
       "      <td>1362.272058</td>\n",
       "      <td>15.806419</td>\n",
       "      <td>258.163080</td>\n",
       "      <td>2.763841</td>\n",
       "      <td>40.197828</td>\n",
       "      <td>0.580323</td>\n",
       "    </tr>\n",
       "    <tr>\n",
       "      <th>std</th>\n",
       "      <td>10.618762</td>\n",
       "      <td>3044.765829</td>\n",
       "      <td>8.322476</td>\n",
       "      <td>257.527812</td>\n",
       "      <td>3.098021</td>\n",
       "      <td>100.128746</td>\n",
       "      <td>2.303441</td>\n",
       "    </tr>\n",
       "    <tr>\n",
       "      <th>min</th>\n",
       "      <td>18.000000</td>\n",
       "      <td>-8019.000000</td>\n",
       "      <td>1.000000</td>\n",
       "      <td>0.000000</td>\n",
       "      <td>1.000000</td>\n",
       "      <td>-1.000000</td>\n",
       "      <td>0.000000</td>\n",
       "    </tr>\n",
       "    <tr>\n",
       "      <th>25%</th>\n",
       "      <td>33.000000</td>\n",
       "      <td>72.000000</td>\n",
       "      <td>8.000000</td>\n",
       "      <td>103.000000</td>\n",
       "      <td>1.000000</td>\n",
       "      <td>-1.000000</td>\n",
       "      <td>0.000000</td>\n",
       "    </tr>\n",
       "    <tr>\n",
       "      <th>50%</th>\n",
       "      <td>39.000000</td>\n",
       "      <td>448.000000</td>\n",
       "      <td>16.000000</td>\n",
       "      <td>180.000000</td>\n",
       "      <td>2.000000</td>\n",
       "      <td>-1.000000</td>\n",
       "      <td>0.000000</td>\n",
       "    </tr>\n",
       "    <tr>\n",
       "      <th>75%</th>\n",
       "      <td>48.000000</td>\n",
       "      <td>1428.000000</td>\n",
       "      <td>21.000000</td>\n",
       "      <td>319.000000</td>\n",
       "      <td>3.000000</td>\n",
       "      <td>-1.000000</td>\n",
       "      <td>0.000000</td>\n",
       "    </tr>\n",
       "    <tr>\n",
       "      <th>max</th>\n",
       "      <td>95.000000</td>\n",
       "      <td>102127.000000</td>\n",
       "      <td>31.000000</td>\n",
       "      <td>4918.000000</td>\n",
       "      <td>63.000000</td>\n",
       "      <td>871.000000</td>\n",
       "      <td>275.000000</td>\n",
       "    </tr>\n",
       "  </tbody>\n",
       "</table>\n",
       "</div>"
      ],
      "text/plain": [
       "                age        balance           day      duration      campaign  \\\n",
       "count  45211.000000   45211.000000  45211.000000  45211.000000  45211.000000   \n",
       "mean      40.936210    1362.272058     15.806419    258.163080      2.763841   \n",
       "std       10.618762    3044.765829      8.322476    257.527812      3.098021   \n",
       "min       18.000000   -8019.000000      1.000000      0.000000      1.000000   \n",
       "25%       33.000000      72.000000      8.000000    103.000000      1.000000   \n",
       "50%       39.000000     448.000000     16.000000    180.000000      2.000000   \n",
       "75%       48.000000    1428.000000     21.000000    319.000000      3.000000   \n",
       "max       95.000000  102127.000000     31.000000   4918.000000     63.000000   \n",
       "\n",
       "              pdays      previous  \n",
       "count  45211.000000  45211.000000  \n",
       "mean      40.197828      0.580323  \n",
       "std      100.128746      2.303441  \n",
       "min       -1.000000      0.000000  \n",
       "25%       -1.000000      0.000000  \n",
       "50%       -1.000000      0.000000  \n",
       "75%       -1.000000      0.000000  \n",
       "max      871.000000    275.000000  "
      ]
     },
     "execution_count": 8,
     "metadata": {},
     "output_type": "execute_result"
    }
   ],
   "source": [
    "data0.describe()"
   ]
  },
  {
   "cell_type": "markdown",
   "id": "be185dc3",
   "metadata": {
    "papermill": {
     "duration": 0.024839,
     "end_time": "2022-07-16T15:55:26.025925",
     "exception": false,
     "start_time": "2022-07-16T15:55:26.001086",
     "status": "completed"
    },
    "tags": []
   },
   "source": [
    "#### Below conclusion can be done based on data summary:\n",
    "\n",
    "- Maximum age is 95 and minimum age is 18. \n",
    "\n",
    "- Minimum account balance of customer is in negative and maximum balance is 102127.\n",
    "\n",
    "- Maximum number of contacts performed during this campaign for perticular customer is 63 and minimum contact is 1.\n",
    "\n",
    "- Maximum number of days that passed by after the client was last contacted from a previous campaign is 871.\n",
    "\n",
    "- Number of contacts performed before this campaign for customer maximum is 275 and minimum is 0.\n"
   ]
  },
  {
   "cell_type": "markdown",
   "id": "c31a8718",
   "metadata": {
    "papermill": {
     "duration": 0.024961,
     "end_time": "2022-07-16T15:55:26.076433",
     "exception": false,
     "start_time": "2022-07-16T15:55:26.051472",
     "status": "completed"
    },
    "tags": []
   },
   "source": [
    "## 3.2 Null Check"
   ]
  },
  {
   "cell_type": "code",
   "execution_count": 9,
   "id": "710d7144",
   "metadata": {
    "execution": {
     "iopub.execute_input": "2022-07-16T15:55:26.129607Z",
     "iopub.status.busy": "2022-07-16T15:55:26.128765Z",
     "iopub.status.idle": "2022-07-16T15:55:26.186582Z",
     "shell.execute_reply": "2022-07-16T15:55:26.185848Z"
    },
    "papermill": {
     "duration": 0.087185,
     "end_time": "2022-07-16T15:55:26.188875",
     "exception": false,
     "start_time": "2022-07-16T15:55:26.101690",
     "status": "completed"
    },
    "tags": []
   },
   "outputs": [
    {
     "data": {
      "text/plain": [
       "age          0\n",
       "job          0\n",
       "marital      0\n",
       "education    0\n",
       "default      0\n",
       "balance      0\n",
       "housing      0\n",
       "loan         0\n",
       "contact      0\n",
       "day          0\n",
       "month        0\n",
       "duration     0\n",
       "campaign     0\n",
       "pdays        0\n",
       "previous     0\n",
       "poutcome     0\n",
       "y            0\n",
       "dtype: int64"
      ]
     },
     "execution_count": 9,
     "metadata": {},
     "output_type": "execute_result"
    }
   ],
   "source": [
    "data.isnull().sum()"
   ]
  },
  {
   "cell_type": "markdown",
   "id": "43b1a652",
   "metadata": {
    "papermill": {
     "duration": 0.025258,
     "end_time": "2022-07-16T15:55:26.239537",
     "exception": false,
     "start_time": "2022-07-16T15:55:26.214279",
     "status": "completed"
    },
    "tags": []
   },
   "source": [
    "- There is no missing value present in data.\n",
    "\n",
    "- If missing values are present, we can handle missing values by dropping the missing records or by imputing the values.\n",
    "\n",
    "#### If missing values present in the data\n",
    "- First Outlier Treatment and then Missing Data Imputation because the outliers will also influence the missing data algorithms in a negative manner."
   ]
  },
  {
   "cell_type": "markdown",
   "id": "d156d31f",
   "metadata": {
    "papermill": {
     "duration": 0.025932,
     "end_time": "2022-07-16T15:55:26.291071",
     "exception": false,
     "start_time": "2022-07-16T15:55:26.265139",
     "status": "completed"
    },
    "tags": []
   },
   "source": [
    "## 3.3 Handling Outliers"
   ]
  },
  {
   "cell_type": "markdown",
   "id": "140c5c4e",
   "metadata": {
    "papermill": {
     "duration": 0.032298,
     "end_time": "2022-07-16T15:55:26.348633",
     "exception": false,
     "start_time": "2022-07-16T15:55:26.316335",
     "status": "completed"
    },
    "tags": []
   },
   "source": [
    "There are two type of outliers\n",
    "\n",
    "Univariate Outliers: Univariate outliers are the data points whose values lie beyond the range of expected values based on one variable.\n",
    "\n",
    "Multivariate Outliers: While ploting data, some values of one variable may not the beyond the expected range, but when you plot the datawith some other variable, these values may be lie far from the expected value."
   ]
  },
  {
   "cell_type": "markdown",
   "id": "772feee4",
   "metadata": {
    "papermill": {
     "duration": 0.025814,
     "end_time": "2022-07-16T15:55:26.407552",
     "exception": false,
     "start_time": "2022-07-16T15:55:26.381738",
     "status": "completed"
    },
    "tags": []
   },
   "source": [
    "### Outliers for age"
   ]
  },
  {
   "cell_type": "code",
   "execution_count": 10,
   "id": "83d2d66c",
   "metadata": {
    "execution": {
     "iopub.execute_input": "2022-07-16T15:55:26.474773Z",
     "iopub.status.busy": "2022-07-16T15:55:26.473747Z",
     "iopub.status.idle": "2022-07-16T15:55:26.545238Z",
     "shell.execute_reply": "2022-07-16T15:55:26.544081Z"
    },
    "papermill": {
     "duration": 0.114503,
     "end_time": "2022-07-16T15:55:26.548189",
     "exception": false,
     "start_time": "2022-07-16T15:55:26.433686",
     "status": "completed"
    },
    "tags": []
   },
   "outputs": [
    {
     "data": {
      "text/plain": [
       "day          0.093079\n",
       "age          0.684818\n",
       "pdays        2.615715\n",
       "duration     3.144318\n",
       "campaign     4.898650\n",
       "balance      8.360308\n",
       "previous    41.846454\n",
       "dtype: float64"
      ]
     },
     "execution_count": 10,
     "metadata": {},
     "output_type": "execute_result"
    }
   ],
   "source": [
    "## check the skewness of the data\n",
    "data1= data0.copy()\n",
    "data1.skew().sort_values()"
   ]
  },
  {
   "cell_type": "code",
   "execution_count": 11,
   "id": "1b5f2640",
   "metadata": {
    "execution": {
     "iopub.execute_input": "2022-07-16T15:55:26.612465Z",
     "iopub.status.busy": "2022-07-16T15:55:26.611533Z",
     "iopub.status.idle": "2022-07-16T15:55:27.118580Z",
     "shell.execute_reply": "2022-07-16T15:55:27.117301Z"
    },
    "papermill": {
     "duration": 0.538036,
     "end_time": "2022-07-16T15:55:27.121228",
     "exception": false,
     "start_time": "2022-07-16T15:55:26.583192",
     "status": "completed"
    },
    "tags": []
   },
   "outputs": [
    {
     "data": {
      "text/plain": [
       "<AxesSubplot:xlabel='age', ylabel='Density'>"
      ]
     },
     "execution_count": 11,
     "metadata": {},
     "output_type": "execute_result"
    },
    {
     "data": {
      "image/png": "[encoded data removed]",
      "text/plain": [
       "<Figure size 432x288 with 1 Axes>"
      ]
     },
     "metadata": {},
     "output_type": "display_data"
    }
   ],
   "source": [
    "sns.kdeplot(data1['age'])"
   ]
  },
  {
   "cell_type": "code",
   "execution_count": 12,
   "id": "3821a7cb",
   "metadata": {
    "execution": {
     "iopub.execute_input": "2022-07-16T15:55:27.176789Z",
     "iopub.status.busy": "2022-07-16T15:55:27.175992Z",
     "iopub.status.idle": "2022-07-16T15:55:27.395675Z",
     "shell.execute_reply": "2022-07-16T15:55:27.390825Z"
    },
    "papermill": {
     "duration": 0.250379,
     "end_time": "2022-07-16T15:55:27.398441",
     "exception": false,
     "start_time": "2022-07-16T15:55:27.148062",
     "status": "completed"
    },
    "tags": []
   },
   "outputs": [
    {
     "data": {
      "image/png": "[encoded data removed]",
      "text/plain": [
       "<Figure size 432x288 with 1 Axes>"
      ]
     },
     "metadata": {},
     "output_type": "display_data"
    }
   ],
   "source": [
    "sns.boxplot(x=data1['age'])\n",
    "plt.title('age Outlier Check')\n",
    "plt.show()"
   ]
  },
  {
   "cell_type": "code",
   "execution_count": 13,
   "id": "46cd6956",
   "metadata": {
    "execution": {
     "iopub.execute_input": "2022-07-16T15:55:27.453580Z",
     "iopub.status.busy": "2022-07-16T15:55:27.452811Z",
     "iopub.status.idle": "2022-07-16T15:55:27.462568Z",
     "shell.execute_reply": "2022-07-16T15:55:27.461685Z"
    },
    "papermill": {
     "duration": 0.039677,
     "end_time": "2022-07-16T15:55:27.464793",
     "exception": false,
     "start_time": "2022-07-16T15:55:27.425116",
     "status": "completed"
    },
    "tags": []
   },
   "outputs": [],
   "source": [
    "Qntl1 = data1['age'].quantile(0.25)  ## 25% of the customers have age less than Qntl1\n",
    "Qntl3 = data1['age'].quantile(0.75)  ## 75% of the customers have age less than Qntl3\n",
    "IQR = Qntl3 - Qntl1\n",
    "lw= Qntl1 - 1.5* IQR\n",
    "up = Qntl3 + 1.5* IQR"
   ]
  },
  {
   "cell_type": "code",
   "execution_count": 14,
   "id": "295e61cb",
   "metadata": {
    "execution": {
     "iopub.execute_input": "2022-07-16T15:55:27.519316Z",
     "iopub.status.busy": "2022-07-16T15:55:27.518657Z",
     "iopub.status.idle": "2022-07-16T15:55:27.526475Z",
     "shell.execute_reply": "2022-07-16T15:55:27.525341Z"
    },
    "papermill": {
     "duration": 0.037866,
     "end_time": "2022-07-16T15:55:27.528685",
     "exception": false,
     "start_time": "2022-07-16T15:55:27.490819",
     "status": "completed"
    },
    "tags": []
   },
   "outputs": [
    {
     "name": "stdout",
     "output_type": "stream",
     "text": [
      "Outlier percentage in Age: 1.0771714848156422\n"
     ]
    }
   ],
   "source": [
    "print(\"Outlier percentage in Age:\",((data1[data1['age']>up].shape[0]+ data1[data1['age']<lw].shape[0])/data1.shape[0])*100)"
   ]
  },
  {
   "cell_type": "markdown",
   "id": "7e66d1a6",
   "metadata": {
    "papermill": {
     "duration": 0.025777,
     "end_time": "2022-07-16T15:55:27.580714",
     "exception": false,
     "start_time": "2022-07-16T15:55:27.554937",
     "status": "completed"
    },
    "tags": []
   },
   "source": [
    "- In this dataset age outliers percentage is 1.07%. So we can replace this data by upper bound limit."
   ]
  },
  {
   "cell_type": "code",
   "execution_count": 15,
   "id": "bb57ce5c",
   "metadata": {
    "execution": {
     "iopub.execute_input": "2022-07-16T15:55:27.636548Z",
     "iopub.status.busy": "2022-07-16T15:55:27.635844Z",
     "iopub.status.idle": "2022-07-16T15:55:27.645054Z",
     "shell.execute_reply": "2022-07-16T15:55:27.643928Z"
    },
    "papermill": {
     "duration": 0.040248,
     "end_time": "2022-07-16T15:55:27.647285",
     "exception": false,
     "start_time": "2022-07-16T15:55:27.607037",
     "status": "completed"
    },
    "tags": []
   },
   "outputs": [],
   "source": [
    "## customers age more than upper bound are replaced with upper bound age\n",
    "data1['age'] = np.where(data1['age']> up, up, data1['age'])\n",
    "## customers age less than lower bound are replaced with lower bound age\n",
    "data1['age'] = np.where(data1['age']< lw, lw, data1['age'])"
   ]
  },
  {
   "cell_type": "code",
   "execution_count": 16,
   "id": "b6bf3b0e",
   "metadata": {
    "execution": {
     "iopub.execute_input": "2022-07-16T15:55:27.701388Z",
     "iopub.status.busy": "2022-07-16T15:55:27.701000Z",
     "iopub.status.idle": "2022-07-16T15:55:27.907090Z",
     "shell.execute_reply": "2022-07-16T15:55:27.906147Z"
    },
    "papermill": {
     "duration": 0.236237,
     "end_time": "2022-07-16T15:55:27.909575",
     "exception": false,
     "start_time": "2022-07-16T15:55:27.673338",
     "status": "completed"
    },
    "scrolled": true,
    "tags": []
   },
   "outputs": [
    {
     "name": "stdout",
     "output_type": "stream",
     "text": [
      "10.5 70.5\n"
     ]
    },
    {
     "data": {
      "image/png": "[encoded data removed]",
      "text/plain": [
       "<Figure size 432x288 with 1 Axes>"
      ]
     },
     "metadata": {},
     "output_type": "display_data"
    }
   ],
   "source": [
    "# After outliers imputation \n",
    "print(lw, up)\n",
    "sns.boxplot(x=data1['age'])\n",
    "plt.title('Plot after Outlier imputation')\n",
    "plt.show()"
   ]
  },
  {
   "cell_type": "markdown",
   "id": "4fb77ad7",
   "metadata": {
    "papermill": {
     "duration": 0.026117,
     "end_time": "2022-07-16T15:55:27.962100",
     "exception": false,
     "start_time": "2022-07-16T15:55:27.935983",
     "status": "completed"
    },
    "tags": []
   },
   "source": [
    "- By the analyzing of age column, we found that minimum age of customers is 18 and maximum age is 95.\n",
    "\n",
    "- We replace maximum  age by upper bound of age (70.5), age between 18 to 70.5 is valid range to target customer for loan."
   ]
  },
  {
   "cell_type": "markdown",
   "id": "3a528415",
   "metadata": {
    "papermill": {
     "duration": 0.026173,
     "end_time": "2022-07-16T15:55:28.014850",
     "exception": false,
     "start_time": "2022-07-16T15:55:27.988677",
     "status": "completed"
    },
    "tags": []
   },
   "source": [
    "### Outliers for balance¶"
   ]
  },
  {
   "cell_type": "code",
   "execution_count": 17,
   "id": "6b24d5e1",
   "metadata": {
    "execution": {
     "iopub.execute_input": "2022-07-16T15:55:28.069931Z",
     "iopub.status.busy": "2022-07-16T15:55:28.069294Z",
     "iopub.status.idle": "2022-07-16T15:55:28.522003Z",
     "shell.execute_reply": "2022-07-16T15:55:28.521211Z"
    },
    "papermill": {
     "duration": 0.482684,
     "end_time": "2022-07-16T15:55:28.524021",
     "exception": false,
     "start_time": "2022-07-16T15:55:28.041337",
     "status": "completed"
    },
    "tags": []
   },
   "outputs": [
    {
     "data": {
      "text/plain": [
       "<AxesSubplot:xlabel='balance', ylabel='Density'>"
      ]
     },
     "execution_count": 17,
     "metadata": {},
     "output_type": "execute_result"
    },
    {
     "data": {
      "image/png": "[encoded data removed]",
      "text/plain": [
       "<Figure size 432x288 with 1 Axes>"
      ]
     },
     "metadata": {},
     "output_type": "display_data"
    }
   ],
   "source": [
    "sns.kdeplot(data1['balance'])"
   ]
  },
  {
   "cell_type": "code",
   "execution_count": 18,
   "id": "13fa731f",
   "metadata": {
    "execution": {
     "iopub.execute_input": "2022-07-16T15:55:28.580528Z",
     "iopub.status.busy": "2022-07-16T15:55:28.579544Z",
     "iopub.status.idle": "2022-07-16T15:55:28.589521Z",
     "shell.execute_reply": "2022-07-16T15:55:28.587724Z"
    },
    "papermill": {
     "duration": 0.041739,
     "end_time": "2022-07-16T15:55:28.593242",
     "exception": false,
     "start_time": "2022-07-16T15:55:28.551503",
     "status": "completed"
    },
    "tags": []
   },
   "outputs": [
    {
     "name": "stdout",
     "output_type": "stream",
     "text": [
      "Maximum balance: 102127\n",
      "Minimum balance:d -8019\n",
      "Negative balance:  0.08329831235761209\n"
     ]
    }
   ],
   "source": [
    "print(\"Maximum balance:\" ,data1['balance'].max())\n",
    "print(\"Minimum balance:d\" ,data1['balance'].min())\n",
    "print(\"Negative balance: \", len(data1[data1['balance']<0])/len(data1))"
   ]
  },
  {
   "cell_type": "markdown",
   "id": "98d8af38",
   "metadata": {
    "papermill": {
     "duration": 0.026871,
     "end_time": "2022-07-16T15:55:28.647656",
     "exception": false,
     "start_time": "2022-07-16T15:55:28.620785",
     "status": "completed"
    },
    "tags": []
   },
   "source": [
    "- By the analyzing of balance column, we find that minimum account balance of customers is -8019 and maximum balance is 102127. And this is valid range so, balance column does not have outliers.\n",
    "\n",
    "- Almost 8.3% customers have negative balance is an indicator that some customers have a loan account."
   ]
  },
  {
   "cell_type": "markdown",
   "id": "d5621233",
   "metadata": {
    "papermill": {
     "duration": 0.026948,
     "end_time": "2022-07-16T15:55:28.701656",
     "exception": false,
     "start_time": "2022-07-16T15:55:28.674708",
     "status": "completed"
    },
    "tags": []
   },
   "source": [
    "### Outliers for campaign"
   ]
  },
  {
   "cell_type": "code",
   "execution_count": 19,
   "id": "a4281ce5",
   "metadata": {
    "execution": {
     "iopub.execute_input": "2022-07-16T15:55:28.758670Z",
     "iopub.status.busy": "2022-07-16T15:55:28.757884Z",
     "iopub.status.idle": "2022-07-16T15:55:29.198396Z",
     "shell.execute_reply": "2022-07-16T15:55:29.197329Z"
    },
    "papermill": {
     "duration": 0.471321,
     "end_time": "2022-07-16T15:55:29.200628",
     "exception": false,
     "start_time": "2022-07-16T15:55:28.729307",
     "status": "completed"
    },
    "tags": []
   },
   "outputs": [
    {
     "data": {
      "text/plain": [
       "<AxesSubplot:xlabel='campaign', ylabel='Density'>"
      ]
     },
     "execution_count": 19,
     "metadata": {},
     "output_type": "execute_result"
    },
    {
     "data": {
      "image/png": "[encoded data removed]",
      "text/plain": [
       "<Figure size 432x288 with 1 Axes>"
      ]
     },
     "metadata": {},
     "output_type": "display_data"
    }
   ],
   "source": [
    "sns.kdeplot(data1['campaign'])"
   ]
  },
  {
   "cell_type": "code",
   "execution_count": 20,
   "id": "5aea91c1",
   "metadata": {
    "execution": {
     "iopub.execute_input": "2022-07-16T15:55:29.257885Z",
     "iopub.status.busy": "2022-07-16T15:55:29.257121Z",
     "iopub.status.idle": "2022-07-16T15:55:29.420811Z",
     "shell.execute_reply": "2022-07-16T15:55:29.419670Z"
    },
    "papermill": {
     "duration": 0.19482,
     "end_time": "2022-07-16T15:55:29.423073",
     "exception": false,
     "start_time": "2022-07-16T15:55:29.228253",
     "status": "completed"
    },
    "tags": []
   },
   "outputs": [
    {
     "data": {
      "image/png": "[encoded data removed]",
      "text/plain": [
       "<Figure size 432x288 with 1 Axes>"
      ]
     },
     "metadata": {},
     "output_type": "display_data"
    }
   ],
   "source": [
    "sns.boxplot(x=data1['campaign'])\n",
    "plt.title('Campaign Outlier Check')\n",
    "plt.show()"
   ]
  },
  {
   "cell_type": "code",
   "execution_count": 21,
   "id": "2165c5a1",
   "metadata": {
    "execution": {
     "iopub.execute_input": "2022-07-16T15:55:29.480932Z",
     "iopub.status.busy": "2022-07-16T15:55:29.480024Z",
     "iopub.status.idle": "2022-07-16T15:55:29.492102Z",
     "shell.execute_reply": "2022-07-16T15:55:29.491166Z"
    },
    "papermill": {
     "duration": 0.043781,
     "end_time": "2022-07-16T15:55:29.494589",
     "exception": false,
     "start_time": "2022-07-16T15:55:29.450808",
     "status": "completed"
    },
    "tags": []
   },
   "outputs": [],
   "source": [
    "Qntl1 = data1['campaign'].quantile(0.25)  \n",
    "Qntl3 = data1['campaign'].quantile(0.75)  \n",
    "IQR = Qntl3 - Qntl1\n",
    "lw = Qntl3 - 1.5* IQR\n",
    "up = Qntl3 + 1.5* IQR\n",
    "## customers campaign more than upper bound are replaced with upper bound campaign\n",
    "data1['campaign'] = np.where(data1['campaign']> up, up, data1['campaign'])\n"
   ]
  },
  {
   "cell_type": "code",
   "execution_count": 22,
   "id": "9e5bffba",
   "metadata": {
    "execution": {
     "iopub.execute_input": "2022-07-16T15:55:29.551949Z",
     "iopub.status.busy": "2022-07-16T15:55:29.551555Z",
     "iopub.status.idle": "2022-07-16T15:55:29.754873Z",
     "shell.execute_reply": "2022-07-16T15:55:29.753609Z"
    },
    "papermill": {
     "duration": 0.234963,
     "end_time": "2022-07-16T15:55:29.757391",
     "exception": false,
     "start_time": "2022-07-16T15:55:29.522428",
     "status": "completed"
    },
    "tags": []
   },
   "outputs": [
    {
     "name": "stdout",
     "output_type": "stream",
     "text": [
      "0.0 6.0\n"
     ]
    },
    {
     "data": {
      "image/png": "[encoded data removed]",
      "text/plain": [
       "<Figure size 432x288 with 1 Axes>"
      ]
     },
     "metadata": {},
     "output_type": "display_data"
    }
   ],
   "source": [
    "# After outliers imputation \n",
    "print(lw, up)\n",
    "sns.boxplot(x=data1['campaign'])\n",
    "plt.title('Plot after Outlier imputation')\n",
    "plt.show()"
   ]
  },
  {
   "cell_type": "markdown",
   "id": "f5c13e1a",
   "metadata": {
    "papermill": {
     "duration": 0.033348,
     "end_time": "2022-07-16T15:55:29.819296",
     "exception": false,
     "start_time": "2022-07-16T15:55:29.785948",
     "status": "completed"
    },
    "tags": []
   },
   "source": [
    "- By the analyzing box plot, we can find that in this campaign contact a particular customer for maximum 6 time and minimum 0 time.\n"
   ]
  },
  {
   "cell_type": "markdown",
   "id": "f7e7622f",
   "metadata": {
    "papermill": {
     "duration": 0.028239,
     "end_time": "2022-07-16T15:55:29.875739",
     "exception": false,
     "start_time": "2022-07-16T15:55:29.847500",
     "status": "completed"
    },
    "tags": []
   },
   "source": [
    "### Outlier for pdays"
   ]
  },
  {
   "cell_type": "code",
   "execution_count": 23,
   "id": "75a53fd5",
   "metadata": {
    "execution": {
     "iopub.execute_input": "2022-07-16T15:55:29.935505Z",
     "iopub.status.busy": "2022-07-16T15:55:29.934846Z",
     "iopub.status.idle": "2022-07-16T15:55:30.390268Z",
     "shell.execute_reply": "2022-07-16T15:55:30.388996Z"
    },
    "papermill": {
     "duration": 0.487846,
     "end_time": "2022-07-16T15:55:30.392741",
     "exception": false,
     "start_time": "2022-07-16T15:55:29.904895",
     "status": "completed"
    },
    "tags": []
   },
   "outputs": [
    {
     "data": {
      "text/plain": [
       "<AxesSubplot:xlabel='pdays', ylabel='Density'>"
      ]
     },
     "execution_count": 23,
     "metadata": {},
     "output_type": "execute_result"
    },
    {
     "data": {
      "image/png": "[encoded data removed]",
      "text/plain": [
       "<Figure size 432x288 with 1 Axes>"
      ]
     },
     "metadata": {},
     "output_type": "display_data"
    }
   ],
   "source": [
    "sns.kdeplot(data1['pdays'])"
   ]
  },
  {
   "cell_type": "code",
   "execution_count": 24,
   "id": "b93b9f7d",
   "metadata": {
    "execution": {
     "iopub.execute_input": "2022-07-16T15:55:30.451566Z",
     "iopub.status.busy": "2022-07-16T15:55:30.451185Z",
     "iopub.status.idle": "2022-07-16T15:55:30.655105Z",
     "shell.execute_reply": "2022-07-16T15:55:30.653907Z"
    },
    "papermill": {
     "duration": 0.236384,
     "end_time": "2022-07-16T15:55:30.657724",
     "exception": false,
     "start_time": "2022-07-16T15:55:30.421340",
     "status": "completed"
    },
    "tags": []
   },
   "outputs": [
    {
     "data": {
      "image/png": "[encoded data removed]",
      "text/plain": [
       "<Figure size 432x288 with 1 Axes>"
      ]
     },
     "metadata": {},
     "output_type": "display_data"
    }
   ],
   "source": [
    "sns.boxplot(x=data1['pdays'])\n",
    "plt.title('Campaign Outlier Check')\n",
    "plt.show()"
   ]
  },
  {
   "cell_type": "code",
   "execution_count": 25,
   "id": "8c8da9b5",
   "metadata": {
    "execution": {
     "iopub.execute_input": "2022-07-16T15:55:30.717425Z",
     "iopub.status.busy": "2022-07-16T15:55:30.717059Z",
     "iopub.status.idle": "2022-07-16T15:55:30.732460Z",
     "shell.execute_reply": "2022-07-16T15:55:30.731600Z"
    },
    "papermill": {
     "duration": 0.047932,
     "end_time": "2022-07-16T15:55:30.734651",
     "exception": false,
     "start_time": "2022-07-16T15:55:30.686719",
     "status": "completed"
    },
    "tags": []
   },
   "outputs": [
    {
     "name": "stdout",
     "output_type": "stream",
     "text": [
      "Maximum pdays: 871\n",
      "Minimum pdays: -1\n",
      "customer not contacted in perivious campaign: 0.8173674548229414\n"
     ]
    }
   ],
   "source": [
    "print(\"Maximum pdays:\" ,data1['pdays'].max())\n",
    "print(\"Minimum pdays:\" ,data1['pdays'].min())\n",
    "print(\"customer not contacted in perivious campaign:\", len(data1[data1['pdays']== -1])/ len(data1))"
   ]
  },
  {
   "cell_type": "markdown",
   "id": "81a5a8a6",
   "metadata": {
    "papermill": {
     "duration": 0.028531,
     "end_time": "2022-07-16T15:55:30.792570",
     "exception": false,
     "start_time": "2022-07-16T15:55:30.764039",
     "status": "completed"
    },
    "tags": []
   },
   "source": [
    "- By analyzing the pdays data, we find that a large number of customers 81.7% not contacted previously by bank.\n",
    "\n",
    "- We consider, number of days that passed by after the client was last contacted from a previous campaign has no outliers because pdays range does not affect our current campaign."
   ]
  },
  {
   "cell_type": "markdown",
   "id": "28302310",
   "metadata": {
    "papermill": {
     "duration": 0.029108,
     "end_time": "2022-07-16T15:55:30.851587",
     "exception": false,
     "start_time": "2022-07-16T15:55:30.822479",
     "status": "completed"
    },
    "tags": []
   },
   "source": [
    "### Outlier for Previous"
   ]
  },
  {
   "cell_type": "code",
   "execution_count": 26,
   "id": "76deb3bd",
   "metadata": {
    "execution": {
     "iopub.execute_input": "2022-07-16T15:55:30.911476Z",
     "iopub.status.busy": "2022-07-16T15:55:30.910907Z",
     "iopub.status.idle": "2022-07-16T15:55:31.366158Z",
     "shell.execute_reply": "2022-07-16T15:55:31.365125Z"
    },
    "papermill": {
     "duration": 0.487647,
     "end_time": "2022-07-16T15:55:31.368419",
     "exception": false,
     "start_time": "2022-07-16T15:55:30.880772",
     "status": "completed"
    },
    "scrolled": true,
    "tags": []
   },
   "outputs": [
    {
     "data": {
      "text/plain": [
       "<AxesSubplot:xlabel='previous', ylabel='Density'>"
      ]
     },
     "execution_count": 26,
     "metadata": {},
     "output_type": "execute_result"
    },
    {
     "data": {
      "image/png": "[encoded data removed]",
      "text/plain": [
       "<Figure size 432x288 with 1 Axes>"
      ]
     },
     "metadata": {},
     "output_type": "display_data"
    }
   ],
   "source": [
    "sns.kdeplot(data1['previous'])"
   ]
  },
  {
   "cell_type": "code",
   "execution_count": 27,
   "id": "90340196",
   "metadata": {
    "execution": {
     "iopub.execute_input": "2022-07-16T15:55:31.428934Z",
     "iopub.status.busy": "2022-07-16T15:55:31.428519Z",
     "iopub.status.idle": "2022-07-16T15:55:31.641794Z",
     "shell.execute_reply": "2022-07-16T15:55:31.640991Z"
    },
    "papermill": {
     "duration": 0.246245,
     "end_time": "2022-07-16T15:55:31.643889",
     "exception": false,
     "start_time": "2022-07-16T15:55:31.397644",
     "status": "completed"
    },
    "scrolled": true,
    "tags": []
   },
   "outputs": [
    {
     "data": {
      "image/png": "[encoded data removed]",
      "text/plain": [
       "<Figure size 432x288 with 1 Axes>"
      ]
     },
     "metadata": {},
     "output_type": "display_data"
    }
   ],
   "source": [
    "sns.boxplot(x=data1['previous'])\n",
    "plt.title('Previous Outlier Check')\n",
    "plt.show()"
   ]
  },
  {
   "cell_type": "code",
   "execution_count": 28,
   "id": "002da01b",
   "metadata": {
    "execution": {
     "iopub.execute_input": "2022-07-16T15:55:31.705484Z",
     "iopub.status.busy": "2022-07-16T15:55:31.704897Z",
     "iopub.status.idle": "2022-07-16T15:55:31.717149Z",
     "shell.execute_reply": "2022-07-16T15:55:31.715669Z"
    },
    "papermill": {
     "duration": 0.046442,
     "end_time": "2022-07-16T15:55:31.720031",
     "exception": false,
     "start_time": "2022-07-16T15:55:31.673589",
     "status": "completed"
    },
    "tags": []
   },
   "outputs": [
    {
     "name": "stdout",
     "output_type": "stream",
     "text": [
      "max: 275\n",
      "previously not contected customer: 0.8173674548229414\n"
     ]
    }
   ],
   "source": [
    "print(\"max:\" ,data1['previous'].max())\n",
    "print(\"previously not contected customer:\", len(data1[data1['previous']==0])/len(data1))"
   ]
  },
  {
   "cell_type": "code",
   "execution_count": 29,
   "id": "62699590",
   "metadata": {
    "execution": {
     "iopub.execute_input": "2022-07-16T15:55:31.783255Z",
     "iopub.status.busy": "2022-07-16T15:55:31.782239Z",
     "iopub.status.idle": "2022-07-16T15:55:31.789274Z",
     "shell.execute_reply": "2022-07-16T15:55:31.787887Z"
    },
    "papermill": {
     "duration": 0.040431,
     "end_time": "2022-07-16T15:55:31.791558",
     "exception": false,
     "start_time": "2022-07-16T15:55:31.751127",
     "status": "completed"
    },
    "tags": []
   },
   "outputs": [],
   "source": [
    "## customers previous contact more than 30  are replaced with  30\n",
    "data1['previous'] = np.where(data1['previous']>30, 30, data1['previous'])"
   ]
  },
  {
   "cell_type": "code",
   "execution_count": 30,
   "id": "690721b7",
   "metadata": {
    "execution": {
     "iopub.execute_input": "2022-07-16T15:55:31.853121Z",
     "iopub.status.busy": "2022-07-16T15:55:31.852181Z",
     "iopub.status.idle": "2022-07-16T15:55:32.208135Z",
     "shell.execute_reply": "2022-07-16T15:55:32.207377Z"
    },
    "papermill": {
     "duration": 0.38897,
     "end_time": "2022-07-16T15:55:32.210293",
     "exception": false,
     "start_time": "2022-07-16T15:55:31.821323",
     "status": "completed"
    },
    "tags": []
   },
   "outputs": [
    {
     "data": {
      "image/png": "[encoded data removed]",
      "text/plain": [
       "<Figure size 432x288 with 1 Axes>"
      ]
     },
     "metadata": {},
     "output_type": "display_data"
    }
   ],
   "source": [
    "# After outliers imputation \n",
    "sns.boxplot(x=data1['previous'])\n",
    "plt.title('Plot after Outlier imputation')\n",
    "plt.show()"
   ]
  },
  {
   "cell_type": "markdown",
   "id": "6f7733cd",
   "metadata": {
    "papermill": {
     "duration": 0.029608,
     "end_time": "2022-07-16T15:55:32.269687",
     "exception": false,
     "start_time": "2022-07-16T15:55:32.240079",
     "status": "completed"
    },
    "tags": []
   },
   "source": [
    "- By analyzing the previous data, we find that number of contacts performed before this campaign for particular customer should not be exceed 3. \n",
    "\n",
    "- Almost 75% customers were not previously contacted for loan.\n"
   ]
  },
  {
   "cell_type": "markdown",
   "id": "8c2d422b",
   "metadata": {
    "papermill": {
     "duration": 0.029491,
     "end_time": "2022-07-16T15:55:32.329083",
     "exception": false,
     "start_time": "2022-07-16T15:55:32.299592",
     "status": "completed"
    },
    "tags": []
   },
   "source": [
    "### Descriptive Statistics"
   ]
  },
  {
   "cell_type": "code",
   "execution_count": 31,
   "id": "0c966c4f",
   "metadata": {
    "execution": {
     "iopub.execute_input": "2022-07-16T15:55:32.392309Z",
     "iopub.status.busy": "2022-07-16T15:55:32.391917Z",
     "iopub.status.idle": "2022-07-16T15:55:32.438067Z",
     "shell.execute_reply": "2022-07-16T15:55:32.437007Z"
    },
    "papermill": {
     "duration": 0.080789,
     "end_time": "2022-07-16T15:55:32.440468",
     "exception": false,
     "start_time": "2022-07-16T15:55:32.359679",
     "status": "completed"
    },
    "tags": []
   },
   "outputs": [
    {
     "data": {
      "text/html": [
       "<div>\n",
       "<style scoped>\n",
       "    .dataframe tbody tr th:only-of-type {\n",
       "        vertical-align: middle;\n",
       "    }\n",
       "\n",
       "    .dataframe tbody tr th {\n",
       "        vertical-align: top;\n",
       "    }\n",
       "\n",
       "    .dataframe thead th {\n",
       "        text-align: right;\n",
       "    }\n",
       "</style>\n",
       "<table border=\"1\" class=\"dataframe\">\n",
       "  <thead>\n",
       "    <tr style=\"text-align: right;\">\n",
       "      <th></th>\n",
       "      <th>age</th>\n",
       "      <th>balance</th>\n",
       "      <th>day</th>\n",
       "      <th>duration</th>\n",
       "      <th>campaign</th>\n",
       "      <th>pdays</th>\n",
       "      <th>previous</th>\n",
       "    </tr>\n",
       "  </thead>\n",
       "  <tbody>\n",
       "    <tr>\n",
       "      <th>count</th>\n",
       "      <td>45211.000000</td>\n",
       "      <td>45211.000000</td>\n",
       "      <td>45211.000000</td>\n",
       "      <td>45211.000000</td>\n",
       "      <td>45211.000000</td>\n",
       "      <td>45211.000000</td>\n",
       "      <td>45211.000000</td>\n",
       "    </tr>\n",
       "    <tr>\n",
       "      <th>mean</th>\n",
       "      <td>40.868185</td>\n",
       "      <td>1362.272058</td>\n",
       "      <td>15.806419</td>\n",
       "      <td>258.163080</td>\n",
       "      <td>2.392228</td>\n",
       "      <td>40.197828</td>\n",
       "      <td>0.571985</td>\n",
       "    </tr>\n",
       "    <tr>\n",
       "      <th>std</th>\n",
       "      <td>10.394895</td>\n",
       "      <td>3044.765829</td>\n",
       "      <td>8.322476</td>\n",
       "      <td>257.527812</td>\n",
       "      <td>1.600111</td>\n",
       "      <td>100.128746</td>\n",
       "      <td>1.853639</td>\n",
       "    </tr>\n",
       "    <tr>\n",
       "      <th>min</th>\n",
       "      <td>18.000000</td>\n",
       "      <td>-8019.000000</td>\n",
       "      <td>1.000000</td>\n",
       "      <td>0.000000</td>\n",
       "      <td>1.000000</td>\n",
       "      <td>-1.000000</td>\n",
       "      <td>0.000000</td>\n",
       "    </tr>\n",
       "    <tr>\n",
       "      <th>25%</th>\n",
       "      <td>33.000000</td>\n",
       "      <td>72.000000</td>\n",
       "      <td>8.000000</td>\n",
       "      <td>103.000000</td>\n",
       "      <td>1.000000</td>\n",
       "      <td>-1.000000</td>\n",
       "      <td>0.000000</td>\n",
       "    </tr>\n",
       "    <tr>\n",
       "      <th>50%</th>\n",
       "      <td>39.000000</td>\n",
       "      <td>448.000000</td>\n",
       "      <td>16.000000</td>\n",
       "      <td>180.000000</td>\n",
       "      <td>2.000000</td>\n",
       "      <td>-1.000000</td>\n",
       "      <td>0.000000</td>\n",
       "    </tr>\n",
       "    <tr>\n",
       "      <th>75%</th>\n",
       "      <td>48.000000</td>\n",
       "      <td>1428.000000</td>\n",
       "      <td>21.000000</td>\n",
       "      <td>319.000000</td>\n",
       "      <td>3.000000</td>\n",
       "      <td>-1.000000</td>\n",
       "      <td>0.000000</td>\n",
       "    </tr>\n",
       "    <tr>\n",
       "      <th>max</th>\n",
       "      <td>70.500000</td>\n",
       "      <td>102127.000000</td>\n",
       "      <td>31.000000</td>\n",
       "      <td>4918.000000</td>\n",
       "      <td>6.000000</td>\n",
       "      <td>871.000000</td>\n",
       "      <td>30.000000</td>\n",
       "    </tr>\n",
       "  </tbody>\n",
       "</table>\n",
       "</div>"
      ],
      "text/plain": [
       "                age        balance           day      duration      campaign  \\\n",
       "count  45211.000000   45211.000000  45211.000000  45211.000000  45211.000000   \n",
       "mean      40.868185    1362.272058     15.806419    258.163080      2.392228   \n",
       "std       10.394895    3044.765829      8.322476    257.527812      1.600111   \n",
       "min       18.000000   -8019.000000      1.000000      0.000000      1.000000   \n",
       "25%       33.000000      72.000000      8.000000    103.000000      1.000000   \n",
       "50%       39.000000     448.000000     16.000000    180.000000      2.000000   \n",
       "75%       48.000000    1428.000000     21.000000    319.000000      3.000000   \n",
       "max       70.500000  102127.000000     31.000000   4918.000000      6.000000   \n",
       "\n",
       "              pdays      previous  \n",
       "count  45211.000000  45211.000000  \n",
       "mean      40.197828      0.571985  \n",
       "std      100.128746      1.853639  \n",
       "min       -1.000000      0.000000  \n",
       "25%       -1.000000      0.000000  \n",
       "50%       -1.000000      0.000000  \n",
       "75%       -1.000000      0.000000  \n",
       "max      871.000000     30.000000  "
      ]
     },
     "execution_count": 31,
     "metadata": {},
     "output_type": "execute_result"
    }
   ],
   "source": [
    "data2 = data1.copy()\n",
    "data2.describe()"
   ]
  },
  {
   "cell_type": "markdown",
   "id": "f2dab71a",
   "metadata": {
    "papermill": {
     "duration": 0.029832,
     "end_time": "2022-07-16T15:55:32.500598",
     "exception": false,
     "start_time": "2022-07-16T15:55:32.470766",
     "status": "completed"
    },
    "tags": []
   },
   "source": [
    "### Below conclusion can be done based on data summary:\n",
    "- Maximum age is 70.5 and minimum age is 18.\n",
    " \n",
    "- Minimum account balance of customer is in negative; it means some accounts are loan account and maximum balance is 102127.\n",
    "\n",
    "- Maximum number of contacts performed during this campaign for particular customer is 6 and minimum contact is 1.\n",
    "\n",
    "- Maximum number of days that passed by after the client was last contacted from a previous campaign is 871 and minimum days is -1, it means some customers are not contacted previously.\n",
    "\n",
    "- A large number of customers were not contacted in previous campaign and maximum time contact a customer should be 6.\n"
   ]
  },
  {
   "cell_type": "markdown",
   "id": "33a03211",
   "metadata": {
    "papermill": {
     "duration": 0.029922,
     "end_time": "2022-07-16T15:55:32.560615",
     "exception": false,
     "start_time": "2022-07-16T15:55:32.530693",
     "status": "completed"
    },
    "tags": []
   },
   "source": [
    "## 3.5 Univariate Analysis "
   ]
  },
  {
   "cell_type": "markdown",
   "id": "8d9779ce",
   "metadata": {
    "papermill": {
     "duration": 0.029745,
     "end_time": "2022-07-16T15:55:32.620520",
     "exception": false,
     "start_time": "2022-07-16T15:55:32.590775",
     "status": "completed"
    },
    "tags": []
   },
   "source": [
    "Univariate, in which we analyze date of just one variable. A variable in our dataset refers to a single feature/column."
   ]
  },
  {
   "cell_type": "markdown",
   "id": "9d803853",
   "metadata": {
    "papermill": {
     "duration": 0.02973,
     "end_time": "2022-07-16T15:55:32.682426",
     "exception": false,
     "start_time": "2022-07-16T15:55:32.652696",
     "status": "completed"
    },
    "tags": []
   },
   "source": [
    "### Analysis of deposit record of customers"
   ]
  },
  {
   "cell_type": "code",
   "execution_count": 32,
   "id": "427d71f8",
   "metadata": {
    "execution": {
     "iopub.execute_input": "2022-07-16T15:55:32.745149Z",
     "iopub.status.busy": "2022-07-16T15:55:32.744273Z",
     "iopub.status.idle": "2022-07-16T15:55:33.011377Z",
     "shell.execute_reply": "2022-07-16T15:55:33.010380Z"
    },
    "papermill": {
     "duration": 0.300687,
     "end_time": "2022-07-16T15:55:33.013709",
     "exception": false,
     "start_time": "2022-07-16T15:55:32.713022",
     "status": "completed"
    },
    "scrolled": true,
    "tags": []
   },
   "outputs": [
    {
     "name": "stdout",
     "output_type": "stream",
     "text": [
      "no     39922\n",
      "yes     5289\n",
      "Name: y, dtype: int64\n",
      "Yes deposit percentage: 11.7 %\n"
     ]
    },
    {
     "data": {
      "image/png": "[encoded data removed]",
      "text/plain": [
       "<Figure size 432x288 with 1 Axes>"
      ]
     },
     "metadata": {},
     "output_type": "display_data"
    }
   ],
   "source": [
    "# count of deposit of customer\n",
    "deposit_counts = data2['y'].value_counts()\n",
    "print(deposit_counts)\n",
    "print(\"Yes deposit percentage:\", np.round((data2[data2['y']=='yes'].shape[0]/data2.shape[0])*100,2),\"%\")\n",
    "\n",
    "# plot of customer deposit \n",
    "sns.countplot(data2.y)\n",
    "plt.show()"
   ]
  },
  {
   "cell_type": "markdown",
   "id": "0e2c01e0",
   "metadata": {
    "papermill": {
     "duration": 0.030301,
     "end_time": "2022-07-16T15:55:33.074830",
     "exception": false,
     "start_time": "2022-07-16T15:55:33.044529",
     "status": "completed"
    },
    "tags": []
   },
   "source": [
    "- Customers deposit for \"yes\" is around 11.7%.\n"
   ]
  },
  {
   "cell_type": "markdown",
   "id": "18574631",
   "metadata": {
    "papermill": {
     "duration": 0.030265,
     "end_time": "2022-07-16T15:55:33.135753",
     "exception": false,
     "start_time": "2022-07-16T15:55:33.105488",
     "status": "completed"
    },
    "tags": []
   },
   "source": [
    "### Analysis last contact month of year"
   ]
  },
  {
   "cell_type": "code",
   "execution_count": 33,
   "id": "0d430947",
   "metadata": {
    "execution": {
     "iopub.execute_input": "2022-07-16T15:55:33.199395Z",
     "iopub.status.busy": "2022-07-16T15:55:33.198648Z",
     "iopub.status.idle": "2022-07-16T15:55:33.568939Z",
     "shell.execute_reply": "2022-07-16T15:55:33.567822Z"
    },
    "papermill": {
     "duration": 0.404942,
     "end_time": "2022-07-16T15:55:33.571370",
     "exception": false,
     "start_time": "2022-07-16T15:55:33.166428",
     "status": "completed"
    },
    "tags": []
   },
   "outputs": [
    {
     "name": "stdout",
     "output_type": "stream",
     "text": [
      "may    13766\n",
      "jul     6895\n",
      "aug     6247\n",
      "jun     5341\n",
      "nov     3970\n",
      "apr     2932\n",
      "feb     2649\n",
      "jan     1403\n",
      "oct      738\n",
      "sep      579\n",
      "mar      477\n",
      "dec      214\n",
      "Name: month, dtype: int64\n"
     ]
    },
    {
     "data": {
      "image/png": "[encoded data removed]",
      "text/plain": [
       "<Figure size 432x288 with 1 Axes>"
      ]
     },
     "metadata": {},
     "output_type": "display_data"
    }
   ],
   "source": [
    "data3= data2.sort_values(['month'])\n",
    "month_counts = data3['month'].value_counts()\n",
    "print(month_counts)\n",
    "\n",
    "# plot\n",
    "sns.countplot(x='month', data= data3)\n",
    "plt.xticks(rotation=90)\n",
    "plt.show()"
   ]
  },
  {
   "cell_type": "markdown",
   "id": "e2c6bfd4",
   "metadata": {
    "papermill": {
     "duration": 0.030266,
     "end_time": "2022-07-16T15:55:33.632334",
     "exception": false,
     "start_time": "2022-07-16T15:55:33.602068",
     "status": "completed"
    },
    "tags": []
   },
   "source": [
    "- By analyzing above figure, we can see that maximum customers were contacted in month of \"may\" and minimum contacted (in month of \"dec\". It means our previous campaign was most active during summer time."
   ]
  },
  {
   "cell_type": "markdown",
   "id": "eb7cc991",
   "metadata": {
    "papermill": {
     "duration": 0.030318,
     "end_time": "2022-07-16T15:55:33.693293",
     "exception": false,
     "start_time": "2022-07-16T15:55:33.662975",
     "status": "completed"
    },
    "tags": []
   },
   "source": [
    "### Communication Types"
   ]
  },
  {
   "cell_type": "code",
   "execution_count": 34,
   "id": "5bc1b335",
   "metadata": {
    "execution": {
     "iopub.execute_input": "2022-07-16T15:55:33.757720Z",
     "iopub.status.busy": "2022-07-16T15:55:33.756966Z",
     "iopub.status.idle": "2022-07-16T15:55:33.991900Z",
     "shell.execute_reply": "2022-07-16T15:55:33.990735Z"
    },
    "papermill": {
     "duration": 0.270273,
     "end_time": "2022-07-16T15:55:33.994291",
     "exception": false,
     "start_time": "2022-07-16T15:55:33.724018",
     "status": "completed"
    },
    "tags": []
   },
   "outputs": [
    {
     "name": "stdout",
     "output_type": "stream",
     "text": [
      "cellular     29285\n",
      "unknown      13020\n",
      "telephone     2906\n",
      "Name: contact, dtype: int64\n"
     ]
    },
    {
     "data": {
      "image/png": "[encoded data removed]",
      "text/plain": [
       "<Figure size 432x288 with 1 Axes>"
      ]
     },
     "metadata": {},
     "output_type": "display_data"
    }
   ],
   "source": [
    "contact_counts = data2['contact'].value_counts()\n",
    "print(contact_counts)\n",
    "\n",
    "# plot\n",
    "sns.countplot(x='contact', data= data2)\n",
    "plt.show()"
   ]
  },
  {
   "cell_type": "markdown",
   "id": "0b1d4aa4",
   "metadata": {
    "papermill": {
     "duration": 0.030744,
     "end_time": "2022-07-16T15:55:34.056104",
     "exception": false,
     "start_time": "2022-07-16T15:55:34.025360",
     "status": "completed"
    },
    "tags": []
   },
   "source": [
    "- \tMaximum customer prefers communication via cellular and minimum communication via telephone."
   ]
  },
  {
   "cell_type": "markdown",
   "id": "56d0d1df",
   "metadata": {
    "papermill": {
     "duration": 0.030865,
     "end_time": "2022-07-16T15:55:34.117949",
     "exception": false,
     "start_time": "2022-07-16T15:55:34.087084",
     "status": "completed"
    },
    "tags": []
   },
   "source": [
    "### Analysis of marital status of customers"
   ]
  },
  {
   "cell_type": "code",
   "execution_count": 35,
   "id": "a4d86f8f",
   "metadata": {
    "execution": {
     "iopub.execute_input": "2022-07-16T15:55:34.182568Z",
     "iopub.status.busy": "2022-07-16T15:55:34.181790Z",
     "iopub.status.idle": "2022-07-16T15:55:34.304925Z",
     "shell.execute_reply": "2022-07-16T15:55:34.304138Z"
    },
    "papermill": {
     "duration": 0.158278,
     "end_time": "2022-07-16T15:55:34.307451",
     "exception": false,
     "start_time": "2022-07-16T15:55:34.149173",
     "status": "completed"
    },
    "tags": []
   },
   "outputs": [
    {
     "name": "stdout",
     "output_type": "stream",
     "text": [
      "married     27214\n",
      "single      12790\n",
      "divorced     5207\n",
      "Name: marital, dtype: int64\n"
     ]
    },
    {
     "data": {
      "image/png": "[encoded data removed]",
      "text/plain": [
       "<Figure size 432x288 with 1 Axes>"
      ]
     },
     "metadata": {},
     "output_type": "display_data"
    }
   ],
   "source": [
    "# count of marital status of customer\n",
    "marital_counts = data2['marital'].value_counts()\n",
    "print(marital_counts) \n",
    "\n",
    "plt.pie(data2['marital'].value_counts(), labels=data2['marital'].unique(), autopct='%1.2f%%')\n",
    "plt.show()"
   ]
  },
  {
   "cell_type": "markdown",
   "id": "72935dbe",
   "metadata": {
    "papermill": {
     "duration": 0.031957,
     "end_time": "2022-07-16T15:55:34.371484",
     "exception": false,
     "start_time": "2022-07-16T15:55:34.339527",
     "status": "completed"
    },
    "tags": []
   },
   "source": [
    "- By analyzing the figure above, we can see that customer marital status has three categories (Single, Divorced, Married).\n",
    "\n",
    "- Married customers are maximum (60.19%) and minimum customers are divorced (11.52%)."
   ]
  },
  {
   "cell_type": "markdown",
   "id": "0a2b72ef",
   "metadata": {
    "papermill": {
     "duration": 0.031718,
     "end_time": "2022-07-16T15:55:34.435461",
     "exception": false,
     "start_time": "2022-07-16T15:55:34.403743",
     "status": "completed"
    },
    "tags": []
   },
   "source": [
    "### Housing loan"
   ]
  },
  {
   "cell_type": "code",
   "execution_count": 36,
   "id": "15825aa5",
   "metadata": {
    "execution": {
     "iopub.execute_input": "2022-07-16T15:55:34.501385Z",
     "iopub.status.busy": "2022-07-16T15:55:34.500675Z",
     "iopub.status.idle": "2022-07-16T15:55:34.739996Z",
     "shell.execute_reply": "2022-07-16T15:55:34.739021Z"
    },
    "papermill": {
     "duration": 0.27488,
     "end_time": "2022-07-16T15:55:34.742348",
     "exception": false,
     "start_time": "2022-07-16T15:55:34.467468",
     "status": "completed"
    },
    "tags": []
   },
   "outputs": [
    {
     "name": "stdout",
     "output_type": "stream",
     "text": [
      "yes    25130\n",
      "no     20081\n",
      "Name: housing, dtype: int64\n",
      "yes precentage for house loan: 0.556\n"
     ]
    },
    {
     "data": {
      "text/plain": [
       "<AxesSubplot:xlabel='housing', ylabel='count'>"
      ]
     },
     "execution_count": 36,
     "metadata": {},
     "output_type": "execute_result"
    },
    {
     "data": {
      "image/png": "[encoded data removed]",
      "text/plain": [
       "<Figure size 432x288 with 1 Axes>"
      ]
     },
     "metadata": {},
     "output_type": "display_data"
    }
   ],
   "source": [
    "housing_loan_counts = data2['housing'].value_counts()\n",
    "print(housing_loan_counts )\n",
    "print(\"yes precentage for house loan:\", np.round(data2[data2['housing']=='yes'].shape[0]/data2.shape[0],3))\n",
    "sns.countplot(x='housing',data=data2)"
   ]
  },
  {
   "cell_type": "markdown",
   "id": "ac669dd7",
   "metadata": {
    "papermill": {
     "duration": 0.031732,
     "end_time": "2022-07-16T15:55:34.806484",
     "exception": false,
     "start_time": "2022-07-16T15:55:34.774752",
     "status": "completed"
    },
    "tags": []
   },
   "source": [
    "- The positive deposit of customers for housing loan around 55.6%."
   ]
  },
  {
   "cell_type": "markdown",
   "id": "b9f2fe14",
   "metadata": {
    "papermill": {
     "duration": 0.032494,
     "end_time": "2022-07-16T15:55:34.871180",
     "exception": false,
     "start_time": "2022-07-16T15:55:34.838686",
     "status": "completed"
    },
    "tags": []
   },
   "source": [
    "### Loan"
   ]
  },
  {
   "cell_type": "code",
   "execution_count": 37,
   "id": "030e10fd",
   "metadata": {
    "execution": {
     "iopub.execute_input": "2022-07-16T15:55:34.937410Z",
     "iopub.status.busy": "2022-07-16T15:55:34.937030Z",
     "iopub.status.idle": "2022-07-16T15:55:35.182614Z",
     "shell.execute_reply": "2022-07-16T15:55:35.181472Z"
    },
    "papermill": {
     "duration": 0.281884,
     "end_time": "2022-07-16T15:55:35.185106",
     "exception": false,
     "start_time": "2022-07-16T15:55:34.903222",
     "status": "completed"
    },
    "tags": []
   },
   "outputs": [
    {
     "name": "stdout",
     "output_type": "stream",
     "text": [
      "no     37967\n",
      "yes     7244\n",
      "Name: loan, dtype: int64\n",
      "yes precentage for loan: 0.16\n"
     ]
    },
    {
     "data": {
      "text/plain": [
       "<AxesSubplot:xlabel='loan', ylabel='count'>"
      ]
     },
     "execution_count": 37,
     "metadata": {},
     "output_type": "execute_result"
    },
    {
     "data": {
      "image/png": "[encoded data removed]",
      "text/plain": [
       "<Figure size 432x288 with 1 Axes>"
      ]
     },
     "metadata": {},
     "output_type": "display_data"
    }
   ],
   "source": [
    "loan_counts = data2['loan'].value_counts()\n",
    "print(loan_counts )\n",
    "print(\"yes precentage for loan:\", np.round(data2[data2['loan']=='yes'].shape[0]/data2.shape[0],3))\n",
    "sns.countplot(x='loan',data=data2)"
   ]
  },
  {
   "cell_type": "markdown",
   "id": "b645a51f",
   "metadata": {
    "papermill": {
     "duration": 0.032212,
     "end_time": "2022-07-16T15:55:35.250812",
     "exception": false,
     "start_time": "2022-07-16T15:55:35.218600",
     "status": "completed"
    },
    "tags": []
   },
   "source": [
    "- Most of customers deposit \"no\" for personal loan and \"yes\" deposit percentage is 16%."
   ]
  },
  {
   "cell_type": "markdown",
   "id": "fbec17e4",
   "metadata": {
    "papermill": {
     "duration": 0.032533,
     "end_time": "2022-07-16T15:55:35.315935",
     "exception": false,
     "start_time": "2022-07-16T15:55:35.283402",
     "status": "completed"
    },
    "tags": []
   },
   "source": [
    "### Analysis of type of jobs of customers"
   ]
  },
  {
   "cell_type": "code",
   "execution_count": 38,
   "id": "1329789a",
   "metadata": {
    "execution": {
     "iopub.execute_input": "2022-07-16T15:55:35.383707Z",
     "iopub.status.busy": "2022-07-16T15:55:35.382700Z",
     "iopub.status.idle": "2022-07-16T15:55:35.674546Z",
     "shell.execute_reply": "2022-07-16T15:55:35.673486Z"
    },
    "papermill": {
     "duration": 0.328113,
     "end_time": "2022-07-16T15:55:35.676991",
     "exception": false,
     "start_time": "2022-07-16T15:55:35.348878",
     "status": "completed"
    },
    "tags": []
   },
   "outputs": [
    {
     "name": "stdout",
     "output_type": "stream",
     "text": [
      "blue-collar      9732\n",
      "management       9458\n",
      "technician       7597\n",
      "admin.           5171\n",
      "services         4154\n",
      "retired          2264\n",
      "self-employed    1579\n",
      "entrepreneur     1487\n",
      "unemployed       1303\n",
      "housemaid        1240\n",
      "student           938\n",
      "unknown           288\n",
      "Name: job, dtype: int64\n"
     ]
    },
    {
     "data": {
      "text/plain": [
       "<AxesSubplot:title={'center':'Job types of customers'}>"
      ]
     },
     "execution_count": 38,
     "metadata": {},
     "output_type": "execute_result"
    },
    {
     "data": {
      "image/png": "[encoded data removed]",
      "text/plain": [
       "<Figure size 1152x648 with 1 Axes>"
      ]
     },
     "metadata": {},
     "output_type": "display_data"
    }
   ],
   "source": [
    "# count of job types of customer\n",
    "job_counts = data2['job'].value_counts()\n",
    "print(job_counts)\n",
    "# Bar plot\n",
    "plt.subplot(221)\n",
    "data2['job'].value_counts().plot(kind='bar', title='Job types of customers',figsize=(16,9))"
   ]
  },
  {
   "cell_type": "markdown",
   "id": "be2b103b",
   "metadata": {
    "papermill": {
     "duration": 0.03373,
     "end_time": "2022-07-16T15:55:35.744502",
     "exception": false,
     "start_time": "2022-07-16T15:55:35.710772",
     "status": "completed"
    },
    "tags": []
   },
   "source": [
    "- Maximum customers have management jobs and some part of jobs types is unknown.\n"
   ]
  },
  {
   "cell_type": "markdown",
   "id": "404e162e",
   "metadata": {
    "papermill": {
     "duration": 0.033316,
     "end_time": "2022-07-16T15:55:35.811317",
     "exception": false,
     "start_time": "2022-07-16T15:55:35.778001",
     "status": "completed"
    },
    "tags": []
   },
   "source": [
    "### Analysis of Poutcome"
   ]
  },
  {
   "cell_type": "code",
   "execution_count": 39,
   "id": "b15e3808",
   "metadata": {
    "execution": {
     "iopub.execute_input": "2022-07-16T15:55:35.880590Z",
     "iopub.status.busy": "2022-07-16T15:55:35.880178Z",
     "iopub.status.idle": "2022-07-16T15:55:36.010711Z",
     "shell.execute_reply": "2022-07-16T15:55:36.008326Z"
    },
    "papermill": {
     "duration": 0.169557,
     "end_time": "2022-07-16T15:55:36.014213",
     "exception": false,
     "start_time": "2022-07-16T15:55:35.844656",
     "status": "completed"
    },
    "tags": []
   },
   "outputs": [
    {
     "name": "stdout",
     "output_type": "stream",
     "text": [
      "unknown    36959\n",
      "failure     4901\n",
      "other       1840\n",
      "success     1511\n",
      "Name: poutcome, dtype: int64\n"
     ]
    },
    {
     "data": {
      "image/png": "[encoded data removed]",
      "text/plain": [
       "<Figure size 432x288 with 1 Axes>"
      ]
     },
     "metadata": {},
     "output_type": "display_data"
    }
   ],
   "source": [
    "# count of previously targeted customer\n",
    "poutcome_counts = data2['poutcome'].value_counts()\n",
    "print(poutcome_counts) \n",
    "\n",
    "plt.pie(data2['poutcome'].value_counts(), labels=data2['poutcome'].unique(), autopct='%1.2f%%')\n",
    "plt.show()"
   ]
  },
  {
   "cell_type": "markdown",
   "id": "0bf1a6a1",
   "metadata": {
    "papermill": {
     "duration": 0.040839,
     "end_time": "2022-07-16T15:55:36.118198",
     "exception": false,
     "start_time": "2022-07-16T15:55:36.077359",
     "status": "completed"
    },
    "tags": []
   },
   "source": [
    "- By analyzing above graph, we find that outcome of the previous marketing campaign was not pretty good. As we can see that success rate is 3.34% which is very low.\n",
    "\n",
    "- Almost 81.75% outcome is unknown and 10.84% campaign outcome is failure and 4.07% outcome goes for another category."
   ]
  },
  {
   "cell_type": "markdown",
   "id": "f72b790e",
   "metadata": {
    "papermill": {
     "duration": 0.033805,
     "end_time": "2022-07-16T15:55:36.185968",
     "exception": false,
     "start_time": "2022-07-16T15:55:36.152163",
     "status": "completed"
    },
    "tags": []
   },
   "source": [
    "### Analysis of Default credit"
   ]
  },
  {
   "cell_type": "code",
   "execution_count": 40,
   "id": "3ab5cc18",
   "metadata": {
    "execution": {
     "iopub.execute_input": "2022-07-16T15:55:36.255713Z",
     "iopub.status.busy": "2022-07-16T15:55:36.254739Z",
     "iopub.status.idle": "2022-07-16T15:55:36.475573Z",
     "shell.execute_reply": "2022-07-16T15:55:36.474605Z"
    },
    "papermill": {
     "duration": 0.258081,
     "end_time": "2022-07-16T15:55:36.477754",
     "exception": false,
     "start_time": "2022-07-16T15:55:36.219673",
     "status": "completed"
    },
    "tags": []
   },
   "outputs": [
    {
     "name": "stdout",
     "output_type": "stream",
     "text": [
      "no     44396\n",
      "yes      815\n",
      "Name: default, dtype: int64\n"
     ]
    },
    {
     "data": {
      "text/plain": [
       "<AxesSubplot:xlabel='default', ylabel='count'>"
      ]
     },
     "execution_count": 40,
     "metadata": {},
     "output_type": "execute_result"
    },
    {
     "data": {
      "image/png": "[encoded data removed]",
      "text/plain": [
       "<Figure size 432x288 with 1 Axes>"
      ]
     },
     "metadata": {},
     "output_type": "display_data"
    }
   ],
   "source": [
    "# count of job types of customer\n",
    "job_counts = data2['default'].value_counts()\n",
    "print(job_counts)\n",
    "sns.countplot(x='default',data=data2)"
   ]
  },
  {
   "cell_type": "markdown",
   "id": "42525558",
   "metadata": {
    "papermill": {
     "duration": 0.034525,
     "end_time": "2022-07-16T15:55:36.547256",
     "exception": false,
     "start_time": "2022-07-16T15:55:36.512731",
     "status": "completed"
    },
    "tags": []
   },
   "source": [
    "- The count for default loan is less."
   ]
  },
  {
   "cell_type": "markdown",
   "id": "de00903b",
   "metadata": {
    "papermill": {
     "duration": 0.034038,
     "end_time": "2022-07-16T15:55:36.616025",
     "exception": false,
     "start_time": "2022-07-16T15:55:36.581987",
     "status": "completed"
    },
    "tags": []
   },
   "source": [
    "\n",
    "###  Analysis of customers education"
   ]
  },
  {
   "cell_type": "code",
   "execution_count": 41,
   "id": "48049134",
   "metadata": {
    "execution": {
     "iopub.execute_input": "2022-07-16T15:55:36.686552Z",
     "iopub.status.busy": "2022-07-16T15:55:36.685929Z",
     "iopub.status.idle": "2022-07-16T15:55:36.922016Z",
     "shell.execute_reply": "2022-07-16T15:55:36.921161Z"
    },
    "papermill": {
     "duration": 0.273835,
     "end_time": "2022-07-16T15:55:36.924102",
     "exception": false,
     "start_time": "2022-07-16T15:55:36.650267",
     "status": "completed"
    },
    "tags": []
   },
   "outputs": [
    {
     "name": "stdout",
     "output_type": "stream",
     "text": [
      "secondary    23202\n",
      "tertiary     13301\n",
      "primary       6851\n",
      "unknown       1857\n",
      "Name: education, dtype: int64\n"
     ]
    },
    {
     "data": {
      "image/png": "[encoded data removed]",
      "text/plain": [
       "<Figure size 432x288 with 1 Axes>"
      ]
     },
     "metadata": {},
     "output_type": "display_data"
    }
   ],
   "source": [
    "# count of education type of customers\n",
    "education_counts = data2['education'].value_counts()\n",
    "print(education_counts)\n",
    "# plot of customer eduaction type\n",
    "sns.countplot(data2.education)\n",
    "plt.show()"
   ]
  },
  {
   "cell_type": "markdown",
   "id": "54e78f99",
   "metadata": {
    "papermill": {
     "duration": 0.034487,
     "end_time": "2022-07-16T15:55:36.993210",
     "exception": false,
     "start_time": "2022-07-16T15:55:36.958723",
     "status": "completed"
    },
    "tags": []
   },
   "source": [
    "- Maximum customers belong to secondary education category and some count of education type is unknown.\n",
    "\n",
    "- Education type count decrease from secondary to primary.\n"
   ]
  },
  {
   "cell_type": "markdown",
   "id": "1f8efd91",
   "metadata": {
    "papermill": {
     "duration": 0.034604,
     "end_time": "2022-07-16T15:55:37.062338",
     "exception": false,
     "start_time": "2022-07-16T15:55:37.027734",
     "status": "completed"
    },
    "tags": []
   },
   "source": [
    "### Distribution plots of numeric columns¶"
   ]
  },
  {
   "cell_type": "code",
   "execution_count": 42,
   "id": "cc6233f7",
   "metadata": {
    "execution": {
     "iopub.execute_input": "2022-07-16T15:55:37.134239Z",
     "iopub.status.busy": "2022-07-16T15:55:37.133564Z",
     "iopub.status.idle": "2022-07-16T15:55:39.171325Z",
     "shell.execute_reply": "2022-07-16T15:55:39.170251Z"
    },
    "papermill": {
     "duration": 2.076608,
     "end_time": "2022-07-16T15:55:39.173650",
     "exception": false,
     "start_time": "2022-07-16T15:55:37.097042",
     "status": "completed"
    },
    "tags": []
   },
   "outputs": [
    {
     "data": {
      "image/png": "[encoded data removed]",
      "text/plain": [
       "<Figure size 1440x1152 with 9 Axes>"
      ]
     },
     "metadata": {
      "needs_background": "light"
     },
     "output_type": "display_data"
    }
   ],
   "source": [
    "%matplotlib inline\n",
    "data2.hist(bins = 50, figsize=(20,16), color = 'blue') \n",
    "plt.show()"
   ]
  },
  {
   "cell_type": "markdown",
   "id": "2c3f6140",
   "metadata": {
    "papermill": {
     "duration": 0.034975,
     "end_time": "2022-07-16T15:55:39.244001",
     "exception": false,
     "start_time": "2022-07-16T15:55:39.209026",
     "status": "completed"
    },
    "tags": []
   },
   "source": [
    "## 3.6 Bivariate Analysis"
   ]
  },
  {
   "cell_type": "markdown",
   "id": "509ca645",
   "metadata": {
    "papermill": {
     "duration": 0.035542,
     "end_time": "2022-07-16T15:55:39.314643",
     "exception": false,
     "start_time": "2022-07-16T15:55:39.279101",
     "status": "completed"
    },
    "tags": []
   },
   "source": [
    "### Comparision of job, education, marital and contact data with target variable \"deposit\""
   ]
  },
  {
   "cell_type": "code",
   "execution_count": 43,
   "id": "1b25e0c4",
   "metadata": {
    "execution": {
     "iopub.execute_input": "2022-07-16T15:55:39.386827Z",
     "iopub.status.busy": "2022-07-16T15:55:39.386419Z",
     "iopub.status.idle": "2022-07-16T15:55:40.394676Z",
     "shell.execute_reply": "2022-07-16T15:55:40.393598Z"
    },
    "papermill": {
     "duration": 1.046909,
     "end_time": "2022-07-16T15:55:40.396852",
     "exception": false,
     "start_time": "2022-07-16T15:55:39.349943",
     "status": "completed"
    },
    "tags": []
   },
   "outputs": [
    {
     "data": {
      "image/png": "[encoded data removed]",
      "text/plain": [
       "<Figure size 432x432 with 1 Axes>"
      ]
     },
     "metadata": {
      "needs_background": "light"
     },
     "output_type": "display_data"
    },
    {
     "data": {
      "image/png": "[encoded data removed]",
      "text/plain": [
       "<Figure size 432x432 with 1 Axes>"
      ]
     },
     "metadata": {
      "needs_background": "light"
     },
     "output_type": "display_data"
    },
    {
     "data": {
      "image/png": "[encoded data removed]",
      "text/plain": [
       "<Figure size 432x432 with 1 Axes>"
      ]
     },
     "metadata": {
      "needs_background": "light"
     },
     "output_type": "display_data"
    },
    {
     "data": {
      "image/png": "[encoded data removed]",
      "text/plain": [
       "<Figure size 432x432 with 1 Axes>"
      ]
     },
     "metadata": {
      "needs_background": "light"
     },
     "output_type": "display_data"
    }
   ],
   "source": [
    "# job vs deposit \n",
    "pd.crosstab(data2.job,data2.y).plot(kind=\"bar\",figsize=(6,6),color=['black','blue'])\n",
    "plt.title('Job Distribution')\n",
    "plt.ylabel('Frequency')\n",
    "# education vs deposit\n",
    "pd.crosstab(data2.education,data2.y).plot(kind=\"bar\",figsize=(6,6),color=['black','blue'])\n",
    "plt.title('Education Distribution')\n",
    "plt.ylabel('Frequency')\n",
    "# marital vs deposit\n",
    "pd.crosstab(data2.marital,data2.y).plot(kind=\"bar\",figsize=(6,6),color=['black','blue'])\n",
    "plt.title('Marital status Distribution')\n",
    "plt.ylabel('Frequency')\n",
    "# contact vs deposit\n",
    "pd.crosstab(data2.contact,data2.y).plot(kind=\"bar\",figsize=(6,6),color=['black','blue'])\n",
    "plt.title('Communication type Distribution')\n",
    "plt.ylabel('Frequency')\n",
    "plt.show()"
   ]
  },
  {
   "cell_type": "markdown",
   "id": "b4c24c41",
   "metadata": {
    "papermill": {
     "duration": 0.037209,
     "end_time": "2022-07-16T15:55:40.472439",
     "exception": false,
     "start_time": "2022-07-16T15:55:40.435230",
     "status": "completed"
    },
    "tags": []
   },
   "source": [
    "### Comparision of housing loan, loan and default data with target variable \"deposit\""
   ]
  },
  {
   "cell_type": "code",
   "execution_count": 44,
   "id": "54263443",
   "metadata": {
    "execution": {
     "iopub.execute_input": "2022-07-16T15:55:40.549712Z",
     "iopub.status.busy": "2022-07-16T15:55:40.549311Z",
     "iopub.status.idle": "2022-07-16T15:55:41.140794Z",
     "shell.execute_reply": "2022-07-16T15:55:41.139702Z"
    },
    "papermill": {
     "duration": 0.63274,
     "end_time": "2022-07-16T15:55:41.143414",
     "exception": false,
     "start_time": "2022-07-16T15:55:40.510674",
     "status": "completed"
    },
    "tags": []
   },
   "outputs": [
    {
     "data": {
      "text/plain": [
       "Text(0, 0.5, 'Frequency')"
      ]
     },
     "execution_count": 44,
     "metadata": {},
     "output_type": "execute_result"
    },
    {
     "data": {
      "image/png": "[encoded data removed]",
      "text/plain": [
       "<Figure size 432x432 with 1 Axes>"
      ]
     },
     "metadata": {
      "needs_background": "light"
     },
     "output_type": "display_data"
    },
    {
     "data": {
      "image/png": "[encoded data removed]",
      "text/plain": [
       "<Figure size 432x432 with 1 Axes>"
      ]
     },
     "metadata": {
      "needs_background": "light"
     },
     "output_type": "display_data"
    },
    {
     "data": {
      "image/png": "[encoded data removed]",
      "text/plain": [
       "<Figure size 432x432 with 1 Axes>"
      ]
     },
     "metadata": {
      "needs_background": "light"
     },
     "output_type": "display_data"
    }
   ],
   "source": [
    "# housing vs deposit\n",
    "pd.crosstab(data2.housing,data2.y).plot(kind=\"bar\",figsize=(6,6),color=['black','blue'])\n",
    "plt.title('House loan Distribution')\n",
    "plt.ylabel('Frequency')\n",
    "# loan vs deposit\n",
    "pd.crosstab(data2.loan,data2.y).plot(kind=\"bar\",figsize=(6,6),color=['black','blue'])\n",
    "plt.title('Loan Distribution')\n",
    "plt.ylabel('Frequency')\n",
    "# default vs deposit\n",
    "pd.crosstab(data2.default,data2.y).plot(kind=\"bar\",figsize=(6,6),color=['black','blue'])\n",
    "plt.title('Default loan Distribution')\n",
    "plt.ylabel('Frequency')"
   ]
  },
  {
   "cell_type": "markdown",
   "id": "664e7006",
   "metadata": {
    "papermill": {
     "duration": 0.037573,
     "end_time": "2022-07-16T15:55:41.219026",
     "exception": false,
     "start_time": "2022-07-16T15:55:41.181453",
     "status": "completed"
    },
    "tags": []
   },
   "source": [
    "### Comparision of campaign, poutcome and month data with target variable \"deposit\""
   ]
  },
  {
   "cell_type": "code",
   "execution_count": 45,
   "id": "ad58bb62",
   "metadata": {
    "execution": {
     "iopub.execute_input": "2022-07-16T15:55:41.297144Z",
     "iopub.status.busy": "2022-07-16T15:55:41.296373Z",
     "iopub.status.idle": "2022-07-16T15:55:42.139305Z",
     "shell.execute_reply": "2022-07-16T15:55:42.138232Z"
    },
    "papermill": {
     "duration": 0.884986,
     "end_time": "2022-07-16T15:55:42.141803",
     "exception": false,
     "start_time": "2022-07-16T15:55:41.256817",
     "status": "completed"
    },
    "tags": []
   },
   "outputs": [
    {
     "data": {
      "text/plain": [
       "Text(0, 0.5, 'Frequency')"
      ]
     },
     "execution_count": 45,
     "metadata": {},
     "output_type": "execute_result"
    },
    {
     "data": {
      "image/png": "[encoded data removed]",
      "text/plain": [
       "<Figure size 576x432 with 1 Axes>"
      ]
     },
     "metadata": {
      "needs_background": "light"
     },
     "output_type": "display_data"
    },
    {
     "data": {
      "image/png": "[encoded data removed]",
      "text/plain": [
       "<Figure size 576x432 with 1 Axes>"
      ]
     },
     "metadata": {
      "needs_background": "light"
     },
     "output_type": "display_data"
    },
    {
     "data": {
      "image/png": "[encoded data removed]",
      "text/plain": [
       "<Figure size 576x432 with 1 Axes>"
      ]
     },
     "metadata": {
      "needs_background": "light"
     },
     "output_type": "display_data"
    }
   ],
   "source": [
    "# campaign vs deposit\n",
    "pd.crosstab(data2.campaign,data2.y).plot(kind=\"bar\",figsize=(8,6),color=['black','blue'])\n",
    "plt.title('Campaign Distribution')\n",
    "plt.ylabel('Frequency')\n",
    "# poutcome vs deposit\n",
    "pd.crosstab(data2.poutcome,data2.y).plot(kind=\"bar\",figsize=(8,6),color=['black','blue'])\n",
    "plt.title('poutcome Distribution')\n",
    "plt.ylabel('Frequency')\n",
    "# month vs deposit\n",
    "pd.crosstab(data2.month,data2.y).plot(kind=\"bar\",figsize=(8,6),color=['black','blue'])\n",
    "plt.title('Month Distribution')\n",
    "plt.ylabel('Frequency')"
   ]
  },
  {
   "cell_type": "code",
   "execution_count": 46,
   "id": "7b0f4867",
   "metadata": {
    "execution": {
     "iopub.execute_input": "2022-07-16T15:55:42.223822Z",
     "iopub.status.busy": "2022-07-16T15:55:42.223425Z",
     "iopub.status.idle": "2022-07-16T15:55:42.284616Z",
     "shell.execute_reply": "2022-07-16T15:55:42.283120Z"
    },
    "papermill": {
     "duration": 0.104952,
     "end_time": "2022-07-16T15:55:42.287289",
     "exception": false,
     "start_time": "2022-07-16T15:55:42.182337",
     "status": "completed"
    },
    "tags": []
   },
   "outputs": [
    {
     "name": "stdout",
     "output_type": "stream",
     "text": [
      "Yes deposit percentage for may month:  6.7195\n",
      "Yes deposit percentage for march month:  51.9916\n",
      "Yes deposit percentage for october month:  43.7669\n",
      "Yes deposit percentage for september month:  46.4594\n",
      "Yes deposit percentage for august month:  11.0133\n"
     ]
    }
   ],
   "source": [
    "a1 = data2[(data2['month']=='may')]['y'].value_counts()\n",
    "print(\"Yes deposit percentage for may month: \", np.round((a1['yes']/(a1['yes']+a1['no']))*100,4))\n",
    "\n",
    "a1 = data2[(data2['month']=='mar')]['y'].value_counts()\n",
    "print(\"Yes deposit percentage for march month: \", np.round((a1['yes']/(a1['yes']+a1['no']))*100,4))\n",
    "\n",
    "a1 = data2[(data2['month']=='oct')]['y'].value_counts()\n",
    "print(\"Yes deposit percentage for october month: \", np.round((a1['yes']/(a1['yes']+a1['no']))*100,4))\n",
    "\n",
    "a1 = data2[(data2['month']=='sep')]['y'].value_counts()\n",
    "print(\"Yes deposit percentage for september month: \", np.round((a1['yes']/(a1['yes']+a1['no']))*100,4))\n",
    "\n",
    "a1 = data2[(data2['month']=='aug')]['y'].value_counts()\n",
    "print(\"Yes deposit percentage for august month: \", np.round((a1['yes']/(a1['yes']+a1['no']))*100,4))\n",
    "\n"
   ]
  },
  {
   "cell_type": "markdown",
   "id": "77d5b6d2",
   "metadata": {
    "papermill": {
     "duration": 0.038843,
     "end_time": "2022-07-16T15:55:42.365908",
     "exception": false,
     "start_time": "2022-07-16T15:55:42.327065",
     "status": "completed"
    },
    "tags": []
   },
   "source": [
    "### Comparision of call duration with target variable \"deposit\""
   ]
  },
  {
   "cell_type": "code",
   "execution_count": 47,
   "id": "282361bd",
   "metadata": {
    "execution": {
     "iopub.execute_input": "2022-07-16T15:55:42.446416Z",
     "iopub.status.busy": "2022-07-16T15:55:42.445575Z",
     "iopub.status.idle": "2022-07-16T15:55:42.476072Z",
     "shell.execute_reply": "2022-07-16T15:55:42.475186Z"
    },
    "papermill": {
     "duration": 0.072909,
     "end_time": "2022-07-16T15:55:42.478324",
     "exception": false,
     "start_time": "2022-07-16T15:55:42.405415",
     "status": "completed"
    },
    "tags": []
   },
   "outputs": [
    {
     "data": {
      "text/html": [
       "<div>\n",
       "<style scoped>\n",
       "    .dataframe tbody tr th:only-of-type {\n",
       "        vertical-align: middle;\n",
       "    }\n",
       "\n",
       "    .dataframe tbody tr th {\n",
       "        vertical-align: top;\n",
       "    }\n",
       "\n",
       "    .dataframe thead th {\n",
       "        text-align: right;\n",
       "    }\n",
       "</style>\n",
       "<table border=\"1\" class=\"dataframe\">\n",
       "  <thead>\n",
       "    <tr style=\"text-align: right;\">\n",
       "      <th></th>\n",
       "      <th>age</th>\n",
       "      <th>job</th>\n",
       "      <th>marital</th>\n",
       "      <th>education</th>\n",
       "      <th>default</th>\n",
       "      <th>balance</th>\n",
       "      <th>housing</th>\n",
       "      <th>loan</th>\n",
       "      <th>contact</th>\n",
       "      <th>day</th>\n",
       "      <th>month</th>\n",
       "      <th>duration</th>\n",
       "      <th>campaign</th>\n",
       "      <th>pdays</th>\n",
       "      <th>previous</th>\n",
       "      <th>poutcome</th>\n",
       "      <th>y</th>\n",
       "      <th>duration_bins_sec</th>\n",
       "    </tr>\n",
       "  </thead>\n",
       "  <tbody>\n",
       "    <tr>\n",
       "      <th>0</th>\n",
       "      <td>58.0</td>\n",
       "      <td>management</td>\n",
       "      <td>married</td>\n",
       "      <td>tertiary</td>\n",
       "      <td>no</td>\n",
       "      <td>2143</td>\n",
       "      <td>yes</td>\n",
       "      <td>no</td>\n",
       "      <td>unknown</td>\n",
       "      <td>5</td>\n",
       "      <td>may</td>\n",
       "      <td>261</td>\n",
       "      <td>1.0</td>\n",
       "      <td>-1</td>\n",
       "      <td>0</td>\n",
       "      <td>unknown</td>\n",
       "      <td>no</td>\n",
       "      <td>(180, 300]</td>\n",
       "    </tr>\n",
       "    <tr>\n",
       "      <th>1</th>\n",
       "      <td>44.0</td>\n",
       "      <td>technician</td>\n",
       "      <td>single</td>\n",
       "      <td>secondary</td>\n",
       "      <td>no</td>\n",
       "      <td>29</td>\n",
       "      <td>yes</td>\n",
       "      <td>no</td>\n",
       "      <td>unknown</td>\n",
       "      <td>5</td>\n",
       "      <td>may</td>\n",
       "      <td>151</td>\n",
       "      <td>1.0</td>\n",
       "      <td>-1</td>\n",
       "      <td>0</td>\n",
       "      <td>unknown</td>\n",
       "      <td>no</td>\n",
       "      <td>(60, 180]</td>\n",
       "    </tr>\n",
       "    <tr>\n",
       "      <th>2</th>\n",
       "      <td>33.0</td>\n",
       "      <td>entrepreneur</td>\n",
       "      <td>married</td>\n",
       "      <td>secondary</td>\n",
       "      <td>no</td>\n",
       "      <td>2</td>\n",
       "      <td>yes</td>\n",
       "      <td>yes</td>\n",
       "      <td>unknown</td>\n",
       "      <td>5</td>\n",
       "      <td>may</td>\n",
       "      <td>76</td>\n",
       "      <td>1.0</td>\n",
       "      <td>-1</td>\n",
       "      <td>0</td>\n",
       "      <td>unknown</td>\n",
       "      <td>no</td>\n",
       "      <td>(60, 180]</td>\n",
       "    </tr>\n",
       "    <tr>\n",
       "      <th>3</th>\n",
       "      <td>47.0</td>\n",
       "      <td>blue-collar</td>\n",
       "      <td>married</td>\n",
       "      <td>unknown</td>\n",
       "      <td>no</td>\n",
       "      <td>1506</td>\n",
       "      <td>yes</td>\n",
       "      <td>no</td>\n",
       "      <td>unknown</td>\n",
       "      <td>5</td>\n",
       "      <td>may</td>\n",
       "      <td>92</td>\n",
       "      <td>1.0</td>\n",
       "      <td>-1</td>\n",
       "      <td>0</td>\n",
       "      <td>unknown</td>\n",
       "      <td>no</td>\n",
       "      <td>(60, 180]</td>\n",
       "    </tr>\n",
       "    <tr>\n",
       "      <th>4</th>\n",
       "      <td>33.0</td>\n",
       "      <td>unknown</td>\n",
       "      <td>single</td>\n",
       "      <td>unknown</td>\n",
       "      <td>no</td>\n",
       "      <td>1</td>\n",
       "      <td>no</td>\n",
       "      <td>no</td>\n",
       "      <td>unknown</td>\n",
       "      <td>5</td>\n",
       "      <td>may</td>\n",
       "      <td>198</td>\n",
       "      <td>1.0</td>\n",
       "      <td>-1</td>\n",
       "      <td>0</td>\n",
       "      <td>unknown</td>\n",
       "      <td>no</td>\n",
       "      <td>(180, 300]</td>\n",
       "    </tr>\n",
       "  </tbody>\n",
       "</table>\n",
       "</div>"
      ],
      "text/plain": [
       "    age           job  marital  education default  balance housing loan  \\\n",
       "0  58.0    management  married   tertiary      no     2143     yes   no   \n",
       "1  44.0    technician   single  secondary      no       29     yes   no   \n",
       "2  33.0  entrepreneur  married  secondary      no        2     yes  yes   \n",
       "3  47.0   blue-collar  married    unknown      no     1506     yes   no   \n",
       "4  33.0       unknown   single    unknown      no        1      no   no   \n",
       "\n",
       "   contact  day month  duration  campaign  pdays  previous poutcome   y  \\\n",
       "0  unknown    5   may       261       1.0     -1         0  unknown  no   \n",
       "1  unknown    5   may       151       1.0     -1         0  unknown  no   \n",
       "2  unknown    5   may        76       1.0     -1         0  unknown  no   \n",
       "3  unknown    5   may        92       1.0     -1         0  unknown  no   \n",
       "4  unknown    5   may       198       1.0     -1         0  unknown  no   \n",
       "\n",
       "  duration_bins_sec  \n",
       "0        (180, 300]  \n",
       "1         (60, 180]  \n",
       "2         (60, 180]  \n",
       "3         (60, 180]  \n",
       "4        (180, 300]  "
      ]
     },
     "execution_count": 47,
     "metadata": {},
     "output_type": "execute_result"
    }
   ],
   "source": [
    "# Create bins for duration\n",
    "data2['duration_bins_sec'] = pd.cut(x=data2['duration'], bins=[0,60,180,300,600,1200,4918])\n",
    "data2.head()"
   ]
  },
  {
   "cell_type": "code",
   "execution_count": 48,
   "id": "61d7963c",
   "metadata": {
    "execution": {
     "iopub.execute_input": "2022-07-16T15:55:42.558964Z",
     "iopub.status.busy": "2022-07-16T15:55:42.558530Z",
     "iopub.status.idle": "2022-07-16T15:55:42.598045Z",
     "shell.execute_reply": "2022-07-16T15:55:42.596592Z"
    },
    "papermill": {
     "duration": 0.082694,
     "end_time": "2022-07-16T15:55:42.600540",
     "exception": false,
     "start_time": "2022-07-16T15:55:42.517846",
     "status": "completed"
    },
    "tags": []
   },
   "outputs": [
    {
     "name": "stdout",
     "output_type": "stream",
     "text": [
      "Yes deposit percentage for 0-60 sec duration:  0.1933\n",
      "Yes deposit percentage for 60-180 sec duration:  3.894\n",
      "Yes deposit percentage for 180-300 sec duration:  10.8883\n",
      "Yes deposit percentage for 300-600 sec duration:  19.1336\n",
      "Yes deposit percentage for 600-1200 sec duration:  46.049\n",
      "Yes deposit percentage for 1200 sec duration:  61.7857\n"
     ]
    }
   ],
   "source": [
    "a1 = data2[(data2['duration']>0)&(data2['duration']<60)]['y'].value_counts()\n",
    "print(\"Yes deposit percentage for 0-60 sec duration: \", np.round((a1['yes']/(a1['yes']+a1['no']))*100,4))\n",
    "a1 = data2[(data2['duration']>60)&(data2['duration']<180)]['y'].value_counts()\n",
    "print(\"Yes deposit percentage for 60-180 sec duration: \", np.round((a1['yes']/(a1['yes']+a1['no']))*100,4))\n",
    "a1 = data2[(data2['duration']>180)&(data2['duration']<300)]['y'].value_counts()\n",
    "print(\"Yes deposit percentage for 180-300 sec duration: \", np.round((a1['yes']/(a1['yes']+a1['no']))*100,4))\n",
    "a1 = data2[(data2['duration']>300)&(data2['duration']<600)]['y'].value_counts()\n",
    "print(\"Yes deposit percentage for 300-600 sec duration: \", np.round((a1['yes']/(a1['yes']+a1['no']))*100,4))\n",
    "a1 = data2[(data2['duration']>600)&(data2['duration']<1200)]['y'].value_counts()\n",
    "print(\"Yes deposit percentage for 600-1200 sec duration: \", np.round((a1['yes']/(a1['yes']+a1['no']))*100,4))\n",
    "a1 = data2[(data2['duration']>1200)]['y'].value_counts()\n",
    "print(\"Yes deposit percentage for 1200 sec duration: \", np.round((a1['yes']/(a1['yes']+a1['no']))*100,4))"
   ]
  },
  {
   "cell_type": "code",
   "execution_count": 49,
   "id": "ec7f8740",
   "metadata": {
    "execution": {
     "iopub.execute_input": "2022-07-16T15:55:42.680966Z",
     "iopub.status.busy": "2022-07-16T15:55:42.680569Z",
     "iopub.status.idle": "2022-07-16T15:55:42.963384Z",
     "shell.execute_reply": "2022-07-16T15:55:42.962632Z"
    },
    "papermill": {
     "duration": 0.325666,
     "end_time": "2022-07-16T15:55:42.965470",
     "exception": false,
     "start_time": "2022-07-16T15:55:42.639804",
     "status": "completed"
    },
    "tags": []
   },
   "outputs": [
    {
     "data": {
      "text/plain": [
       "Text(0, 0.5, 'Frequency')"
      ]
     },
     "execution_count": 49,
     "metadata": {},
     "output_type": "execute_result"
    },
    {
     "data": {
      "image/png": "[encoded data removed]",
      "text/plain": [
       "<Figure size 576x360 with 1 Axes>"
      ]
     },
     "metadata": {
      "needs_background": "light"
     },
     "output_type": "display_data"
    }
   ],
   "source": [
    "pd.crosstab(data2.duration_bins_sec,data2.y).plot(kind=\"bar\",figsize=(8,5),color=['black','blue'])\n",
    "plt.title('Customer call duration Distribution')\n",
    "plt.ylabel('Frequency')"
   ]
  },
  {
   "cell_type": "markdown",
   "id": "a4263e6a",
   "metadata": {
    "papermill": {
     "duration": 0.040123,
     "end_time": "2022-07-16T15:55:43.045959",
     "exception": false,
     "start_time": "2022-07-16T15:55:43.005836",
     "status": "completed"
    },
    "tags": []
   },
   "source": [
    "### Comparision age of customers with target variable \"deposit\""
   ]
  },
  {
   "cell_type": "code",
   "execution_count": 50,
   "id": "b59ef144",
   "metadata": {
    "execution": {
     "iopub.execute_input": "2022-07-16T15:55:43.127789Z",
     "iopub.status.busy": "2022-07-16T15:55:43.127015Z",
     "iopub.status.idle": "2022-07-16T15:55:43.162268Z",
     "shell.execute_reply": "2022-07-16T15:55:43.161090Z"
    },
    "papermill": {
     "duration": 0.078869,
     "end_time": "2022-07-16T15:55:43.164622",
     "exception": false,
     "start_time": "2022-07-16T15:55:43.085753",
     "status": "completed"
    },
    "tags": []
   },
   "outputs": [
    {
     "data": {
      "text/html": [
       "<div>\n",
       "<style scoped>\n",
       "    .dataframe tbody tr th:only-of-type {\n",
       "        vertical-align: middle;\n",
       "    }\n",
       "\n",
       "    .dataframe tbody tr th {\n",
       "        vertical-align: top;\n",
       "    }\n",
       "\n",
       "    .dataframe thead th {\n",
       "        text-align: right;\n",
       "    }\n",
       "</style>\n",
       "<table border=\"1\" class=\"dataframe\">\n",
       "  <thead>\n",
       "    <tr style=\"text-align: right;\">\n",
       "      <th></th>\n",
       "      <th>age</th>\n",
       "      <th>job</th>\n",
       "      <th>marital</th>\n",
       "      <th>education</th>\n",
       "      <th>default</th>\n",
       "      <th>balance</th>\n",
       "      <th>housing</th>\n",
       "      <th>loan</th>\n",
       "      <th>contact</th>\n",
       "      <th>day</th>\n",
       "      <th>month</th>\n",
       "      <th>duration</th>\n",
       "      <th>campaign</th>\n",
       "      <th>pdays</th>\n",
       "      <th>previous</th>\n",
       "      <th>poutcome</th>\n",
       "      <th>y</th>\n",
       "      <th>duration_bins_sec</th>\n",
       "      <th>age_bins</th>\n",
       "      <th>age_by_decad</th>\n",
       "    </tr>\n",
       "  </thead>\n",
       "  <tbody>\n",
       "    <tr>\n",
       "      <th>0</th>\n",
       "      <td>58.0</td>\n",
       "      <td>management</td>\n",
       "      <td>married</td>\n",
       "      <td>tertiary</td>\n",
       "      <td>no</td>\n",
       "      <td>2143</td>\n",
       "      <td>yes</td>\n",
       "      <td>no</td>\n",
       "      <td>unknown</td>\n",
       "      <td>5</td>\n",
       "      <td>may</td>\n",
       "      <td>261</td>\n",
       "      <td>1.0</td>\n",
       "      <td>-1</td>\n",
       "      <td>0</td>\n",
       "      <td>unknown</td>\n",
       "      <td>no</td>\n",
       "      <td>(180, 300]</td>\n",
       "      <td>(50.0, 70.5]</td>\n",
       "      <td>70s</td>\n",
       "    </tr>\n",
       "    <tr>\n",
       "      <th>1</th>\n",
       "      <td>44.0</td>\n",
       "      <td>technician</td>\n",
       "      <td>single</td>\n",
       "      <td>secondary</td>\n",
       "      <td>no</td>\n",
       "      <td>29</td>\n",
       "      <td>yes</td>\n",
       "      <td>no</td>\n",
       "      <td>unknown</td>\n",
       "      <td>5</td>\n",
       "      <td>may</td>\n",
       "      <td>151</td>\n",
       "      <td>1.0</td>\n",
       "      <td>-1</td>\n",
       "      <td>0</td>\n",
       "      <td>unknown</td>\n",
       "      <td>no</td>\n",
       "      <td>(60, 180]</td>\n",
       "      <td>(40.0, 50.0]</td>\n",
       "      <td>50s</td>\n",
       "    </tr>\n",
       "    <tr>\n",
       "      <th>2</th>\n",
       "      <td>33.0</td>\n",
       "      <td>entrepreneur</td>\n",
       "      <td>married</td>\n",
       "      <td>secondary</td>\n",
       "      <td>no</td>\n",
       "      <td>2</td>\n",
       "      <td>yes</td>\n",
       "      <td>yes</td>\n",
       "      <td>unknown</td>\n",
       "      <td>5</td>\n",
       "      <td>may</td>\n",
       "      <td>76</td>\n",
       "      <td>1.0</td>\n",
       "      <td>-1</td>\n",
       "      <td>0</td>\n",
       "      <td>unknown</td>\n",
       "      <td>no</td>\n",
       "      <td>(60, 180]</td>\n",
       "      <td>(30.0, 40.0]</td>\n",
       "      <td>40s</td>\n",
       "    </tr>\n",
       "    <tr>\n",
       "      <th>3</th>\n",
       "      <td>47.0</td>\n",
       "      <td>blue-collar</td>\n",
       "      <td>married</td>\n",
       "      <td>unknown</td>\n",
       "      <td>no</td>\n",
       "      <td>1506</td>\n",
       "      <td>yes</td>\n",
       "      <td>no</td>\n",
       "      <td>unknown</td>\n",
       "      <td>5</td>\n",
       "      <td>may</td>\n",
       "      <td>92</td>\n",
       "      <td>1.0</td>\n",
       "      <td>-1</td>\n",
       "      <td>0</td>\n",
       "      <td>unknown</td>\n",
       "      <td>no</td>\n",
       "      <td>(60, 180]</td>\n",
       "      <td>(40.0, 50.0]</td>\n",
       "      <td>50s</td>\n",
       "    </tr>\n",
       "    <tr>\n",
       "      <th>4</th>\n",
       "      <td>33.0</td>\n",
       "      <td>unknown</td>\n",
       "      <td>single</td>\n",
       "      <td>unknown</td>\n",
       "      <td>no</td>\n",
       "      <td>1</td>\n",
       "      <td>no</td>\n",
       "      <td>no</td>\n",
       "      <td>unknown</td>\n",
       "      <td>5</td>\n",
       "      <td>may</td>\n",
       "      <td>198</td>\n",
       "      <td>1.0</td>\n",
       "      <td>-1</td>\n",
       "      <td>0</td>\n",
       "      <td>unknown</td>\n",
       "      <td>no</td>\n",
       "      <td>(180, 300]</td>\n",
       "      <td>(30.0, 40.0]</td>\n",
       "      <td>40s</td>\n",
       "    </tr>\n",
       "  </tbody>\n",
       "</table>\n",
       "</div>"
      ],
      "text/plain": [
       "    age           job  marital  education default  balance housing loan  \\\n",
       "0  58.0    management  married   tertiary      no     2143     yes   no   \n",
       "1  44.0    technician   single  secondary      no       29     yes   no   \n",
       "2  33.0  entrepreneur  married  secondary      no        2     yes  yes   \n",
       "3  47.0   blue-collar  married    unknown      no     1506     yes   no   \n",
       "4  33.0       unknown   single    unknown      no        1      no   no   \n",
       "\n",
       "   contact  day month  duration  campaign  pdays  previous poutcome   y  \\\n",
       "0  unknown    5   may       261       1.0     -1         0  unknown  no   \n",
       "1  unknown    5   may       151       1.0     -1         0  unknown  no   \n",
       "2  unknown    5   may        76       1.0     -1         0  unknown  no   \n",
       "3  unknown    5   may        92       1.0     -1         0  unknown  no   \n",
       "4  unknown    5   may       198       1.0     -1         0  unknown  no   \n",
       "\n",
       "  duration_bins_sec      age_bins age_by_decad  \n",
       "0        (180, 300]  (50.0, 70.5]          70s  \n",
       "1         (60, 180]  (40.0, 50.0]          50s  \n",
       "2         (60, 180]  (30.0, 40.0]          40s  \n",
       "3         (60, 180]  (40.0, 50.0]          50s  \n",
       "4        (180, 300]  (30.0, 40.0]          40s  "
      ]
     },
     "execution_count": 50,
     "metadata": {},
     "output_type": "execute_result"
    }
   ],
   "source": [
    "# Create bins for age column\n",
    "data2['age_bins']=pd.cut(x=data2['age'], bins=[18,30,40,50,70.5])\n",
    "data2['age_by_decad'] = pd.cut(x=data2['age'], bins=[18,30,40,50,70.5], labels=['30s', '40s', '50s','70s'])\n",
    "data2.head()"
   ]
  },
  {
   "cell_type": "code",
   "execution_count": 51,
   "id": "1626c7cc",
   "metadata": {
    "execution": {
     "iopub.execute_input": "2022-07-16T15:55:43.248973Z",
     "iopub.status.busy": "2022-07-16T15:55:43.248523Z",
     "iopub.status.idle": "2022-07-16T15:55:43.506309Z",
     "shell.execute_reply": "2022-07-16T15:55:43.505231Z"
    },
    "papermill": {
     "duration": 0.303449,
     "end_time": "2022-07-16T15:55:43.509267",
     "exception": false,
     "start_time": "2022-07-16T15:55:43.205818",
     "status": "completed"
    },
    "tags": []
   },
   "outputs": [
    {
     "data": {
      "text/plain": [
       "Text(0, 0.5, 'Frequency')"
      ]
     },
     "execution_count": 51,
     "metadata": {},
     "output_type": "execute_result"
    },
    {
     "data": {
      "image/png": "[encoded data removed]",
      "text/plain": [
       "<Figure size 576x360 with 1 Axes>"
      ]
     },
     "metadata": {
      "needs_background": "light"
     },
     "output_type": "display_data"
    }
   ],
   "source": [
    "pd.crosstab(data2.age_by_decad,data2.y).plot(kind=\"bar\",figsize=(8,5),color=['black','blue'])\n",
    "plt.title('Customer age Distribution')\n",
    "plt.ylabel('Frequency')"
   ]
  },
  {
   "cell_type": "code",
   "execution_count": 52,
   "id": "3b68ba56",
   "metadata": {
    "execution": {
     "iopub.execute_input": "2022-07-16T15:55:43.597036Z",
     "iopub.status.busy": "2022-07-16T15:55:43.596651Z",
     "iopub.status.idle": "2022-07-16T15:55:43.626455Z",
     "shell.execute_reply": "2022-07-16T15:55:43.625717Z"
    },
    "papermill": {
     "duration": 0.078274,
     "end_time": "2022-07-16T15:55:43.629253",
     "exception": false,
     "start_time": "2022-07-16T15:55:43.550979",
     "status": "completed"
    },
    "tags": []
   },
   "outputs": [
    {
     "name": "stdout",
     "output_type": "stream",
     "text": [
      "Yes deposit percentage for 18-30 age:  17.5062\n",
      "Yes deposit percentage for 30-40 age:  10.3845\n",
      "Yes deposit percentage for 40-50 age:  9.1942\n",
      "Yes deposit percentage for 50-70.5 age:  12.4886\n"
     ]
    }
   ],
   "source": [
    "a1 = data2[(data2['age']>18)&(data2['age']<30)]['y'].value_counts()\n",
    "print(\"Yes deposit percentage for 18-30 age: \", np.round((a1['yes']/(a1['yes']+a1['no']))*100,4))\n",
    "a1 = data2[(data2['age']>30)&(data2['age']<40)]['y'].value_counts()\n",
    "print(\"Yes deposit percentage for 30-40 age: \", np.round((a1['yes']/(a1['yes']+a1['no']))*100,4))\n",
    "a1 = data2[(data2['age']>40)&(data2['age']<50)]['y'].value_counts()\n",
    "print(\"Yes deposit percentage for 40-50 age: \", np.round((a1['yes']/(a1['yes']+a1['no']))*100,4))\n",
    "a1 = data2[(data2['age']>50)&(data2['age']<70.5)]['y'].value_counts()\n",
    "print(\"Yes deposit percentage for 50-70.5 age: \", np.round((a1['yes']/(a1['yes']+a1['no']))*100,4))"
   ]
  },
  {
   "cell_type": "markdown",
   "id": "61c1d49c",
   "metadata": {
    "papermill": {
     "duration": 0.040637,
     "end_time": "2022-07-16T15:55:43.711489",
     "exception": false,
     "start_time": "2022-07-16T15:55:43.670852",
     "status": "completed"
    },
    "tags": []
   },
   "source": [
    "## 3.7 Correlation Matrix"
   ]
  },
  {
   "cell_type": "markdown",
   "id": "601c7be4",
   "metadata": {
    "papermill": {
     "duration": 0.041949,
     "end_time": "2022-07-16T15:55:43.794241",
     "exception": false,
     "start_time": "2022-07-16T15:55:43.752292",
     "status": "completed"
    },
    "tags": []
   },
   "source": [
    "- A heat map is a two-dimensional representation of data in which values are represented by colors which provides a visual summary of information.\n",
    "\n",
    "\n",
    "- Heat map work with only numerical values."
   ]
  },
  {
   "cell_type": "code",
   "execution_count": 53,
   "id": "6c4c9888",
   "metadata": {
    "execution": {
     "iopub.execute_input": "2022-07-16T15:55:43.902111Z",
     "iopub.status.busy": "2022-07-16T15:55:43.901375Z",
     "iopub.status.idle": "2022-07-16T15:55:44.403256Z",
     "shell.execute_reply": "2022-07-16T15:55:44.402455Z"
    },
    "papermill": {
     "duration": 0.555085,
     "end_time": "2022-07-16T15:55:44.405250",
     "exception": false,
     "start_time": "2022-07-16T15:55:43.850165",
     "status": "completed"
    },
    "tags": []
   },
   "outputs": [
    {
     "data": {
      "text/plain": [
       "<AxesSubplot:>"
      ]
     },
     "execution_count": 53,
     "metadata": {},
     "output_type": "execute_result"
    },
    {
     "data": {
      "image/png": "[encoded data removed]",
      "text/plain": [
       "<Figure size 1296x576 with 2 Axes>"
      ]
     },
     "metadata": {
      "needs_background": "light"
     },
     "output_type": "display_data"
    }
   ],
   "source": [
    "plt.figure(figsize=[18,8])\n",
    "sns.heatmap(data2.corr(),annot=True,cmap=\"Blues\")"
   ]
  },
  {
   "cell_type": "markdown",
   "id": "b2c672d1",
   "metadata": {
    "papermill": {
     "duration": 0.041575,
     "end_time": "2022-07-16T15:55:44.488814",
     "exception": false,
     "start_time": "2022-07-16T15:55:44.447239",
     "status": "completed"
    },
    "tags": []
   },
   "source": [
    "# 4. Conclusion "
   ]
  },
  {
   "cell_type": "markdown",
   "id": "f375f8ff",
   "metadata": {
    "papermill": {
     "duration": 0.042135,
     "end_time": "2022-07-16T15:55:44.573137",
     "exception": false,
     "start_time": "2022-07-16T15:55:44.531002",
     "status": "completed"
    },
    "tags": []
   },
   "source": [
    "The analysis are the recommendations for future marketing campaigns:\n",
    "    \n",
    "- Future campaigns should be targeted on customers from age categories below 30 years old and above 50 years old. Student and Senior citizen are more responded.\n",
    "\n",
    "\n",
    "- The number of contacts with the customer shouldn't exceed 3.\n",
    "\n",
    "\n",
    "- Mode of contact should be cellular and telephone.\n",
    "\n",
    "\n",
    "- The month of highest level of marketing activity was the month of May. But high deposit rate of customers is in (March, September and October). Campaign highly active in summer time. So, for future campaign marketing activity should be increase in winter season.\n",
    "\n",
    "\n",
    "- Call duration highly effect the deposit rate. Deposit rate and call duration is directly proportional. So, when increase call duration deposit rate also increase.\n",
    "\n",
    "\n",
    "- Married people have more positive responses for deposit.\n",
    "\n",
    "\n",
    "- House loan demanding is more in customer’s than personal loan. People who preferred housing loan and not default are best to target.\n",
    "\n",
    "\n",
    "- People who have management, technician and blue-collar related jobs are best to target.\n",
    "\n",
    "\n",
    "- People who have completed their secondary education respond more for deposit. Students come under this category most.\n",
    "\n"
   ]
  },
  {
   "cell_type": "code",
   "execution_count": null,
   "id": "d4582313",
   "metadata": {
    "papermill": {
     "duration": 0.041572,
     "end_time": "2022-07-16T15:55:44.656646",
     "exception": false,
     "start_time": "2022-07-16T15:55:44.615074",
     "status": "completed"
    },
    "tags": []
   },
   "outputs": [],
   "source": []
  }
 ],
 "metadata": {
  "kernelspec": {
   "display_name": "Python 3",
   "language": "python",
   "name": "python3"
  },
  "language_info": {
   "codemirror_mode": {
    "name": "ipython",
    "version": 3
   },
   "file_extension": ".py",
   "mimetype": "text/x-python",
   "name": "python",
   "nbconvert_exporter": "python",
   "pygments_lexer": "ipython3",
   "version": "3.7.12"
  },
  "papermill": {
   "default_parameters": {},
   "duration": 32.92424,
   "end_time": "2022-07-16T15:55:45.620108",
   "environment_variables": {},
   "exception": null,
   "input_path": "__notebook__.ipynb",
   "output_path": "__notebook__.ipynb",
   "parameters": {},
   "start_time": "2022-07-16T15:55:12.695868",
   "version": "2.3.4"
  }
 },
 "nbformat": 4,
 "nbformat_minor": 5
}
