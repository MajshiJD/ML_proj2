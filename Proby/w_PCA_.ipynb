{
 "cells": [
  {
   "cell_type": "code",
   "execution_count": 11,
   "id": "603bf720",
   "metadata": {},
   "outputs": [],
   "source": [
    "import pandas as pd\n",
    "import numpy as np\n",
    "import warnings\n",
    "warnings.filterwarnings(\"ignore\")\n",
    "\n",
    "import seaborn as sns\n",
    "import matplotlib.pyplot as plt\n",
    "from mpl_toolkits import mplot3d\n",
    "from mpl_toolkits.mplot3d import Axes3D\n",
    "\n",
    "from sklearn.model_selection import train_test_split\n",
    "from sklearn.base import BaseEstimator, TransformerMixin\n",
    "from sklearn.preprocessing import StandardScaler, OneHotEncoder, FunctionTransformer, MinMaxScaler\n",
    "from sklearn.compose import ColumnTransformer\n",
    "from sklearn.pipeline import Pipeline\n",
    "from sklearn.preprocessing import LabelEncoder, OneHotEncoder\n",
    "from sklearn.preprocessing import FunctionTransformer\n",
    "from sklearn.preprocessing import PowerTransformer\n",
    "\n",
    "from sklearn import cluster, datasets, mixture\n",
    "from sklearn import preprocessing\n",
    "\n",
    "from sklearn.decomposition import PCA\n",
    "\n",
    "from sklearn.cluster import KMeans\n",
    "from sklearn.metrics import silhouette_score \n",
    "from sklearn.metrics import calinski_harabasz_score\n",
    "from sklearn.metrics import davies_bouldin_score"
   ]
  },
  {
   "cell_type": "code",
   "execution_count": 72,
   "id": "5975683c",
   "metadata": {},
   "outputs": [],
   "source": [
    "data = pd.read_csv(\"../preprocessed_data/preprocessed_train.csv\")\n",
    "data_2 = pd.read_csv(\"../data/bank-full.csv\")"
   ]
  },
  {
   "cell_type": "markdown",
   "id": "8143a980",
   "metadata": {},
   "source": [
    "# PCA :v"
   ]
  },
  {
   "cell_type": "code",
   "execution_count": 3,
   "id": "b83c75c3",
   "metadata": {},
   "outputs": [],
   "source": [
    "var = []\n",
    "for i in range (len(data.columns)):\n",
    "    \n",
    "    pca_ = PCA(n_components = i)\n",
    "    pca_.fit(data)\n",
    "    var.append(sum(pca_.explained_variance_ratio_))\n"
   ]
  },
  {
   "cell_type": "code",
   "execution_count": 4,
   "id": "83dcc87c",
   "metadata": {},
   "outputs": [
    {
     "data": {
      "image/png": "[encoded data removed]",
      "text/plain": [
       "<Figure size 640x480 with 1 Axes>"
      ]
     },
     "metadata": {},
     "output_type": "display_data"
    }
   ],
   "source": [
    "plt.plot(np.asarray([k for k in range(len(data.columns))]), np.asarray(var), 'bx-')\n",
    "plt.ion()\n",
    "plt.show()"
   ]
  },
  {
   "cell_type": "markdown",
   "id": "0c0238ae",
   "metadata": {},
   "source": [
    "Jak widzimy, dla n_comp = 10 mamy bardzo wystarczającą wariancje na poziomie ok 0.91"
   ]
  },
  {
   "cell_type": "code",
   "execution_count": 20,
   "id": "59340147",
   "metadata": {},
   "outputs": [],
   "source": [
    "pca_ = PCA(n_components = 10)\n",
    "XProcessed = pca_.fit_transform(data)"
   ]
  },
  {
   "cell_type": "code",
   "execution_count": 21,
   "id": "facc16f1",
   "metadata": {},
   "outputs": [
    {
     "data": {
      "text/html": [
       "<div>\n",
       "<style scoped>\n",
       "    .dataframe tbody tr th:only-of-type {\n",
       "        vertical-align: middle;\n",
       "    }\n",
       "\n",
       "    .dataframe tbody tr th {\n",
       "        vertical-align: top;\n",
       "    }\n",
       "\n",
       "    .dataframe thead th {\n",
       "        text-align: right;\n",
       "    }\n",
       "</style>\n",
       "<table border=\"1\" class=\"dataframe\">\n",
       "  <thead>\n",
       "    <tr style=\"text-align: right;\">\n",
       "      <th></th>\n",
       "      <th>0</th>\n",
       "      <th>1</th>\n",
       "      <th>2</th>\n",
       "      <th>3</th>\n",
       "      <th>4</th>\n",
       "      <th>5</th>\n",
       "      <th>6</th>\n",
       "      <th>7</th>\n",
       "      <th>8</th>\n",
       "      <th>9</th>\n",
       "    </tr>\n",
       "  </thead>\n",
       "  <tbody>\n",
       "    <tr>\n",
       "      <th>0</th>\n",
       "      <td>-0.415115</td>\n",
       "      <td>-1.648015</td>\n",
       "      <td>0.294309</td>\n",
       "      <td>0.134983</td>\n",
       "      <td>0.871759</td>\n",
       "      <td>-0.296993</td>\n",
       "      <td>0.021696</td>\n",
       "      <td>-0.541323</td>\n",
       "      <td>0.512072</td>\n",
       "      <td>-0.228539</td>\n",
       "    </tr>\n",
       "    <tr>\n",
       "      <th>1</th>\n",
       "      <td>-1.036807</td>\n",
       "      <td>0.703967</td>\n",
       "      <td>-2.458887</td>\n",
       "      <td>0.295795</td>\n",
       "      <td>-1.223565</td>\n",
       "      <td>0.413511</td>\n",
       "      <td>-0.190186</td>\n",
       "      <td>-0.422945</td>\n",
       "      <td>0.170216</td>\n",
       "      <td>0.249498</td>\n",
       "    </tr>\n",
       "    <tr>\n",
       "      <th>2</th>\n",
       "      <td>-0.854215</td>\n",
       "      <td>1.024186</td>\n",
       "      <td>-0.244415</td>\n",
       "      <td>-0.705228</td>\n",
       "      <td>-0.948614</td>\n",
       "      <td>0.917496</td>\n",
       "      <td>-0.024937</td>\n",
       "      <td>-0.112782</td>\n",
       "      <td>0.247464</td>\n",
       "      <td>0.314134</td>\n",
       "    </tr>\n",
       "    <tr>\n",
       "      <th>3</th>\n",
       "      <td>3.456356</td>\n",
       "      <td>2.447811</td>\n",
       "      <td>0.190932</td>\n",
       "      <td>0.290966</td>\n",
       "      <td>0.833202</td>\n",
       "      <td>0.961873</td>\n",
       "      <td>-2.546373</td>\n",
       "      <td>0.415436</td>\n",
       "      <td>0.407641</td>\n",
       "      <td>0.755954</td>\n",
       "    </tr>\n",
       "    <tr>\n",
       "      <th>4</th>\n",
       "      <td>-0.424942</td>\n",
       "      <td>-1.296334</td>\n",
       "      <td>0.081775</td>\n",
       "      <td>-0.120281</td>\n",
       "      <td>0.922791</td>\n",
       "      <td>-0.283166</td>\n",
       "      <td>-0.008157</td>\n",
       "      <td>-0.591116</td>\n",
       "      <td>0.591232</td>\n",
       "      <td>-0.215723</td>\n",
       "    </tr>\n",
       "    <tr>\n",
       "      <th>...</th>\n",
       "      <td>...</td>\n",
       "      <td>...</td>\n",
       "      <td>...</td>\n",
       "      <td>...</td>\n",
       "      <td>...</td>\n",
       "      <td>...</td>\n",
       "      <td>...</td>\n",
       "      <td>...</td>\n",
       "      <td>...</td>\n",
       "      <td>...</td>\n",
       "    </tr>\n",
       "    <tr>\n",
       "      <th>22147</th>\n",
       "      <td>3.434372</td>\n",
       "      <td>0.068500</td>\n",
       "      <td>-0.434210</td>\n",
       "      <td>-0.189755</td>\n",
       "      <td>0.662591</td>\n",
       "      <td>-0.835600</td>\n",
       "      <td>0.358064</td>\n",
       "      <td>0.735183</td>\n",
       "      <td>0.534391</td>\n",
       "      <td>0.264897</td>\n",
       "    </tr>\n",
       "    <tr>\n",
       "      <th>22148</th>\n",
       "      <td>5.963685</td>\n",
       "      <td>0.132971</td>\n",
       "      <td>0.156723</td>\n",
       "      <td>-0.027542</td>\n",
       "      <td>0.070960</td>\n",
       "      <td>-0.958474</td>\n",
       "      <td>-4.266278</td>\n",
       "      <td>1.914737</td>\n",
       "      <td>0.798411</td>\n",
       "      <td>1.510175</td>\n",
       "    </tr>\n",
       "    <tr>\n",
       "      <th>22149</th>\n",
       "      <td>1.801975</td>\n",
       "      <td>-0.483395</td>\n",
       "      <td>0.058859</td>\n",
       "      <td>-0.462231</td>\n",
       "      <td>0.236082</td>\n",
       "      <td>-0.459879</td>\n",
       "      <td>-0.753285</td>\n",
       "      <td>0.696493</td>\n",
       "      <td>-0.811165</td>\n",
       "      <td>-0.142769</td>\n",
       "    </tr>\n",
       "    <tr>\n",
       "      <th>22150</th>\n",
       "      <td>-1.572992</td>\n",
       "      <td>0.322700</td>\n",
       "      <td>-4.153168</td>\n",
       "      <td>2.321748</td>\n",
       "      <td>-3.112987</td>\n",
       "      <td>0.711504</td>\n",
       "      <td>-0.137120</td>\n",
       "      <td>0.548970</td>\n",
       "      <td>-0.379225</td>\n",
       "      <td>0.668502</td>\n",
       "    </tr>\n",
       "    <tr>\n",
       "      <th>22151</th>\n",
       "      <td>-0.485382</td>\n",
       "      <td>-0.513550</td>\n",
       "      <td>-0.047346</td>\n",
       "      <td>-0.468217</td>\n",
       "      <td>0.843481</td>\n",
       "      <td>-0.068156</td>\n",
       "      <td>-0.016996</td>\n",
       "      <td>-0.396981</td>\n",
       "      <td>0.818097</td>\n",
       "      <td>-0.718506</td>\n",
       "    </tr>\n",
       "  </tbody>\n",
       "</table>\n",
       "<p>22152 rows × 10 columns</p>\n",
       "</div>"
      ],
      "text/plain": [
       "              0         1         2         3         4         5         6   \n",
       "0     -0.415115 -1.648015  0.294309  0.134983  0.871759 -0.296993  0.021696  \\\n",
       "1     -1.036807  0.703967 -2.458887  0.295795 -1.223565  0.413511 -0.190186   \n",
       "2     -0.854215  1.024186 -0.244415 -0.705228 -0.948614  0.917496 -0.024937   \n",
       "3      3.456356  2.447811  0.190932  0.290966  0.833202  0.961873 -2.546373   \n",
       "4     -0.424942 -1.296334  0.081775 -0.120281  0.922791 -0.283166 -0.008157   \n",
       "...         ...       ...       ...       ...       ...       ...       ...   \n",
       "22147  3.434372  0.068500 -0.434210 -0.189755  0.662591 -0.835600  0.358064   \n",
       "22148  5.963685  0.132971  0.156723 -0.027542  0.070960 -0.958474 -4.266278   \n",
       "22149  1.801975 -0.483395  0.058859 -0.462231  0.236082 -0.459879 -0.753285   \n",
       "22150 -1.572992  0.322700 -4.153168  2.321748 -3.112987  0.711504 -0.137120   \n",
       "22151 -0.485382 -0.513550 -0.047346 -0.468217  0.843481 -0.068156 -0.016996   \n",
       "\n",
       "              7         8         9  \n",
       "0     -0.541323  0.512072 -0.228539  \n",
       "1     -0.422945  0.170216  0.249498  \n",
       "2     -0.112782  0.247464  0.314134  \n",
       "3      0.415436  0.407641  0.755954  \n",
       "4     -0.591116  0.591232 -0.215723  \n",
       "...         ...       ...       ...  \n",
       "22147  0.735183  0.534391  0.264897  \n",
       "22148  1.914737  0.798411  1.510175  \n",
       "22149  0.696493 -0.811165 -0.142769  \n",
       "22150  0.548970 -0.379225  0.668502  \n",
       "22151 -0.396981  0.818097 -0.718506  \n",
       "\n",
       "[22152 rows x 10 columns]"
      ]
     },
     "execution_count": 21,
     "metadata": {},
     "output_type": "execute_result"
    }
   ],
   "source": [
    "pd.DataFrame(XProcessed)"
   ]
  },
  {
   "cell_type": "code",
   "execution_count": 22,
   "id": "04426c97",
   "metadata": {},
   "outputs": [],
   "source": [
    "def metrics_plots(max_k=10):\n",
    "\n",
    "    score = []\n",
    "    score_kmeans_s = []\n",
    "    score_kmeans_c = []\n",
    "    score_kmeans_d = []\n",
    "\n",
    "    for k in range(2, max_k):\n",
    "        kmeans = KMeans(n_clusters=k, random_state= 101)\n",
    "        predictions = kmeans.fit_predict(XProcessed)\n",
    "        score.append(kmeans.score(XProcessed))\n",
    "        score_kmeans_s.append(silhouette_score(XProcessed, kmeans.labels_, metric='euclidean'))\n",
    "        score_kmeans_c.append(calinski_harabasz_score(XProcessed, kmeans.labels_))\n",
    "        score_kmeans_d.append(davies_bouldin_score(XProcessed, predictions))\n",
    "\n",
    "    list_scores = [score, score_kmeans_s, score_kmeans_c, score_kmeans_d] \n",
    "    list_title = ['Within-cluster sum of squares', 'Silhouette Score', 'Calinski Harabasz', 'Davies Bouldin'] \n",
    "    for i in range(len(list_scores)):\n",
    "        x_ticks = list(range(2, len(list_scores[i]) + 2))\n",
    "        plt.plot(x_ticks, list_scores[i], 'bx-')\n",
    "        plt.xlabel('k')\n",
    "        plt.ylabel(list_title[i])\n",
    "        plt.title('Optimal k')\n",
    "        plt.show()"
   ]
  },
  {
   "cell_type": "code",
   "execution_count": 23,
   "id": "b1641b31",
   "metadata": {},
   "outputs": [
    {
     "data": {
      "image/png": "[encoded data removed]",
      "text/plain": [
       "<Figure size 640x480 with 1 Axes>"
      ]
     },
     "metadata": {},
     "output_type": "display_data"
    },
    {
     "data": {
      "image/png": "[encoded data removed]",
      "text/plain": [
       "<Figure size 640x480 with 1 Axes>"
      ]
     },
     "metadata": {},
     "output_type": "display_data"
    },
    {
     "data": {
      "image/png": "[encoded data removed]",
      "text/plain": [
       "<Figure size 640x480 with 1 Axes>"
      ]
     },
     "metadata": {},
     "output_type": "display_data"
    },
    {
     "data": {
      "image/png": "[encoded data removed]",
      "text/plain": [
       "<Figure size 640x480 with 1 Axes>"
      ]
     },
     "metadata": {},
     "output_type": "display_data"
    }
   ],
   "source": [
    "metrics_plots(max_k=8)"
   ]
  },
  {
   "cell_type": "markdown",
   "id": "679def7b",
   "metadata": {},
   "source": [
    "Przy zmienionym PCA dalej najlepsza liczba klastrów to 2 lub 3"
   ]
  },
  {
   "cell_type": "markdown",
   "id": "b24b78c1",
   "metadata": {},
   "source": [
    "# Clastering"
   ]
  },
  {
   "cell_type": "markdown",
   "id": "bbafe8aa",
   "metadata": {},
   "source": [
    "### KMeans"
   ]
  },
  {
   "cell_type": "code",
   "execution_count": 30,
   "id": "120660d0",
   "metadata": {},
   "outputs": [],
   "source": [
    "kmeans = cluster.KMeans(n_clusters=2, random_state=0)\n",
    "kmeans.fit(XProcessed)\n",
    "y_pr = kmeans.predict(XProcessed)\n",
    "y_pr = pd.DataFrame(y_pr)"
   ]
  },
  {
   "cell_type": "code",
   "execution_count": 31,
   "id": "a51da040",
   "metadata": {},
   "outputs": [],
   "source": [
    "kmeans = cluster.KMeans(n_clusters=2, random_state=0)\n",
    "kmeans.fit(data)\n",
    "y = kmeans.predict(data)\n",
    "y = pd.DataFrame(y)"
   ]
  },
  {
   "cell_type": "code",
   "execution_count": 33,
   "id": "622cf93f",
   "metadata": {},
   "outputs": [
    {
     "data": {
      "text/plain": [
       "49"
      ]
     },
     "execution_count": 33,
     "metadata": {},
     "output_type": "execute_result"
    }
   ],
   "source": [
    "len(y_pr.compare(y).iloc[:,0])"
   ]
  },
  {
   "cell_type": "markdown",
   "id": "f50861d7",
   "metadata": {},
   "source": [
    "Między PCA a surowymi danymi widzimy różnice równą 0.2% na danych - pomijalnie mała"
   ]
  },
  {
   "cell_type": "code",
   "execution_count": 34,
   "id": "d4049bea",
   "metadata": {},
   "outputs": [],
   "source": [
    "pca_3 = PCA(n_components = 3)\n",
    "X3 = pca_.fit_transform(data)\n",
    "kmeans = cluster.KMeans(n_clusters=2, random_state=0)\n",
    "kmeans.fit(X3)\n",
    "y_pr3 = kmeans.predict(X3)\n",
    "y_pr3 = pd.DataFrame(y_pr3)"
   ]
  },
  {
   "cell_type": "code",
   "execution_count": 35,
   "id": "29c2f31b",
   "metadata": {},
   "outputs": [
    {
     "data": {
      "text/plain": [
       "49"
      ]
     },
     "execution_count": 35,
     "metadata": {},
     "output_type": "execute_result"
    }
   ],
   "source": [
    "len(y_pr3.compare(y).iloc[:,0])"
   ]
  },
  {
   "cell_type": "markdown",
   "id": "949c0608",
   "metadata": {},
   "source": [
    "Co ciekawe, dla PCA = 3 różnica również wynosi 0.2% "
   ]
  },
  {
   "cell_type": "markdown",
   "id": "14139382",
   "metadata": {},
   "source": [
    "### GMM"
   ]
  },
  {
   "cell_type": "code",
   "execution_count": 38,
   "id": "c5581a57",
   "metadata": {},
   "outputs": [],
   "source": [
    "gmm = mixture.GaussianMixture(n_components=2, covariance_type='full')\n",
    "kmeans.fit(XProcessed)\n",
    "y_pr_G = kmeans.predict(XProcessed)\n",
    "y_pr_G = pd.DataFrame(y_pr_G)"
   ]
  },
  {
   "cell_type": "code",
   "execution_count": 39,
   "id": "4254bec0",
   "metadata": {},
   "outputs": [],
   "source": [
    "gmm = mixture.GaussianMixture(n_components=2, covariance_type='full')\n",
    "kmeans.fit(data)\n",
    "y_G = kmeans.predict(data)\n",
    "y_G = pd.DataFrame(y_G)"
   ]
  },
  {
   "cell_type": "code",
   "execution_count": 41,
   "id": "2a482c75",
   "metadata": {},
   "outputs": [
    {
     "data": {
      "text/plain": [
       "49"
      ]
     },
     "execution_count": 41,
     "metadata": {},
     "output_type": "execute_result"
    }
   ],
   "source": [
    "len(y_pr_G.compare(y_G).iloc[:,0])"
   ]
  },
  {
   "cell_type": "code",
   "execution_count": 42,
   "id": "a9b852ec",
   "metadata": {},
   "outputs": [],
   "source": [
    "gmm = mixture.GaussianMixture(n_components=2, covariance_type='full')\n",
    "kmeans.fit(X3)\n",
    "y_pr_G3 = kmeans.predict(X3)\n",
    "y_pr_G3 = pd.DataFrame(y_pr_G3)"
   ]
  },
  {
   "cell_type": "code",
   "execution_count": 43,
   "id": "fadafb0d",
   "metadata": {},
   "outputs": [
    {
     "data": {
      "text/plain": [
       "49"
      ]
     },
     "execution_count": 43,
     "metadata": {},
     "output_type": "execute_result"
    }
   ],
   "source": [
    "len(y_pr_G3.compare(y).iloc[:,0])"
   ]
  },
  {
   "cell_type": "markdown",
   "id": "877aff47",
   "metadata": {},
   "source": [
    "# Inter"
   ]
  },
  {
   "cell_type": "markdown",
   "id": "c767d8bf",
   "metadata": {},
   "source": [
    "Weźmiemy klastry od PCA i nałożymy na dane "
   ]
  },
  {
   "cell_type": "code",
   "execution_count": 76,
   "id": "ba1c5781",
   "metadata": {},
   "outputs": [
    {
     "data": {
      "text/html": [
       "<div>\n",
       "<style scoped>\n",
       "    .dataframe tbody tr th:only-of-type {\n",
       "        vertical-align: middle;\n",
       "    }\n",
       "\n",
       "    .dataframe tbody tr th {\n",
       "        vertical-align: top;\n",
       "    }\n",
       "\n",
       "    .dataframe thead th {\n",
       "        text-align: right;\n",
       "    }\n",
       "</style>\n",
       "<table border=\"1\" class=\"dataframe\">\n",
       "  <thead>\n",
       "    <tr style=\"text-align: right;\">\n",
       "      <th></th>\n",
       "      <th>age</th>\n",
       "      <th>balance</th>\n",
       "      <th>duration</th>\n",
       "      <th>campaign</th>\n",
       "      <th>pdays</th>\n",
       "      <th>previous</th>\n",
       "      <th>month</th>\n",
       "      <th>job</th>\n",
       "      <th>default</th>\n",
       "      <th>loan</th>\n",
       "      <th>...</th>\n",
       "      <th>marital_married</th>\n",
       "      <th>marital_single</th>\n",
       "      <th>contact_cellular</th>\n",
       "      <th>contact_telephone</th>\n",
       "      <th>contact_unknown</th>\n",
       "      <th>poutcome_failure</th>\n",
       "      <th>poutcome_other</th>\n",
       "      <th>poutcome_success</th>\n",
       "      <th>poutcome_unknown</th>\n",
       "      <th>cluster</th>\n",
       "    </tr>\n",
       "  </thead>\n",
       "  <tbody>\n",
       "    <tr>\n",
       "      <th>0</th>\n",
       "      <td>-1.412641</td>\n",
       "      <td>-0.430443</td>\n",
       "      <td>-0.345535</td>\n",
       "      <td>-0.656488</td>\n",
       "      <td>-0.411125</td>\n",
       "      <td>-0.335885</td>\n",
       "      <td>-0.178162</td>\n",
       "      <td>0.001409</td>\n",
       "      <td>0.0</td>\n",
       "      <td>0.0</td>\n",
       "      <td>...</td>\n",
       "      <td>0.0</td>\n",
       "      <td>1.0</td>\n",
       "      <td>1.0</td>\n",
       "      <td>0.0</td>\n",
       "      <td>0.0</td>\n",
       "      <td>0.0</td>\n",
       "      <td>0.0</td>\n",
       "      <td>0.0</td>\n",
       "      <td>1.0</td>\n",
       "      <td>0</td>\n",
       "    </tr>\n",
       "    <tr>\n",
       "      <th>1</th>\n",
       "      <td>0.855078</td>\n",
       "      <td>-0.462731</td>\n",
       "      <td>-0.912556</td>\n",
       "      <td>2.577611</td>\n",
       "      <td>-0.411125</td>\n",
       "      <td>-0.335885</td>\n",
       "      <td>-0.262245</td>\n",
       "      <td>-0.279402</td>\n",
       "      <td>0.0</td>\n",
       "      <td>0.0</td>\n",
       "      <td>...</td>\n",
       "      <td>1.0</td>\n",
       "      <td>0.0</td>\n",
       "      <td>0.0</td>\n",
       "      <td>1.0</td>\n",
       "      <td>0.0</td>\n",
       "      <td>0.0</td>\n",
       "      <td>0.0</td>\n",
       "      <td>0.0</td>\n",
       "      <td>1.0</td>\n",
       "      <td>0</td>\n",
       "    </tr>\n",
       "    <tr>\n",
       "      <th>2</th>\n",
       "      <td>1.422008</td>\n",
       "      <td>-0.278968</td>\n",
       "      <td>0.379918</td>\n",
       "      <td>0.556299</td>\n",
       "      <td>-0.411125</td>\n",
       "      <td>-0.335885</td>\n",
       "      <td>-0.287045</td>\n",
       "      <td>-0.337086</td>\n",
       "      <td>0.0</td>\n",
       "      <td>0.0</td>\n",
       "      <td>...</td>\n",
       "      <td>1.0</td>\n",
       "      <td>0.0</td>\n",
       "      <td>0.0</td>\n",
       "      <td>0.0</td>\n",
       "      <td>1.0</td>\n",
       "      <td>0.0</td>\n",
       "      <td>0.0</td>\n",
       "      <td>0.0</td>\n",
       "      <td>1.0</td>\n",
       "      <td>0</td>\n",
       "    </tr>\n",
       "    <tr>\n",
       "      <th>3</th>\n",
       "      <td>1.610984</td>\n",
       "      <td>2.131931</td>\n",
       "      <td>-0.362212</td>\n",
       "      <td>-0.656488</td>\n",
       "      <td>4.240569</td>\n",
       "      <td>0.274344</td>\n",
       "      <td>0.321082</td>\n",
       "      <td>-0.087433</td>\n",
       "      <td>0.0</td>\n",
       "      <td>0.0</td>\n",
       "      <td>...</td>\n",
       "      <td>1.0</td>\n",
       "      <td>0.0</td>\n",
       "      <td>0.0</td>\n",
       "      <td>1.0</td>\n",
       "      <td>0.0</td>\n",
       "      <td>0.0</td>\n",
       "      <td>0.0</td>\n",
       "      <td>1.0</td>\n",
       "      <td>0.0</td>\n",
       "      <td>1</td>\n",
       "    </tr>\n",
       "    <tr>\n",
       "      <th>4</th>\n",
       "      <td>-0.940199</td>\n",
       "      <td>-0.454831</td>\n",
       "      <td>-0.574845</td>\n",
       "      <td>-0.656488</td>\n",
       "      <td>-0.411125</td>\n",
       "      <td>-0.335885</td>\n",
       "      <td>-0.076088</td>\n",
       "      <td>-0.494406</td>\n",
       "      <td>0.0</td>\n",
       "      <td>0.0</td>\n",
       "      <td>...</td>\n",
       "      <td>0.0</td>\n",
       "      <td>1.0</td>\n",
       "      <td>1.0</td>\n",
       "      <td>0.0</td>\n",
       "      <td>0.0</td>\n",
       "      <td>0.0</td>\n",
       "      <td>0.0</td>\n",
       "      <td>0.0</td>\n",
       "      <td>1.0</td>\n",
       "      <td>0</td>\n",
       "    </tr>\n",
       "    <tr>\n",
       "      <th>...</th>\n",
       "      <td>...</td>\n",
       "      <td>...</td>\n",
       "      <td>...</td>\n",
       "      <td>...</td>\n",
       "      <td>...</td>\n",
       "      <td>...</td>\n",
       "      <td>...</td>\n",
       "      <td>...</td>\n",
       "      <td>...</td>\n",
       "      <td>...</td>\n",
       "      <td>...</td>\n",
       "      <td>...</td>\n",
       "      <td>...</td>\n",
       "      <td>...</td>\n",
       "      <td>...</td>\n",
       "      <td>...</td>\n",
       "      <td>...</td>\n",
       "      <td>...</td>\n",
       "      <td>...</td>\n",
       "      <td>...</td>\n",
       "      <td>...</td>\n",
       "    </tr>\n",
       "    <tr>\n",
       "      <th>22147</th>\n",
       "      <td>0.288148</td>\n",
       "      <td>-0.024105</td>\n",
       "      <td>-0.737446</td>\n",
       "      <td>-0.656488</td>\n",
       "      <td>2.251228</td>\n",
       "      <td>2.105032</td>\n",
       "      <td>0.650124</td>\n",
       "      <td>0.197445</td>\n",
       "      <td>0.0</td>\n",
       "      <td>0.0</td>\n",
       "      <td>...</td>\n",
       "      <td>0.0</td>\n",
       "      <td>1.0</td>\n",
       "      <td>1.0</td>\n",
       "      <td>0.0</td>\n",
       "      <td>0.0</td>\n",
       "      <td>0.0</td>\n",
       "      <td>1.0</td>\n",
       "      <td>0.0</td>\n",
       "      <td>0.0</td>\n",
       "      <td>1</td>\n",
       "    </tr>\n",
       "    <tr>\n",
       "      <th>22148</th>\n",
       "      <td>0.382637</td>\n",
       "      <td>0.240720</td>\n",
       "      <td>0.233994</td>\n",
       "      <td>-0.656488</td>\n",
       "      <td>7.556139</td>\n",
       "      <td>0.274344</td>\n",
       "      <td>1.798401</td>\n",
       "      <td>0.197445</td>\n",
       "      <td>0.0</td>\n",
       "      <td>0.0</td>\n",
       "      <td>...</td>\n",
       "      <td>0.0</td>\n",
       "      <td>1.0</td>\n",
       "      <td>1.0</td>\n",
       "      <td>0.0</td>\n",
       "      <td>0.0</td>\n",
       "      <td>1.0</td>\n",
       "      <td>0.0</td>\n",
       "      <td>0.0</td>\n",
       "      <td>0.0</td>\n",
       "      <td>1</td>\n",
       "    </tr>\n",
       "    <tr>\n",
       "      <th>22149</th>\n",
       "      <td>-0.373270</td>\n",
       "      <td>-0.488835</td>\n",
       "      <td>-0.099548</td>\n",
       "      <td>-0.656488</td>\n",
       "      <td>1.617806</td>\n",
       "      <td>0.274344</td>\n",
       "      <td>-0.178162</td>\n",
       "      <td>0.197445</td>\n",
       "      <td>0.0</td>\n",
       "      <td>0.0</td>\n",
       "      <td>...</td>\n",
       "      <td>1.0</td>\n",
       "      <td>0.0</td>\n",
       "      <td>1.0</td>\n",
       "      <td>0.0</td>\n",
       "      <td>0.0</td>\n",
       "      <td>0.0</td>\n",
       "      <td>1.0</td>\n",
       "      <td>0.0</td>\n",
       "      <td>0.0</td>\n",
       "      <td>1</td>\n",
       "    </tr>\n",
       "    <tr>\n",
       "      <th>22150</th>\n",
       "      <td>0.004683</td>\n",
       "      <td>-0.324651</td>\n",
       "      <td>-0.583183</td>\n",
       "      <td>5.811710</td>\n",
       "      <td>-0.411125</td>\n",
       "      <td>-0.335885</td>\n",
       "      <td>-0.287045</td>\n",
       "      <td>-0.494406</td>\n",
       "      <td>0.0</td>\n",
       "      <td>0.0</td>\n",
       "      <td>...</td>\n",
       "      <td>1.0</td>\n",
       "      <td>0.0</td>\n",
       "      <td>0.0</td>\n",
       "      <td>0.0</td>\n",
       "      <td>1.0</td>\n",
       "      <td>0.0</td>\n",
       "      <td>0.0</td>\n",
       "      <td>0.0</td>\n",
       "      <td>1.0</td>\n",
       "      <td>0</td>\n",
       "    </tr>\n",
       "    <tr>\n",
       "      <th>22151</th>\n",
       "      <td>0.004683</td>\n",
       "      <td>-0.315721</td>\n",
       "      <td>-0.674907</td>\n",
       "      <td>-0.656488</td>\n",
       "      <td>-0.411125</td>\n",
       "      <td>-0.335885</td>\n",
       "      <td>-0.592346</td>\n",
       "      <td>-0.494406</td>\n",
       "      <td>0.0</td>\n",
       "      <td>0.0</td>\n",
       "      <td>...</td>\n",
       "      <td>0.0</td>\n",
       "      <td>1.0</td>\n",
       "      <td>1.0</td>\n",
       "      <td>0.0</td>\n",
       "      <td>0.0</td>\n",
       "      <td>0.0</td>\n",
       "      <td>0.0</td>\n",
       "      <td>0.0</td>\n",
       "      <td>1.0</td>\n",
       "      <td>0</td>\n",
       "    </tr>\n",
       "  </tbody>\n",
       "</table>\n",
       "<p>22152 rows × 27 columns</p>\n",
       "</div>"
      ],
      "text/plain": [
       "            age   balance  duration  campaign     pdays  previous     month   \n",
       "0     -1.412641 -0.430443 -0.345535 -0.656488 -0.411125 -0.335885 -0.178162  \\\n",
       "1      0.855078 -0.462731 -0.912556  2.577611 -0.411125 -0.335885 -0.262245   \n",
       "2      1.422008 -0.278968  0.379918  0.556299 -0.411125 -0.335885 -0.287045   \n",
       "3      1.610984  2.131931 -0.362212 -0.656488  4.240569  0.274344  0.321082   \n",
       "4     -0.940199 -0.454831 -0.574845 -0.656488 -0.411125 -0.335885 -0.076088   \n",
       "...         ...       ...       ...       ...       ...       ...       ...   \n",
       "22147  0.288148 -0.024105 -0.737446 -0.656488  2.251228  2.105032  0.650124   \n",
       "22148  0.382637  0.240720  0.233994 -0.656488  7.556139  0.274344  1.798401   \n",
       "22149 -0.373270 -0.488835 -0.099548 -0.656488  1.617806  0.274344 -0.178162   \n",
       "22150  0.004683 -0.324651 -0.583183  5.811710 -0.411125 -0.335885 -0.287045   \n",
       "22151  0.004683 -0.315721 -0.674907 -0.656488 -0.411125 -0.335885 -0.592346   \n",
       "\n",
       "            job  default  loan  ...  marital_married  marital_single   \n",
       "0      0.001409      0.0   0.0  ...              0.0             1.0  \\\n",
       "1     -0.279402      0.0   0.0  ...              1.0             0.0   \n",
       "2     -0.337086      0.0   0.0  ...              1.0             0.0   \n",
       "3     -0.087433      0.0   0.0  ...              1.0             0.0   \n",
       "4     -0.494406      0.0   0.0  ...              0.0             1.0   \n",
       "...         ...      ...   ...  ...              ...             ...   \n",
       "22147  0.197445      0.0   0.0  ...              0.0             1.0   \n",
       "22148  0.197445      0.0   0.0  ...              0.0             1.0   \n",
       "22149  0.197445      0.0   0.0  ...              1.0             0.0   \n",
       "22150 -0.494406      0.0   0.0  ...              1.0             0.0   \n",
       "22151 -0.494406      0.0   0.0  ...              0.0             1.0   \n",
       "\n",
       "       contact_cellular  contact_telephone  contact_unknown  poutcome_failure   \n",
       "0                   1.0                0.0              0.0               0.0  \\\n",
       "1                   0.0                1.0              0.0               0.0   \n",
       "2                   0.0                0.0              1.0               0.0   \n",
       "3                   0.0                1.0              0.0               0.0   \n",
       "4                   1.0                0.0              0.0               0.0   \n",
       "...                 ...                ...              ...               ...   \n",
       "22147               1.0                0.0              0.0               0.0   \n",
       "22148               1.0                0.0              0.0               1.0   \n",
       "22149               1.0                0.0              0.0               0.0   \n",
       "22150               0.0                0.0              1.0               0.0   \n",
       "22151               1.0                0.0              0.0               0.0   \n",
       "\n",
       "       poutcome_other  poutcome_success  poutcome_unknown  cluster  \n",
       "0                 0.0               0.0               1.0        0  \n",
       "1                 0.0               0.0               1.0        0  \n",
       "2                 0.0               0.0               1.0        0  \n",
       "3                 0.0               1.0               0.0        1  \n",
       "4                 0.0               0.0               1.0        0  \n",
       "...               ...               ...               ...      ...  \n",
       "22147             1.0               0.0               0.0        1  \n",
       "22148             0.0               0.0               0.0        1  \n",
       "22149             1.0               0.0               0.0        1  \n",
       "22150             0.0               0.0               1.0        0  \n",
       "22151             0.0               0.0               1.0        0  \n",
       "\n",
       "[22152 rows x 27 columns]"
      ]
     },
     "execution_count": 76,
     "metadata": {},
     "output_type": "execute_result"
    }
   ],
   "source": [
    "data_cl = data.join(y_pr_G)\n",
    "data_cl.columns = [                'age',             'balance',            'duration',\n",
    "                  'campaign',               'pdays',            'previous',\n",
    "                     'month',                 'job',             'default',\n",
    "                      'loan',             'housing',   'is_first_campaign',\n",
    "         'education_primary', 'education_secondary',  'education_tertiary',\n",
    "         'education_unknown',    'marital_divorced',     'marital_married',\n",
    "            'marital_single',    'contact_cellular',   'contact_telephone',\n",
    "           'contact_unknown',    'poutcome_failure',      'poutcome_other',\n",
    "          'poutcome_success',    'poutcome_unknown',                     'cluster']\n",
    "data_cl"
   ]
  },
  {
   "cell_type": "code",
   "execution_count": 77,
   "id": "386c10f4",
   "metadata": {},
   "outputs": [
    {
     "data": {
      "image/png": "[encoded data removed]",
      "text/plain": [
       "<Figure size 640x480 with 1 Axes>"
      ]
     },
     "metadata": {},
     "output_type": "display_data"
    }
   ],
   "source": [
    "a = data_cl.iloc[:,:-1].columns[2]\n",
    "cl = data_cl.iloc[:,-1]\n",
    "plt.scatter(data_cl[a],cl)\n",
    "plt.show()"
   ]
  },
  {
   "cell_type": "code",
   "execution_count": 78,
   "id": "3957d141",
   "metadata": {},
   "outputs": [
    {
     "ename": "KeyError",
     "evalue": "'age'",
     "output_type": "error",
     "traceback": [
      "\u001b[1;31m---------------------------------------------------------------------------\u001b[0m",
      "\u001b[1;31mKeyError\u001b[0m                                  Traceback (most recent call last)",
      "Cell \u001b[1;32mIn[78], line 4\u001b[0m\n\u001b[0;32m      1\u001b[0m cl \u001b[38;5;241m=\u001b[39m data_cl\u001b[38;5;241m.\u001b[39miloc[:,\u001b[38;5;241m-\u001b[39m\u001b[38;5;241m1\u001b[39m]\n\u001b[0;32m      2\u001b[0m \u001b[38;5;28;01mfor\u001b[39;00m column \u001b[38;5;129;01min\u001b[39;00m data_cl\u001b[38;5;241m.\u001b[39miloc[:,:\u001b[38;5;241m-\u001b[39m\u001b[38;5;241m1\u001b[39m]\u001b[38;5;241m.\u001b[39mcolumns:\n\u001b[1;32m----> 4\u001b[0m     \u001b[43mdf\u001b[49m\u001b[38;5;241;43m.\u001b[39;49m\u001b[43mpivot\u001b[49m\u001b[43m(\u001b[49m\u001b[43mcolumns\u001b[49m\u001b[43m \u001b[49m\u001b[38;5;241;43m=\u001b[39;49m\u001b[43m \u001b[49m\u001b[38;5;124;43m'\u001b[39;49m\u001b[38;5;124;43mage\u001b[39;49m\u001b[38;5;124;43m'\u001b[39;49m\u001b[43m,\u001b[49m\u001b[43m \u001b[49m\u001b[43mvalues\u001b[49m\u001b[43m \u001b[49m\u001b[38;5;241;43m=\u001b[39;49m\u001b[43m \u001b[49m\u001b[38;5;124;43m'\u001b[39;49m\u001b[38;5;124;43mcluster\u001b[39;49m\u001b[38;5;124;43m'\u001b[39;49m\u001b[43m)\u001b[49m\u001b[38;5;241m.\u001b[39mplot\u001b[38;5;241m.\u001b[39mhist()\n\u001b[0;32m      5\u001b[0m     plt\u001b[38;5;241m.\u001b[39mshow()\n",
      "File \u001b[1;32m~\\anaconda3\\envs\\ENVds\\lib\\site-packages\\pandas\\core\\frame.py:8424\u001b[0m, in \u001b[0;36mDataFrame.pivot\u001b[1;34m(self, columns, index, values)\u001b[0m\n\u001b[0;32m   8419\u001b[0m \u001b[38;5;129m@Substitution\u001b[39m(\u001b[38;5;124m\"\u001b[39m\u001b[38;5;124m\"\u001b[39m)\n\u001b[0;32m   8420\u001b[0m \u001b[38;5;129m@Appender\u001b[39m(_shared_docs[\u001b[38;5;124m\"\u001b[39m\u001b[38;5;124mpivot\u001b[39m\u001b[38;5;124m\"\u001b[39m])\n\u001b[0;32m   8421\u001b[0m \u001b[38;5;28;01mdef\u001b[39;00m \u001b[38;5;21mpivot\u001b[39m(\u001b[38;5;28mself\u001b[39m, \u001b[38;5;241m*\u001b[39m, columns, index\u001b[38;5;241m=\u001b[39mlib\u001b[38;5;241m.\u001b[39mNoDefault, values\u001b[38;5;241m=\u001b[39mlib\u001b[38;5;241m.\u001b[39mNoDefault) \u001b[38;5;241m-\u001b[39m\u001b[38;5;241m>\u001b[39m DataFrame:\n\u001b[0;32m   8422\u001b[0m     \u001b[38;5;28;01mfrom\u001b[39;00m \u001b[38;5;21;01mpandas\u001b[39;00m\u001b[38;5;21;01m.\u001b[39;00m\u001b[38;5;21;01mcore\u001b[39;00m\u001b[38;5;21;01m.\u001b[39;00m\u001b[38;5;21;01mreshape\u001b[39;00m\u001b[38;5;21;01m.\u001b[39;00m\u001b[38;5;21;01mpivot\u001b[39;00m \u001b[38;5;28;01mimport\u001b[39;00m pivot\n\u001b[1;32m-> 8424\u001b[0m     \u001b[38;5;28;01mreturn\u001b[39;00m \u001b[43mpivot\u001b[49m\u001b[43m(\u001b[49m\u001b[38;5;28;43mself\u001b[39;49m\u001b[43m,\u001b[49m\u001b[43m \u001b[49m\u001b[43mindex\u001b[49m\u001b[38;5;241;43m=\u001b[39;49m\u001b[43mindex\u001b[49m\u001b[43m,\u001b[49m\u001b[43m \u001b[49m\u001b[43mcolumns\u001b[49m\u001b[38;5;241;43m=\u001b[39;49m\u001b[43mcolumns\u001b[49m\u001b[43m,\u001b[49m\u001b[43m \u001b[49m\u001b[43mvalues\u001b[49m\u001b[38;5;241;43m=\u001b[39;49m\u001b[43mvalues\u001b[49m\u001b[43m)\u001b[49m\n",
      "File \u001b[1;32m~\\anaconda3\\envs\\ENVds\\lib\\site-packages\\pandas\\core\\reshape\\pivot.py:542\u001b[0m, in \u001b[0;36mpivot\u001b[1;34m(data, columns, index, values)\u001b[0m\n\u001b[0;32m    539\u001b[0m \u001b[38;5;28;01melse\u001b[39;00m:\n\u001b[0;32m    540\u001b[0m     index_list \u001b[38;5;241m=\u001b[39m [data[idx] \u001b[38;5;28;01mfor\u001b[39;00m idx \u001b[38;5;129;01min\u001b[39;00m com\u001b[38;5;241m.\u001b[39mconvert_to_list_like(index)]\n\u001b[1;32m--> 542\u001b[0m data_columns \u001b[38;5;241m=\u001b[39m [data[col] \u001b[38;5;28;01mfor\u001b[39;00m col \u001b[38;5;129;01min\u001b[39;00m columns_listlike]\n\u001b[0;32m    543\u001b[0m index_list\u001b[38;5;241m.\u001b[39mextend(data_columns)\n\u001b[0;32m    544\u001b[0m multiindex \u001b[38;5;241m=\u001b[39m MultiIndex\u001b[38;5;241m.\u001b[39mfrom_arrays(index_list)\n",
      "File \u001b[1;32m~\\anaconda3\\envs\\ENVds\\lib\\site-packages\\pandas\\core\\reshape\\pivot.py:542\u001b[0m, in \u001b[0;36m<listcomp>\u001b[1;34m(.0)\u001b[0m\n\u001b[0;32m    539\u001b[0m \u001b[38;5;28;01melse\u001b[39;00m:\n\u001b[0;32m    540\u001b[0m     index_list \u001b[38;5;241m=\u001b[39m [data[idx] \u001b[38;5;28;01mfor\u001b[39;00m idx \u001b[38;5;129;01min\u001b[39;00m com\u001b[38;5;241m.\u001b[39mconvert_to_list_like(index)]\n\u001b[1;32m--> 542\u001b[0m data_columns \u001b[38;5;241m=\u001b[39m [\u001b[43mdata\u001b[49m\u001b[43m[\u001b[49m\u001b[43mcol\u001b[49m\u001b[43m]\u001b[49m \u001b[38;5;28;01mfor\u001b[39;00m col \u001b[38;5;129;01min\u001b[39;00m columns_listlike]\n\u001b[0;32m    543\u001b[0m index_list\u001b[38;5;241m.\u001b[39mextend(data_columns)\n\u001b[0;32m    544\u001b[0m multiindex \u001b[38;5;241m=\u001b[39m MultiIndex\u001b[38;5;241m.\u001b[39mfrom_arrays(index_list)\n",
      "File \u001b[1;32m~\\anaconda3\\envs\\ENVds\\lib\\site-packages\\pandas\\core\\frame.py:3761\u001b[0m, in \u001b[0;36mDataFrame.__getitem__\u001b[1;34m(self, key)\u001b[0m\n\u001b[0;32m   3759\u001b[0m \u001b[38;5;28;01mif\u001b[39;00m \u001b[38;5;28mself\u001b[39m\u001b[38;5;241m.\u001b[39mcolumns\u001b[38;5;241m.\u001b[39mnlevels \u001b[38;5;241m>\u001b[39m \u001b[38;5;241m1\u001b[39m:\n\u001b[0;32m   3760\u001b[0m     \u001b[38;5;28;01mreturn\u001b[39;00m \u001b[38;5;28mself\u001b[39m\u001b[38;5;241m.\u001b[39m_getitem_multilevel(key)\n\u001b[1;32m-> 3761\u001b[0m indexer \u001b[38;5;241m=\u001b[39m \u001b[38;5;28;43mself\u001b[39;49m\u001b[38;5;241;43m.\u001b[39;49m\u001b[43mcolumns\u001b[49m\u001b[38;5;241;43m.\u001b[39;49m\u001b[43mget_loc\u001b[49m\u001b[43m(\u001b[49m\u001b[43mkey\u001b[49m\u001b[43m)\u001b[49m\n\u001b[0;32m   3762\u001b[0m \u001b[38;5;28;01mif\u001b[39;00m is_integer(indexer):\n\u001b[0;32m   3763\u001b[0m     indexer \u001b[38;5;241m=\u001b[39m [indexer]\n",
      "File \u001b[1;32m~\\anaconda3\\envs\\ENVds\\lib\\site-packages\\pandas\\core\\indexes\\range.py:349\u001b[0m, in \u001b[0;36mRangeIndex.get_loc\u001b[1;34m(self, key)\u001b[0m\n\u001b[0;32m    347\u001b[0m         \u001b[38;5;28;01mraise\u001b[39;00m \u001b[38;5;167;01mKeyError\u001b[39;00m(key) \u001b[38;5;28;01mfrom\u001b[39;00m \u001b[38;5;21;01merr\u001b[39;00m\n\u001b[0;32m    348\u001b[0m \u001b[38;5;28;01mif\u001b[39;00m \u001b[38;5;28misinstance\u001b[39m(key, Hashable):\n\u001b[1;32m--> 349\u001b[0m     \u001b[38;5;28;01mraise\u001b[39;00m \u001b[38;5;167;01mKeyError\u001b[39;00m(key)\n\u001b[0;32m    350\u001b[0m \u001b[38;5;28mself\u001b[39m\u001b[38;5;241m.\u001b[39m_check_indexing_error(key)\n\u001b[0;32m    351\u001b[0m \u001b[38;5;28;01mraise\u001b[39;00m \u001b[38;5;167;01mKeyError\u001b[39;00m(key)\n",
      "\u001b[1;31mKeyError\u001b[0m: 'age'"
     ]
    }
   ],
   "source": [
    "cl = data_cl.iloc[:,-1]\n",
    "for column in data_cl.iloc[:,:-1].columns:\n",
    "\n",
    "    df.pivot(columns = 'age', values = 'cluster').plot.hist()\n",
    "    plt.show()\n",
    "    \n",
    "    "
   ]
  },
  {
   "cell_type": "code",
   "execution_count": 79,
   "id": "c9c3e926",
   "metadata": {},
   "outputs": [
    {
     "data": {
      "text/plain": [
       "<Axes: xlabel='Count', ylabel='age'>"
      ]
     },
     "execution_count": 79,
     "metadata": {},
     "output_type": "execute_result"
    },
    {
     "data": {
      "image/png": "[encoded data removed]",
      "text/plain": [
       "<Figure size 640x480 with 1 Axes>"
      ]
     },
     "metadata": {},
     "output_type": "display_data"
    }
   ],
   "source": [
    "sns.histplot(y='age', data=data_cl, hue='cluster', legend=True)"
   ]
  },
  {
   "cell_type": "code",
   "execution_count": null,
   "id": "f2c4e506",
   "metadata": {},
   "outputs": [],
   "source": []
  },
  {
   "cell_type": "code",
   "execution_count": null,
   "id": "0d8b33fc",
   "metadata": {},
   "outputs": [],
   "source": []
  }
 ],
 "metadata": {
  "kernelspec": {
   "display_name": "ENVds",
   "language": "python",
   "name": "envds"
  },
  "language_info": {
   "codemirror_mode": {
    "name": "ipython",
    "version": 3
   },
   "file_extension": ".py",
   "mimetype": "text/x-python",
   "name": "python",
   "nbconvert_exporter": "python",
   "pygments_lexer": "ipython3",
   "version": "3.9.16"
  }
 },
 "nbformat": 4,
 "nbformat_minor": 5
}
