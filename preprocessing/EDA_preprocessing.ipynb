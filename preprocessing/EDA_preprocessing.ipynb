{
 "cells": [
  {
   "cell_type": "code",
   "execution_count": 1,
   "id": "8730a8ee",
   "metadata": {
    "ExecuteTime": {
     "end_time": "2023-06-01T17:44:44.312428Z",
     "start_time": "2023-06-01T17:44:43.614386Z"
    }
   },
   "outputs": [
    {
     "ename": "ModuleNotFoundError",
     "evalue": "No module named 'category_encoders'",
     "output_type": "error",
     "traceback": [
      "\u001b[1;31m---------------------------------------------------------------------------\u001b[0m",
      "\u001b[1;31mModuleNotFoundError\u001b[0m                       Traceback (most recent call last)",
      "Cell \u001b[1;32mIn[1], line 13\u001b[0m\n\u001b[0;32m     10\u001b[0m \u001b[38;5;28;01mfrom\u001b[39;00m \u001b[38;5;21;01msklearn\u001b[39;00m\u001b[38;5;21;01m.\u001b[39;00m\u001b[38;5;21;01mcompose\u001b[39;00m \u001b[38;5;28;01mimport\u001b[39;00m ColumnTransformer\n\u001b[0;32m     11\u001b[0m \u001b[38;5;28;01mfrom\u001b[39;00m \u001b[38;5;21;01msklearn\u001b[39;00m\u001b[38;5;21;01m.\u001b[39;00m\u001b[38;5;21;01mpipeline\u001b[39;00m \u001b[38;5;28;01mimport\u001b[39;00m Pipeline\n\u001b[1;32m---> 13\u001b[0m \u001b[38;5;28;01mfrom\u001b[39;00m \u001b[38;5;21;01mcategory_encoders\u001b[39;00m\u001b[38;5;21;01m.\u001b[39;00m\u001b[38;5;21;01mwoe\u001b[39;00m \u001b[38;5;28;01mimport\u001b[39;00m WOEEncoder\n",
      "\u001b[1;31mModuleNotFoundError\u001b[0m: No module named 'category_encoders'"
     ]
    }
   ],
   "source": [
    "import pandas as pd\n",
    "import numpy as np\n",
    "\n",
    "import seaborn as sns\n",
    "import matplotlib.pyplot as plt\n",
    "\n",
    "from sklearn.model_selection import train_test_split\n",
    "from sklearn.base import BaseEstimator, TransformerMixin\n",
    "from sklearn.preprocessing import StandardScaler, OneHotEncoder, FunctionTransformer\n",
    "from sklearn.compose import ColumnTransformer\n",
    "from sklearn.pipeline import Pipeline\n",
    "\n",
    "from category_encoders.woe import WOEEncoder"
   ]
  },
  {
   "cell_type": "markdown",
   "id": "da4ce0a6",
   "metadata": {},
   "source": [
    "# Ładowanie i podział zbioru danych"
   ]
  },
  {
   "cell_type": "code",
   "execution_count": 2,
   "id": "e2097f93",
   "metadata": {
    "ExecuteTime": {
     "end_time": "2023-06-01T17:44:44.322494Z",
     "start_time": "2023-06-01T17:44:43.802903Z"
    }
   },
   "outputs": [
    {
     "data": {
      "text/plain": [
       "(45211, 17)"
      ]
     },
     "execution_count": 2,
     "metadata": {},
     "output_type": "execute_result"
    }
   ],
   "source": [
    "dataset = pd.read_csv(\"../data/bank-full.csv\")\n",
    "dataset.shape"
   ]
  },
  {
   "cell_type": "code",
   "execution_count": 3,
   "id": "da4a24de",
   "metadata": {
    "ExecuteTime": {
     "end_time": "2023-06-01T17:44:44.322603Z",
     "start_time": "2023-06-01T17:44:43.871156Z"
    }
   },
   "outputs": [],
   "source": [
    "build, val = train_test_split(dataset, test_size=0.3,random_state=42)\n",
    "train, test = train_test_split(build, test_size=0.3, random_state=42)"
   ]
  },
  {
   "cell_type": "code",
   "execution_count": 5,
   "id": "9171d11c",
   "metadata": {},
   "outputs": [],
   "source": [
    "train.to_csv(\"../preprocessed_data/train.csv\",index=False)\n",
    "test.to_csv(\"../preprocessed_data/test.csv\",index=False)\n",
    "val.to_csv(\"../preprocessed_data/val.csv\",index=False)"
   ]
  },
  {
   "cell_type": "code",
   "execution_count": 4,
   "id": "c02d35d5",
   "metadata": {
    "ExecuteTime": {
     "end_time": "2023-06-01T17:44:44.322676Z",
     "start_time": "2023-06-01T17:44:43.883543Z"
    }
   },
   "outputs": [
    {
     "data": {
      "text/plain": [
       "(22152, 17)"
      ]
     },
     "execution_count": 4,
     "metadata": {},
     "output_type": "execute_result"
    }
   ],
   "source": [
    "df = train.copy()\n",
    "df.shape"
   ]
  },
  {
   "cell_type": "markdown",
   "id": "ad98b8bc",
   "metadata": {},
   "source": [
    "# Eksploracyjna analiza danych"
   ]
  },
  {
   "cell_type": "code",
   "execution_count": 5,
   "id": "eeb28843",
   "metadata": {
    "ExecuteTime": {
     "end_time": "2023-06-01T17:44:44.338970Z",
     "start_time": "2023-06-01T17:44:43.910272Z"
    }
   },
   "outputs": [
    {
     "data": {
      "text/html": [
       "<div>\n",
       "<style scoped>\n",
       "    .dataframe tbody tr th:only-of-type {\n",
       "        vertical-align: middle;\n",
       "    }\n",
       "\n",
       "    .dataframe tbody tr th {\n",
       "        vertical-align: top;\n",
       "    }\n",
       "\n",
       "    .dataframe thead th {\n",
       "        text-align: right;\n",
       "    }\n",
       "</style>\n",
       "<table border=\"1\" class=\"dataframe\">\n",
       "  <thead>\n",
       "    <tr style=\"text-align: right;\">\n",
       "      <th></th>\n",
       "      <th>age</th>\n",
       "      <th>job</th>\n",
       "      <th>marital</th>\n",
       "      <th>education</th>\n",
       "      <th>default</th>\n",
       "      <th>balance</th>\n",
       "      <th>housing</th>\n",
       "      <th>loan</th>\n",
       "      <th>contact</th>\n",
       "      <th>day</th>\n",
       "      <th>month</th>\n",
       "      <th>duration</th>\n",
       "      <th>campaign</th>\n",
       "      <th>pdays</th>\n",
       "      <th>previous</th>\n",
       "      <th>poutcome</th>\n",
       "      <th>y</th>\n",
       "    </tr>\n",
       "  </thead>\n",
       "  <tbody>\n",
       "    <tr>\n",
       "      <th>28440</th>\n",
       "      <td>26</td>\n",
       "      <td>admin.</td>\n",
       "      <td>single</td>\n",
       "      <td>secondary</td>\n",
       "      <td>no</td>\n",
       "      <td>94</td>\n",
       "      <td>no</td>\n",
       "      <td>no</td>\n",
       "      <td>cellular</td>\n",
       "      <td>29</td>\n",
       "      <td>jan</td>\n",
       "      <td>171</td>\n",
       "      <td>1</td>\n",
       "      <td>-1</td>\n",
       "      <td>0</td>\n",
       "      <td>unknown</td>\n",
       "      <td>no</td>\n",
       "    </tr>\n",
       "    <tr>\n",
       "      <th>18510</th>\n",
       "      <td>50</td>\n",
       "      <td>services</td>\n",
       "      <td>married</td>\n",
       "      <td>secondary</td>\n",
       "      <td>yes</td>\n",
       "      <td>0</td>\n",
       "      <td>no</td>\n",
       "      <td>no</td>\n",
       "      <td>telephone</td>\n",
       "      <td>31</td>\n",
       "      <td>jul</td>\n",
       "      <td>35</td>\n",
       "      <td>9</td>\n",
       "      <td>-1</td>\n",
       "      <td>0</td>\n",
       "      <td>unknown</td>\n",
       "      <td>no</td>\n",
       "    </tr>\n",
       "    <tr>\n",
       "      <th>10722</th>\n",
       "      <td>56</td>\n",
       "      <td>entrepreneur</td>\n",
       "      <td>married</td>\n",
       "      <td>secondary</td>\n",
       "      <td>no</td>\n",
       "      <td>535</td>\n",
       "      <td>yes</td>\n",
       "      <td>yes</td>\n",
       "      <td>unknown</td>\n",
       "      <td>16</td>\n",
       "      <td>jun</td>\n",
       "      <td>345</td>\n",
       "      <td>4</td>\n",
       "      <td>-1</td>\n",
       "      <td>0</td>\n",
       "      <td>unknown</td>\n",
       "      <td>no</td>\n",
       "    </tr>\n",
       "    <tr>\n",
       "      <th>42957</th>\n",
       "      <td>58</td>\n",
       "      <td>technician</td>\n",
       "      <td>married</td>\n",
       "      <td>secondary</td>\n",
       "      <td>no</td>\n",
       "      <td>7554</td>\n",
       "      <td>no</td>\n",
       "      <td>no</td>\n",
       "      <td>telephone</td>\n",
       "      <td>9</td>\n",
       "      <td>feb</td>\n",
       "      <td>167</td>\n",
       "      <td>1</td>\n",
       "      <td>469</td>\n",
       "      <td>1</td>\n",
       "      <td>success</td>\n",
       "      <td>no</td>\n",
       "    </tr>\n",
       "    <tr>\n",
       "      <th>26987</th>\n",
       "      <td>31</td>\n",
       "      <td>blue-collar</td>\n",
       "      <td>single</td>\n",
       "      <td>secondary</td>\n",
       "      <td>no</td>\n",
       "      <td>23</td>\n",
       "      <td>no</td>\n",
       "      <td>no</td>\n",
       "      <td>cellular</td>\n",
       "      <td>21</td>\n",
       "      <td>nov</td>\n",
       "      <td>116</td>\n",
       "      <td>1</td>\n",
       "      <td>-1</td>\n",
       "      <td>0</td>\n",
       "      <td>unknown</td>\n",
       "      <td>no</td>\n",
       "    </tr>\n",
       "  </tbody>\n",
       "</table>\n",
       "</div>"
      ],
      "text/plain": [
       "       age           job  marital  education default  balance housing loan  \\\n",
       "28440   26        admin.   single  secondary      no       94      no   no   \n",
       "18510   50      services  married  secondary     yes        0      no   no   \n",
       "10722   56  entrepreneur  married  secondary      no      535     yes  yes   \n",
       "42957   58    technician  married  secondary      no     7554      no   no   \n",
       "26987   31   blue-collar   single  secondary      no       23      no   no   \n",
       "\n",
       "         contact  day month  duration  campaign  pdays  previous poutcome   y  \n",
       "28440   cellular   29   jan       171         1     -1         0  unknown  no  \n",
       "18510  telephone   31   jul        35         9     -1         0  unknown  no  \n",
       "10722    unknown   16   jun       345         4     -1         0  unknown  no  \n",
       "42957  telephone    9   feb       167         1    469         1  success  no  \n",
       "26987   cellular   21   nov       116         1     -1         0  unknown  no  "
      ]
     },
     "execution_count": 5,
     "metadata": {},
     "output_type": "execute_result"
    }
   ],
   "source": [
    "df.head()"
   ]
  },
  {
   "cell_type": "code",
   "execution_count": 6,
   "id": "3de6f70c",
   "metadata": {
    "ExecuteTime": {
     "end_time": "2023-06-01T17:44:44.339481Z",
     "start_time": "2023-06-01T17:44:43.936756Z"
    }
   },
   "outputs": [
    {
     "name": "stdout",
     "output_type": "stream",
     "text": [
      "<class 'pandas.core.frame.DataFrame'>\n",
      "Int64Index: 22152 entries, 28440 to 36613\n",
      "Data columns (total 17 columns):\n",
      " #   Column     Non-Null Count  Dtype \n",
      "---  ------     --------------  ----- \n",
      " 0   age        22152 non-null  int64 \n",
      " 1   job        22152 non-null  object\n",
      " 2   marital    22152 non-null  object\n",
      " 3   education  22152 non-null  object\n",
      " 4   default    22152 non-null  object\n",
      " 5   balance    22152 non-null  int64 \n",
      " 6   housing    22152 non-null  object\n",
      " 7   loan       22152 non-null  object\n",
      " 8   contact    22152 non-null  object\n",
      " 9   day        22152 non-null  int64 \n",
      " 10  month      22152 non-null  object\n",
      " 11  duration   22152 non-null  int64 \n",
      " 12  campaign   22152 non-null  int64 \n",
      " 13  pdays      22152 non-null  int64 \n",
      " 14  previous   22152 non-null  int64 \n",
      " 15  poutcome   22152 non-null  object\n",
      " 16  y          22152 non-null  object\n",
      "dtypes: int64(7), object(10)\n",
      "memory usage: 3.0+ MB\n"
     ]
    }
   ],
   "source": [
    "df.info()"
   ]
  },
  {
   "cell_type": "markdown",
   "id": "e910f367",
   "metadata": {},
   "source": [
    "Brak wartości null, kolumny zarówno numeryczne jak i kategoryczne"
   ]
  },
  {
   "cell_type": "code",
   "execution_count": 7,
   "id": "b3d3145b",
   "metadata": {
    "ExecuteTime": {
     "end_time": "2023-06-01T17:44:44.339685Z",
     "start_time": "2023-06-01T17:44:43.945193Z"
    }
   },
   "outputs": [
    {
     "data": {
      "text/html": [
       "<div>\n",
       "<style scoped>\n",
       "    .dataframe tbody tr th:only-of-type {\n",
       "        vertical-align: middle;\n",
       "    }\n",
       "\n",
       "    .dataframe tbody tr th {\n",
       "        vertical-align: top;\n",
       "    }\n",
       "\n",
       "    .dataframe thead th {\n",
       "        text-align: right;\n",
       "    }\n",
       "</style>\n",
       "<table border=\"1\" class=\"dataframe\">\n",
       "  <thead>\n",
       "    <tr style=\"text-align: right;\">\n",
       "      <th></th>\n",
       "      <th>age</th>\n",
       "      <th>balance</th>\n",
       "      <th>day</th>\n",
       "      <th>duration</th>\n",
       "      <th>campaign</th>\n",
       "      <th>pdays</th>\n",
       "      <th>previous</th>\n",
       "    </tr>\n",
       "  </thead>\n",
       "  <tbody>\n",
       "    <tr>\n",
       "      <th>count</th>\n",
       "      <td>22152.000000</td>\n",
       "      <td>22152.000000</td>\n",
       "      <td>22152.000000</td>\n",
       "      <td>22152.000000</td>\n",
       "      <td>22152.000000</td>\n",
       "      <td>22152.000000</td>\n",
       "      <td>22152.000000</td>\n",
       "    </tr>\n",
       "    <tr>\n",
       "      <th>mean</th>\n",
       "      <td>40.950433</td>\n",
       "      <td>1347.177095</td>\n",
       "      <td>15.863714</td>\n",
       "      <td>257.111547</td>\n",
       "      <td>2.767606</td>\n",
       "      <td>40.539410</td>\n",
       "      <td>0.586087</td>\n",
       "    </tr>\n",
       "    <tr>\n",
       "      <th>std</th>\n",
       "      <td>10.583563</td>\n",
       "      <td>2911.428365</td>\n",
       "      <td>8.311830</td>\n",
       "      <td>256.093527</td>\n",
       "      <td>3.123506</td>\n",
       "      <td>101.040739</td>\n",
       "      <td>2.600391</td>\n",
       "    </tr>\n",
       "    <tr>\n",
       "      <th>min</th>\n",
       "      <td>18.000000</td>\n",
       "      <td>-6847.000000</td>\n",
       "      <td>1.000000</td>\n",
       "      <td>0.000000</td>\n",
       "      <td>1.000000</td>\n",
       "      <td>-1.000000</td>\n",
       "      <td>0.000000</td>\n",
       "    </tr>\n",
       "    <tr>\n",
       "      <th>25%</th>\n",
       "      <td>33.000000</td>\n",
       "      <td>68.000000</td>\n",
       "      <td>8.000000</td>\n",
       "      <td>103.000000</td>\n",
       "      <td>1.000000</td>\n",
       "      <td>-1.000000</td>\n",
       "      <td>0.000000</td>\n",
       "    </tr>\n",
       "    <tr>\n",
       "      <th>50%</th>\n",
       "      <td>39.000000</td>\n",
       "      <td>447.000000</td>\n",
       "      <td>16.000000</td>\n",
       "      <td>180.000000</td>\n",
       "      <td>2.000000</td>\n",
       "      <td>-1.000000</td>\n",
       "      <td>0.000000</td>\n",
       "    </tr>\n",
       "    <tr>\n",
       "      <th>75%</th>\n",
       "      <td>48.000000</td>\n",
       "      <td>1431.250000</td>\n",
       "      <td>21.000000</td>\n",
       "      <td>318.000000</td>\n",
       "      <td>3.000000</td>\n",
       "      <td>-1.000000</td>\n",
       "      <td>0.000000</td>\n",
       "    </tr>\n",
       "    <tr>\n",
       "      <th>max</th>\n",
       "      <td>95.000000</td>\n",
       "      <td>81204.000000</td>\n",
       "      <td>31.000000</td>\n",
       "      <td>4918.000000</td>\n",
       "      <td>58.000000</td>\n",
       "      <td>871.000000</td>\n",
       "      <td>275.000000</td>\n",
       "    </tr>\n",
       "  </tbody>\n",
       "</table>\n",
       "</div>"
      ],
      "text/plain": [
       "                age       balance           day      duration      campaign  \\\n",
       "count  22152.000000  22152.000000  22152.000000  22152.000000  22152.000000   \n",
       "mean      40.950433   1347.177095     15.863714    257.111547      2.767606   \n",
       "std       10.583563   2911.428365      8.311830    256.093527      3.123506   \n",
       "min       18.000000  -6847.000000      1.000000      0.000000      1.000000   \n",
       "25%       33.000000     68.000000      8.000000    103.000000      1.000000   \n",
       "50%       39.000000    447.000000     16.000000    180.000000      2.000000   \n",
       "75%       48.000000   1431.250000     21.000000    318.000000      3.000000   \n",
       "max       95.000000  81204.000000     31.000000   4918.000000     58.000000   \n",
       "\n",
       "              pdays      previous  \n",
       "count  22152.000000  22152.000000  \n",
       "mean      40.539410      0.586087  \n",
       "std      101.040739      2.600391  \n",
       "min       -1.000000      0.000000  \n",
       "25%       -1.000000      0.000000  \n",
       "50%       -1.000000      0.000000  \n",
       "75%       -1.000000      0.000000  \n",
       "max      871.000000    275.000000  "
      ]
     },
     "execution_count": 7,
     "metadata": {},
     "output_type": "execute_result"
    }
   ],
   "source": [
    "df.describe()"
   ]
  },
  {
   "cell_type": "code",
   "execution_count": 8,
   "id": "c7260a28",
   "metadata": {
    "ExecuteTime": {
     "end_time": "2023-06-01T17:44:44.339863Z",
     "start_time": "2023-06-01T17:44:43.968415Z"
    }
   },
   "outputs": [],
   "source": [
    "df['y'] = np.where(df.y == 'yes', 1, 0)"
   ]
  },
  {
   "cell_type": "markdown",
   "id": "27d71280",
   "metadata": {},
   "source": [
    "## Age\n",
    "\n",
    "Wiek klienta"
   ]
  },
  {
   "cell_type": "code",
   "execution_count": 9,
   "id": "41533888",
   "metadata": {
    "ExecuteTime": {
     "end_time": "2023-06-01T17:44:44.340154Z",
     "start_time": "2023-06-01T17:44:43.972215Z"
    }
   },
   "outputs": [
    {
     "data": {
      "text/plain": [
       "count    22152.000000\n",
       "mean        40.950433\n",
       "std         10.583563\n",
       "min         18.000000\n",
       "25%         33.000000\n",
       "50%         39.000000\n",
       "75%         48.000000\n",
       "max         95.000000\n",
       "Name: age, dtype: float64"
      ]
     },
     "execution_count": 9,
     "metadata": {},
     "output_type": "execute_result"
    }
   ],
   "source": [
    "df.age.describe()"
   ]
  },
  {
   "cell_type": "markdown",
   "id": "48ae956c",
   "metadata": {},
   "source": [
    "Jak widzimy, wartości są prawdopodobne - min = 18 i max = 95. Z tego powodu nie przewiduje żadnych outlierów."
   ]
  },
  {
   "cell_type": "code",
   "execution_count": 10,
   "id": "497117f8",
   "metadata": {
    "ExecuteTime": {
     "end_time": "2023-06-01T17:44:44.340401Z",
     "start_time": "2023-06-01T17:44:43.978811Z"
    }
   },
   "outputs": [
    {
     "data": {
      "image/png": "[encoded data removed]",
      "text/plain": [
       "<Figure size 432x288 with 1 Axes>"
      ]
     },
     "metadata": {},
     "output_type": "display_data"
    }
   ],
   "source": [
    "df.age.hist()\n",
    "plt.show()"
   ]
  },
  {
   "cell_type": "markdown",
   "id": "3331c339",
   "metadata": {},
   "source": [
    "## Job\n",
    "\n",
    "Rodzaj zatrudnienia klienta"
   ]
  },
  {
   "cell_type": "code",
   "execution_count": 11,
   "id": "980d8f21",
   "metadata": {
    "ExecuteTime": {
     "end_time": "2023-06-01T17:44:44.340469Z",
     "start_time": "2023-06-01T17:44:44.121476Z"
    }
   },
   "outputs": [
    {
     "data": {
      "text/plain": [
       "blue-collar      4782\n",
       "management       4597\n",
       "technician       3716\n",
       "admin.           2518\n",
       "services         2093\n",
       "retired          1118\n",
       "self-employed     782\n",
       "entrepreneur      711\n",
       "unemployed        618\n",
       "housemaid         616\n",
       "student           467\n",
       "unknown           134\n",
       "Name: job, dtype: int64"
      ]
     },
     "execution_count": 11,
     "metadata": {},
     "output_type": "execute_result"
    }
   ],
   "source": [
    "df.job.value_counts()"
   ]
  },
  {
   "cell_type": "code",
   "execution_count": 12,
   "id": "4ed745d5",
   "metadata": {
    "ExecuteTime": {
     "end_time": "2023-06-01T17:44:44.340528Z",
     "start_time": "2023-06-01T17:44:44.127244Z"
    }
   },
   "outputs": [
    {
     "data": {
      "text/html": [
       "<div>\n",
       "<style scoped>\n",
       "    .dataframe tbody tr th:only-of-type {\n",
       "        vertical-align: middle;\n",
       "    }\n",
       "\n",
       "    .dataframe tbody tr th {\n",
       "        vertical-align: top;\n",
       "    }\n",
       "\n",
       "    .dataframe thead th {\n",
       "        text-align: right;\n",
       "    }\n",
       "</style>\n",
       "<table border=\"1\" class=\"dataframe\">\n",
       "  <thead>\n",
       "    <tr style=\"text-align: right;\">\n",
       "      <th></th>\n",
       "      <th>mean</th>\n",
       "      <th>count</th>\n",
       "    </tr>\n",
       "    <tr>\n",
       "      <th>job</th>\n",
       "      <th></th>\n",
       "      <th></th>\n",
       "    </tr>\n",
       "  </thead>\n",
       "  <tbody>\n",
       "    <tr>\n",
       "      <th>student</th>\n",
       "      <td>0.295503</td>\n",
       "      <td>467</td>\n",
       "    </tr>\n",
       "    <tr>\n",
       "      <th>retired</th>\n",
       "      <td>0.220930</td>\n",
       "      <td>1118</td>\n",
       "    </tr>\n",
       "    <tr>\n",
       "      <th>unemployed</th>\n",
       "      <td>0.169903</td>\n",
       "      <td>618</td>\n",
       "    </tr>\n",
       "    <tr>\n",
       "      <th>management</th>\n",
       "      <td>0.139656</td>\n",
       "      <td>4597</td>\n",
       "    </tr>\n",
       "    <tr>\n",
       "      <th>admin.</th>\n",
       "      <td>0.117554</td>\n",
       "      <td>2518</td>\n",
       "    </tr>\n",
       "    <tr>\n",
       "      <th>self-employed</th>\n",
       "      <td>0.113811</td>\n",
       "      <td>782</td>\n",
       "    </tr>\n",
       "    <tr>\n",
       "      <th>technician</th>\n",
       "      <td>0.108719</td>\n",
       "      <td>3716</td>\n",
       "    </tr>\n",
       "    <tr>\n",
       "      <th>housemaid</th>\n",
       "      <td>0.100649</td>\n",
       "      <td>616</td>\n",
       "    </tr>\n",
       "    <tr>\n",
       "      <th>services</th>\n",
       "      <td>0.091257</td>\n",
       "      <td>2093</td>\n",
       "    </tr>\n",
       "    <tr>\n",
       "      <th>unknown</th>\n",
       "      <td>0.089552</td>\n",
       "      <td>134</td>\n",
       "    </tr>\n",
       "    <tr>\n",
       "      <th>entrepreneur</th>\n",
       "      <td>0.085795</td>\n",
       "      <td>711</td>\n",
       "    </tr>\n",
       "    <tr>\n",
       "      <th>blue-collar</th>\n",
       "      <td>0.075073</td>\n",
       "      <td>4782</td>\n",
       "    </tr>\n",
       "  </tbody>\n",
       "</table>\n",
       "</div>"
      ],
      "text/plain": [
       "                   mean  count\n",
       "job                           \n",
       "student        0.295503    467\n",
       "retired        0.220930   1118\n",
       "unemployed     0.169903    618\n",
       "management     0.139656   4597\n",
       "admin.         0.117554   2518\n",
       "self-employed  0.113811    782\n",
       "technician     0.108719   3716\n",
       "housemaid      0.100649    616\n",
       "services       0.091257   2093\n",
       "unknown        0.089552    134\n",
       "entrepreneur   0.085795    711\n",
       "blue-collar    0.075073   4782"
      ]
     },
     "execution_count": 12,
     "metadata": {},
     "output_type": "execute_result"
    }
   ],
   "source": [
    "df.groupby('job')['y'].agg(['mean','count']).sort_values('mean',ascending = False)"
   ]
  },
  {
   "cell_type": "code",
   "execution_count": 13,
   "id": "5fe6be5e",
   "metadata": {
    "ExecuteTime": {
     "end_time": "2023-06-01T17:44:44.340606Z",
     "start_time": "2023-06-01T17:44:44.135171Z"
    }
   },
   "outputs": [
    {
     "data": {
      "text/html": [
       "<div>\n",
       "<style scoped>\n",
       "    .dataframe tbody tr th:only-of-type {\n",
       "        vertical-align: middle;\n",
       "    }\n",
       "\n",
       "    .dataframe tbody tr th {\n",
       "        vertical-align: top;\n",
       "    }\n",
       "\n",
       "    .dataframe thead th {\n",
       "        text-align: right;\n",
       "    }\n",
       "</style>\n",
       "<table border=\"1\" class=\"dataframe\">\n",
       "  <thead>\n",
       "    <tr style=\"text-align: right;\">\n",
       "      <th></th>\n",
       "      <th>mean</th>\n",
       "      <th>count</th>\n",
       "    </tr>\n",
       "    <tr>\n",
       "      <th>job</th>\n",
       "      <th></th>\n",
       "      <th></th>\n",
       "    </tr>\n",
       "  </thead>\n",
       "  <tbody>\n",
       "    <tr>\n",
       "      <th>1.149671</th>\n",
       "      <td>0.295503</td>\n",
       "      <td>467</td>\n",
       "    </tr>\n",
       "    <tr>\n",
       "      <th>0.756929</th>\n",
       "      <td>0.220930</td>\n",
       "      <td>1118</td>\n",
       "    </tr>\n",
       "    <tr>\n",
       "      <th>0.435505</th>\n",
       "      <td>0.169903</td>\n",
       "      <td>618</td>\n",
       "    </tr>\n",
       "    <tr>\n",
       "      <th>0.197445</th>\n",
       "      <td>0.139656</td>\n",
       "      <td>4597</td>\n",
       "    </tr>\n",
       "    <tr>\n",
       "      <th>0.001409</th>\n",
       "      <td>0.117554</td>\n",
       "      <td>2518</td>\n",
       "    </tr>\n",
       "    <tr>\n",
       "      <th>-0.028373</th>\n",
       "      <td>0.113811</td>\n",
       "      <td>782</td>\n",
       "    </tr>\n",
       "    <tr>\n",
       "      <th>-0.087433</th>\n",
       "      <td>0.108719</td>\n",
       "      <td>3716</td>\n",
       "    </tr>\n",
       "    <tr>\n",
       "      <th>-0.161544</th>\n",
       "      <td>0.100649</td>\n",
       "      <td>616</td>\n",
       "    </tr>\n",
       "    <tr>\n",
       "      <th>-0.279402</th>\n",
       "      <td>0.091257</td>\n",
       "      <td>2093</td>\n",
       "    </tr>\n",
       "    <tr>\n",
       "      <th>-0.232946</th>\n",
       "      <td>0.089552</td>\n",
       "      <td>134</td>\n",
       "    </tr>\n",
       "    <tr>\n",
       "      <th>-0.337086</th>\n",
       "      <td>0.085795</td>\n",
       "      <td>711</td>\n",
       "    </tr>\n",
       "    <tr>\n",
       "      <th>-0.494406</th>\n",
       "      <td>0.075073</td>\n",
       "      <td>4782</td>\n",
       "    </tr>\n",
       "  </tbody>\n",
       "</table>\n",
       "</div>"
      ],
      "text/plain": [
       "               mean  count\n",
       "job                       \n",
       " 1.149671  0.295503    467\n",
       " 0.756929  0.220930   1118\n",
       " 0.435505  0.169903    618\n",
       " 0.197445  0.139656   4597\n",
       " 0.001409  0.117554   2518\n",
       "-0.028373  0.113811    782\n",
       "-0.087433  0.108719   3716\n",
       "-0.161544  0.100649    616\n",
       "-0.279402  0.091257   2093\n",
       "-0.232946  0.089552    134\n",
       "-0.337086  0.085795    711\n",
       "-0.494406  0.075073   4782"
      ]
     },
     "execution_count": 13,
     "metadata": {},
     "output_type": "execute_result"
    }
   ],
   "source": [
    "job_encoded = WOEEncoder().fit_transform(df.job, df.y)\n",
    "job_encoded.join(df.y).groupby('job')['y'].agg(['mean','count']).sort_values('mean',ascending = False)"
   ]
  },
  {
   "cell_type": "markdown",
   "id": "544122d2",
   "metadata": {},
   "source": [
    "## Martial\n",
    "\n",
    "Stan cywilny klienta"
   ]
  },
  {
   "cell_type": "code",
   "execution_count": 14,
   "id": "f8803f5d",
   "metadata": {
    "ExecuteTime": {
     "end_time": "2023-06-01T17:44:44.340676Z",
     "start_time": "2023-06-01T17:44:44.168362Z"
    }
   },
   "outputs": [
    {
     "data": {
      "text/plain": [
       "married     13399\n",
       "single       6228\n",
       "divorced     2525\n",
       "Name: marital, dtype: int64"
      ]
     },
     "execution_count": 14,
     "metadata": {},
     "output_type": "execute_result"
    }
   ],
   "source": [
    "df.marital.value_counts()"
   ]
  },
  {
   "cell_type": "markdown",
   "id": "752acc81",
   "metadata": {},
   "source": [
    "## Education\n",
    "\n",
    "Wykształcenie klienta"
   ]
  },
  {
   "cell_type": "code",
   "execution_count": 15,
   "id": "7e78e470",
   "metadata": {
    "ExecuteTime": {
     "end_time": "2023-06-01T17:44:44.340746Z",
     "start_time": "2023-06-01T17:44:44.178250Z"
    }
   },
   "outputs": [
    {
     "data": {
      "text/plain": [
       "secondary    11449\n",
       "tertiary      6405\n",
       "primary       3356\n",
       "unknown        942\n",
       "Name: education, dtype: int64"
      ]
     },
     "execution_count": 15,
     "metadata": {},
     "output_type": "execute_result"
    }
   ],
   "source": [
    "df.education.value_counts()"
   ]
  },
  {
   "cell_type": "code",
   "execution_count": 16,
   "id": "0e059326",
   "metadata": {
    "ExecuteTime": {
     "end_time": "2023-06-01T17:44:44.342627Z",
     "start_time": "2023-06-01T17:44:44.184134Z"
    }
   },
   "outputs": [
    {
     "data": {
      "text/html": [
       "<div>\n",
       "<style scoped>\n",
       "    .dataframe tbody tr th:only-of-type {\n",
       "        vertical-align: middle;\n",
       "    }\n",
       "\n",
       "    .dataframe tbody tr th {\n",
       "        vertical-align: top;\n",
       "    }\n",
       "\n",
       "    .dataframe thead th {\n",
       "        text-align: right;\n",
       "    }\n",
       "</style>\n",
       "<table border=\"1\" class=\"dataframe\">\n",
       "  <thead>\n",
       "    <tr style=\"text-align: right;\">\n",
       "      <th></th>\n",
       "      <th>mean</th>\n",
       "      <th>count</th>\n",
       "    </tr>\n",
       "    <tr>\n",
       "      <th>education</th>\n",
       "      <th></th>\n",
       "      <th></th>\n",
       "    </tr>\n",
       "  </thead>\n",
       "  <tbody>\n",
       "    <tr>\n",
       "      <th>tertiary</th>\n",
       "      <td>0.153786</td>\n",
       "      <td>6405</td>\n",
       "    </tr>\n",
       "    <tr>\n",
       "      <th>unknown</th>\n",
       "      <td>0.129512</td>\n",
       "      <td>942</td>\n",
       "    </tr>\n",
       "    <tr>\n",
       "      <th>secondary</th>\n",
       "      <td>0.105773</td>\n",
       "      <td>11449</td>\n",
       "    </tr>\n",
       "    <tr>\n",
       "      <th>primary</th>\n",
       "      <td>0.085816</td>\n",
       "      <td>3356</td>\n",
       "    </tr>\n",
       "  </tbody>\n",
       "</table>\n",
       "</div>"
      ],
      "text/plain": [
       "               mean  count\n",
       "education                 \n",
       "tertiary   0.153786   6405\n",
       "unknown    0.129512    942\n",
       "secondary  0.105773  11449\n",
       "primary    0.085816   3356"
      ]
     },
     "execution_count": 16,
     "metadata": {},
     "output_type": "execute_result"
    }
   ],
   "source": [
    "df.groupby('education')['y'].agg(['mean','count']).sort_values('mean',ascending = False)"
   ]
  },
  {
   "cell_type": "markdown",
   "id": "b8650fec",
   "metadata": {},
   "source": [
    "## Default\n",
    "\n",
    "Czy klient ma zaległy kredyt"
   ]
  },
  {
   "cell_type": "code",
   "execution_count": 17,
   "id": "71e98db1",
   "metadata": {
    "ExecuteTime": {
     "end_time": "2023-06-01T17:44:44.342808Z",
     "start_time": "2023-06-01T17:44:44.195435Z"
    }
   },
   "outputs": [
    {
     "data": {
      "text/plain": [
       "no     21707\n",
       "yes      445\n",
       "Name: default, dtype: int64"
      ]
     },
     "execution_count": 17,
     "metadata": {},
     "output_type": "execute_result"
    }
   ],
   "source": [
    "df.default.value_counts()"
   ]
  },
  {
   "cell_type": "markdown",
   "id": "3d97639e",
   "metadata": {},
   "source": [
    "## Balance\n",
    "\n",
    "Roczny bilans klienta w euro"
   ]
  },
  {
   "cell_type": "code",
   "execution_count": 18,
   "id": "c5535c6c",
   "metadata": {
    "ExecuteTime": {
     "end_time": "2023-06-01T17:44:44.343136Z",
     "start_time": "2023-06-01T17:44:44.200126Z"
    }
   },
   "outputs": [
    {
     "data": {
      "text/plain": [
       "count    22152.000000\n",
       "mean      1347.177095\n",
       "std       2911.428365\n",
       "min      -6847.000000\n",
       "25%         68.000000\n",
       "50%        447.000000\n",
       "75%       1431.250000\n",
       "max      81204.000000\n",
       "Name: balance, dtype: float64"
      ]
     },
     "execution_count": 18,
     "metadata": {},
     "output_type": "execute_result"
    }
   ],
   "source": [
    "df.balance.describe()"
   ]
  },
  {
   "cell_type": "code",
   "execution_count": 19,
   "id": "55361b53",
   "metadata": {
    "ExecuteTime": {
     "end_time": "2023-06-01T17:44:44.529994Z",
     "start_time": "2023-06-01T17:44:44.206591Z"
    }
   },
   "outputs": [
    {
     "data": {
      "text/plain": [
       "<AxesSubplot:xlabel='balance', ylabel='Count'>"
      ]
     },
     "execution_count": 19,
     "metadata": {},
     "output_type": "execute_result"
    },
    {
     "data": {
      "image/png": "[encoded data removed]",
      "text/plain": [
       "<Figure size 432x288 with 1 Axes>"
      ]
     },
     "metadata": {},
     "output_type": "display_data"
    }
   ],
   "source": [
    "sns.histplot(df.balance, bins=100)"
   ]
  },
  {
   "cell_type": "markdown",
   "id": "60544af7",
   "metadata": {},
   "source": [
    "Bardzo lewoskośny rozkład."
   ]
  },
  {
   "cell_type": "markdown",
   "id": "57b112d8",
   "metadata": {},
   "source": [
    "## Housing\n",
    "\n",
    "Czy klient ma kredyt mieszkaniowy"
   ]
  },
  {
   "cell_type": "code",
   "execution_count": 20,
   "id": "62af330a",
   "metadata": {
    "ExecuteTime": {
     "end_time": "2023-06-01T17:44:44.543891Z",
     "start_time": "2023-06-01T17:44:44.405355Z"
    }
   },
   "outputs": [
    {
     "data": {
      "text/plain": [
       "yes    12305\n",
       "no      9847\n",
       "Name: housing, dtype: int64"
      ]
     },
     "execution_count": 20,
     "metadata": {},
     "output_type": "execute_result"
    }
   ],
   "source": [
    "df.housing.value_counts()"
   ]
  },
  {
   "cell_type": "code",
   "execution_count": 21,
   "id": "1c50ffe4",
   "metadata": {
    "ExecuteTime": {
     "end_time": "2023-06-01T17:44:44.597382Z",
     "start_time": "2023-06-01T17:44:44.413855Z"
    }
   },
   "outputs": [
    {
     "data": {
      "text/html": [
       "<div>\n",
       "<style scoped>\n",
       "    .dataframe tbody tr th:only-of-type {\n",
       "        vertical-align: middle;\n",
       "    }\n",
       "\n",
       "    .dataframe tbody tr th {\n",
       "        vertical-align: top;\n",
       "    }\n",
       "\n",
       "    .dataframe thead th {\n",
       "        text-align: right;\n",
       "    }\n",
       "</style>\n",
       "<table border=\"1\" class=\"dataframe\">\n",
       "  <thead>\n",
       "    <tr style=\"text-align: right;\">\n",
       "      <th></th>\n",
       "      <th>mean</th>\n",
       "      <th>count</th>\n",
       "    </tr>\n",
       "    <tr>\n",
       "      <th>housing</th>\n",
       "      <th></th>\n",
       "      <th></th>\n",
       "    </tr>\n",
       "  </thead>\n",
       "  <tbody>\n",
       "    <tr>\n",
       "      <th>no</th>\n",
       "      <td>0.166954</td>\n",
       "      <td>9847</td>\n",
       "    </tr>\n",
       "    <tr>\n",
       "      <th>yes</th>\n",
       "      <td>0.078180</td>\n",
       "      <td>12305</td>\n",
       "    </tr>\n",
       "  </tbody>\n",
       "</table>\n",
       "</div>"
      ],
      "text/plain": [
       "             mean  count\n",
       "housing                 \n",
       "no       0.166954   9847\n",
       "yes      0.078180  12305"
      ]
     },
     "execution_count": 21,
     "metadata": {},
     "output_type": "execute_result"
    }
   ],
   "source": [
    "df.groupby('housing')['y'].agg(['mean','count']).sort_values('mean',ascending = False)"
   ]
  },
  {
   "cell_type": "markdown",
   "id": "82c59d36",
   "metadata": {},
   "source": [
    "## Loan\n",
    "\n",
    "Czy klient ma pożyczkę osobistą"
   ]
  },
  {
   "cell_type": "code",
   "execution_count": 22,
   "id": "8be41847",
   "metadata": {
    "ExecuteTime": {
     "end_time": "2023-06-01T17:44:44.606958Z",
     "start_time": "2023-06-01T17:44:44.424281Z"
    }
   },
   "outputs": [
    {
     "data": {
      "text/plain": [
       "no     18596\n",
       "yes     3556\n",
       "Name: loan, dtype: int64"
      ]
     },
     "execution_count": 22,
     "metadata": {},
     "output_type": "execute_result"
    }
   ],
   "source": [
    "df.loan.value_counts()"
   ]
  },
  {
   "cell_type": "code",
   "execution_count": 23,
   "id": "d532d125",
   "metadata": {
    "ExecuteTime": {
     "end_time": "2023-06-01T17:44:44.607123Z",
     "start_time": "2023-06-01T17:44:44.428857Z"
    }
   },
   "outputs": [
    {
     "data": {
      "text/html": [
       "<div>\n",
       "<style scoped>\n",
       "    .dataframe tbody tr th:only-of-type {\n",
       "        vertical-align: middle;\n",
       "    }\n",
       "\n",
       "    .dataframe tbody tr th {\n",
       "        vertical-align: top;\n",
       "    }\n",
       "\n",
       "    .dataframe thead th {\n",
       "        text-align: right;\n",
       "    }\n",
       "</style>\n",
       "<table border=\"1\" class=\"dataframe\">\n",
       "  <thead>\n",
       "    <tr style=\"text-align: right;\">\n",
       "      <th></th>\n",
       "      <th>mean</th>\n",
       "      <th>count</th>\n",
       "    </tr>\n",
       "    <tr>\n",
       "      <th>loan</th>\n",
       "      <th></th>\n",
       "      <th></th>\n",
       "    </tr>\n",
       "  </thead>\n",
       "  <tbody>\n",
       "    <tr>\n",
       "      <th>no</th>\n",
       "      <td>0.127017</td>\n",
       "      <td>18596</td>\n",
       "    </tr>\n",
       "    <tr>\n",
       "      <th>yes</th>\n",
       "      <td>0.068616</td>\n",
       "      <td>3556</td>\n",
       "    </tr>\n",
       "  </tbody>\n",
       "</table>\n",
       "</div>"
      ],
      "text/plain": [
       "          mean  count\n",
       "loan                 \n",
       "no    0.127017  18596\n",
       "yes   0.068616   3556"
      ]
     },
     "execution_count": 23,
     "metadata": {},
     "output_type": "execute_result"
    }
   ],
   "source": [
    "df.groupby('loan')['y'].agg(['mean','count']).sort_values('mean',ascending = False)"
   ]
  },
  {
   "cell_type": "markdown",
   "id": "9cdd0ee5",
   "metadata": {},
   "source": [
    "## Contact\n",
    "\n",
    "Rodzaj komunikacji z klientem"
   ]
  },
  {
   "cell_type": "code",
   "execution_count": 24,
   "id": "01bf271b",
   "metadata": {
    "ExecuteTime": {
     "end_time": "2023-06-01T17:44:44.607271Z",
     "start_time": "2023-06-01T17:44:44.439737Z"
    }
   },
   "outputs": [
    {
     "data": {
      "text/plain": [
       "cellular     14413\n",
       "unknown       6334\n",
       "telephone     1405\n",
       "Name: contact, dtype: int64"
      ]
     },
     "execution_count": 24,
     "metadata": {},
     "output_type": "execute_result"
    }
   ],
   "source": [
    "df.contact.value_counts()"
   ]
  },
  {
   "cell_type": "markdown",
   "id": "52e6d6f2",
   "metadata": {},
   "source": [
    "## Day\n",
    "\n",
    "Dzień miesiąca, w którym nastąpił ostatni kontakt z klientem"
   ]
  },
  {
   "cell_type": "code",
   "execution_count": 25,
   "id": "048c5de6",
   "metadata": {
    "ExecuteTime": {
     "end_time": "2023-06-01T17:44:44.735555Z",
     "start_time": "2023-06-01T17:44:44.451206Z"
    }
   },
   "outputs": [
    {
     "data": {
      "image/png": "[encoded data removed]",
      "text/plain": [
       "<Figure size 432x288 with 1 Axes>"
      ]
     },
     "metadata": {},
     "output_type": "display_data"
    }
   ],
   "source": [
    "sns.histplot(df.day, bins=31)\n",
    "plt.show()"
   ]
  },
  {
   "cell_type": "markdown",
   "id": "ef6783b4",
   "metadata": {},
   "source": [
    "Obserwujemy zmniejszoną aktywność 1., 10. i 24. dnia każdego miesiąca i intrygujący peak 20. dnia miesiąca."
   ]
  },
  {
   "cell_type": "markdown",
   "id": "e0399f94",
   "metadata": {},
   "source": [
    "## Month\n",
    "\n",
    "Miesiąc, w którym nastąpił ostatni kontakt z klientem"
   ]
  },
  {
   "cell_type": "code",
   "execution_count": 26,
   "id": "575b2ddb",
   "metadata": {
    "ExecuteTime": {
     "end_time": "2023-06-01T17:44:44.735884Z",
     "start_time": "2023-06-01T17:44:44.618457Z"
    }
   },
   "outputs": [
    {
     "data": {
      "text/plain": [
       "may    6678\n",
       "jul    3382\n",
       "aug    3018\n",
       "jun    2635\n",
       "nov    1961\n",
       "apr    1457\n",
       "feb    1324\n",
       "jan     695\n",
       "oct     370\n",
       "sep     284\n",
       "mar     236\n",
       "dec     112\n",
       "Name: month, dtype: int64"
      ]
     },
     "execution_count": 26,
     "metadata": {},
     "output_type": "execute_result"
    }
   ],
   "source": [
    "df.month.value_counts()"
   ]
  },
  {
   "cell_type": "code",
   "execution_count": 27,
   "id": "a4b98abe",
   "metadata": {
    "ExecuteTime": {
     "end_time": "2023-06-01T17:44:44.859005Z",
     "start_time": "2023-06-01T17:44:44.618831Z"
    }
   },
   "outputs": [
    {
     "data": {
      "image/png": "[encoded data removed]",
      "text/plain": [
       "<Figure size 432x288 with 1 Axes>"
      ]
     },
     "metadata": {},
     "output_type": "display_data"
    }
   ],
   "source": [
    "df.replace({\"month\":{\"jan\":1,\"feb\":2,\"mar\":3,\"apr\":4,\"may\":5,\"jun\":6,\"jul\":7,\"aug\":8,\"sep\":9,\"oct\":10,\"nov\":11,\"dec\":12}}).month.hist(bins=12)\n",
    "plt.show()"
   ]
  },
  {
   "cell_type": "markdown",
   "id": "ffe936e4",
   "metadata": {},
   "source": [
    "Widzimy nasilenie w miesiącach wiosennych i letnich - duży peak w maju, rzadziej jesienią i zimą (z wyjątkiem października)"
   ]
  },
  {
   "cell_type": "code",
   "execution_count": 28,
   "id": "9eb8bdbc",
   "metadata": {
    "ExecuteTime": {
     "end_time": "2023-06-01T17:44:44.924469Z",
     "start_time": "2023-06-01T17:44:44.755576Z"
    }
   },
   "outputs": [
    {
     "data": {
      "text/html": [
       "<div>\n",
       "<style scoped>\n",
       "    .dataframe tbody tr th:only-of-type {\n",
       "        vertical-align: middle;\n",
       "    }\n",
       "\n",
       "    .dataframe tbody tr th {\n",
       "        vertical-align: top;\n",
       "    }\n",
       "\n",
       "    .dataframe thead th {\n",
       "        text-align: right;\n",
       "    }\n",
       "</style>\n",
       "<table border=\"1\" class=\"dataframe\">\n",
       "  <thead>\n",
       "    <tr style=\"text-align: right;\">\n",
       "      <th></th>\n",
       "      <th>mean</th>\n",
       "      <th>count</th>\n",
       "    </tr>\n",
       "    <tr>\n",
       "      <th>month</th>\n",
       "      <th></th>\n",
       "      <th></th>\n",
       "    </tr>\n",
       "  </thead>\n",
       "  <tbody>\n",
       "    <tr>\n",
       "      <th>may</th>\n",
       "      <td>0.068583</td>\n",
       "      <td>6678</td>\n",
       "    </tr>\n",
       "    <tr>\n",
       "      <th>jul</th>\n",
       "      <td>0.092844</td>\n",
       "      <td>3382</td>\n",
       "    </tr>\n",
       "    <tr>\n",
       "      <th>aug</th>\n",
       "      <td>0.110338</td>\n",
       "      <td>3018</td>\n",
       "    </tr>\n",
       "    <tr>\n",
       "      <th>jun</th>\n",
       "      <td>0.090702</td>\n",
       "      <td>2635</td>\n",
       "    </tr>\n",
       "    <tr>\n",
       "      <th>nov</th>\n",
       "      <td>0.109638</td>\n",
       "      <td>1961</td>\n",
       "    </tr>\n",
       "    <tr>\n",
       "      <th>apr</th>\n",
       "      <td>0.203157</td>\n",
       "      <td>1457</td>\n",
       "    </tr>\n",
       "    <tr>\n",
       "      <th>feb</th>\n",
       "      <td>0.154834</td>\n",
       "      <td>1324</td>\n",
       "    </tr>\n",
       "    <tr>\n",
       "      <th>jan</th>\n",
       "      <td>0.099281</td>\n",
       "      <td>695</td>\n",
       "    </tr>\n",
       "    <tr>\n",
       "      <th>oct</th>\n",
       "      <td>0.445946</td>\n",
       "      <td>370</td>\n",
       "    </tr>\n",
       "    <tr>\n",
       "      <th>sep</th>\n",
       "      <td>0.496479</td>\n",
       "      <td>284</td>\n",
       "    </tr>\n",
       "    <tr>\n",
       "      <th>mar</th>\n",
       "      <td>0.504237</td>\n",
       "      <td>236</td>\n",
       "    </tr>\n",
       "    <tr>\n",
       "      <th>dec</th>\n",
       "      <td>0.464286</td>\n",
       "      <td>112</td>\n",
       "    </tr>\n",
       "  </tbody>\n",
       "</table>\n",
       "</div>"
      ],
      "text/plain": [
       "           mean  count\n",
       "month                 \n",
       "may    0.068583   6678\n",
       "jul    0.092844   3382\n",
       "aug    0.110338   3018\n",
       "jun    0.090702   2635\n",
       "nov    0.109638   1961\n",
       "apr    0.203157   1457\n",
       "feb    0.154834   1324\n",
       "jan    0.099281    695\n",
       "oct    0.445946    370\n",
       "sep    0.496479    284\n",
       "mar    0.504237    236\n",
       "dec    0.464286    112"
      ]
     },
     "execution_count": 28,
     "metadata": {},
     "output_type": "execute_result"
    }
   ],
   "source": [
    "df.groupby('month')['y'].agg(['mean','count']).sort_values('count',ascending = False)"
   ]
  },
  {
   "cell_type": "code",
   "execution_count": 29,
   "id": "cf0a16c8",
   "metadata": {
    "ExecuteTime": {
     "end_time": "2023-06-01T17:44:44.925288Z",
     "start_time": "2023-06-01T17:44:44.768998Z"
    }
   },
   "outputs": [
    {
     "data": {
      "text/html": [
       "<div>\n",
       "<style scoped>\n",
       "    .dataframe tbody tr th:only-of-type {\n",
       "        vertical-align: middle;\n",
       "    }\n",
       "\n",
       "    .dataframe tbody tr th {\n",
       "        vertical-align: top;\n",
       "    }\n",
       "\n",
       "    .dataframe thead th {\n",
       "        text-align: right;\n",
       "    }\n",
       "</style>\n",
       "<table border=\"1\" class=\"dataframe\">\n",
       "  <thead>\n",
       "    <tr style=\"text-align: right;\">\n",
       "      <th></th>\n",
       "      <th>mean</th>\n",
       "      <th>count</th>\n",
       "    </tr>\n",
       "    <tr>\n",
       "      <th>month</th>\n",
       "      <th></th>\n",
       "      <th></th>\n",
       "    </tr>\n",
       "  </thead>\n",
       "  <tbody>\n",
       "    <tr>\n",
       "      <th>2.031096</th>\n",
       "      <td>0.504237</td>\n",
       "      <td>236</td>\n",
       "    </tr>\n",
       "    <tr>\n",
       "      <th>2.000303</th>\n",
       "      <td>0.496479</td>\n",
       "      <td>284</td>\n",
       "    </tr>\n",
       "    <tr>\n",
       "      <th>1.873707</th>\n",
       "      <td>0.464286</td>\n",
       "      <td>112</td>\n",
       "    </tr>\n",
       "    <tr>\n",
       "      <th>1.798401</th>\n",
       "      <td>0.445946</td>\n",
       "      <td>370</td>\n",
       "    </tr>\n",
       "    <tr>\n",
       "      <th>0.650124</th>\n",
       "      <td>0.203157</td>\n",
       "      <td>1457</td>\n",
       "    </tr>\n",
       "    <tr>\n",
       "      <th>0.321082</th>\n",
       "      <td>0.154834</td>\n",
       "      <td>1324</td>\n",
       "    </tr>\n",
       "    <tr>\n",
       "      <th>-0.070378</th>\n",
       "      <td>0.110338</td>\n",
       "      <td>3018</td>\n",
       "    </tr>\n",
       "    <tr>\n",
       "      <th>-0.076088</th>\n",
       "      <td>0.109638</td>\n",
       "      <td>1961</td>\n",
       "    </tr>\n",
       "    <tr>\n",
       "      <th>-0.178162</th>\n",
       "      <td>0.099281</td>\n",
       "      <td>695</td>\n",
       "    </tr>\n",
       "    <tr>\n",
       "      <th>-0.262245</th>\n",
       "      <td>0.092844</td>\n",
       "      <td>3382</td>\n",
       "    </tr>\n",
       "    <tr>\n",
       "      <th>-0.287045</th>\n",
       "      <td>0.090702</td>\n",
       "      <td>2635</td>\n",
       "    </tr>\n",
       "    <tr>\n",
       "      <th>-0.592346</th>\n",
       "      <td>0.068583</td>\n",
       "      <td>6678</td>\n",
       "    </tr>\n",
       "  </tbody>\n",
       "</table>\n",
       "</div>"
      ],
      "text/plain": [
       "               mean  count\n",
       "month                     \n",
       " 2.031096  0.504237    236\n",
       " 2.000303  0.496479    284\n",
       " 1.873707  0.464286    112\n",
       " 1.798401  0.445946    370\n",
       " 0.650124  0.203157   1457\n",
       " 0.321082  0.154834   1324\n",
       "-0.070378  0.110338   3018\n",
       "-0.076088  0.109638   1961\n",
       "-0.178162  0.099281    695\n",
       "-0.262245  0.092844   3382\n",
       "-0.287045  0.090702   2635\n",
       "-0.592346  0.068583   6678"
      ]
     },
     "execution_count": 29,
     "metadata": {},
     "output_type": "execute_result"
    }
   ],
   "source": [
    "month_encoded = WOEEncoder().fit_transform(df.month, df.y)\n",
    "month_encoded.join(df.y).groupby('month')['y'].agg(['mean','count']).sort_values('mean',ascending = False)"
   ]
  },
  {
   "cell_type": "markdown",
   "id": "bfb1d526",
   "metadata": {},
   "source": [
    "## Duration\n",
    "\n",
    "Czas w sekundach ostatniego kontaktu z klientem"
   ]
  },
  {
   "cell_type": "code",
   "execution_count": 30,
   "id": "c07be8fd",
   "metadata": {
    "ExecuteTime": {
     "end_time": "2023-06-01T17:44:44.926767Z",
     "start_time": "2023-06-01T17:44:44.811855Z"
    }
   },
   "outputs": [
    {
     "data": {
      "image/png": "[encoded data removed]",
      "text/plain": [
       "<Figure size 432x288 with 1 Axes>"
      ]
     },
     "metadata": {},
     "output_type": "display_data"
    }
   ],
   "source": [
    "df.duration.hist()\n",
    "plt.show()"
   ]
  },
  {
   "cell_type": "markdown",
   "id": "c7324490",
   "metadata": {},
   "source": [
    "Być może są obecne wartości odstające"
   ]
  },
  {
   "cell_type": "code",
   "execution_count": 31,
   "id": "720caa55",
   "metadata": {
    "ExecuteTime": {
     "end_time": "2023-06-01T17:44:44.926897Z",
     "start_time": "2023-06-01T17:44:44.917864Z"
    }
   },
   "outputs": [
    {
     "data": {
      "text/plain": [
       "24148    4918\n",
       "9947     3881\n",
       "44602    3785\n",
       "30747    3102\n",
       "6451     3094\n",
       "         ... \n",
       "2599        3\n",
       "287         2\n",
       "31740       1\n",
       "22937       0\n",
       "36425       0\n",
       "Name: duration, Length: 22152, dtype: int64"
      ]
     },
     "execution_count": 31,
     "metadata": {},
     "output_type": "execute_result"
    }
   ],
   "source": [
    "df.duration.sort_values(ascending=False)"
   ]
  },
  {
   "cell_type": "markdown",
   "id": "d9d9dfca",
   "metadata": {},
   "source": [
    "Potraktujemy czas trwania połączenia powyżej 2000 sekund jako outlier, żeby nie psuło nam to za bardzo scalingu"
   ]
  },
  {
   "cell_type": "code",
   "execution_count": 32,
   "id": "7f1aa3eb",
   "metadata": {
    "ExecuteTime": {
     "end_time": "2023-06-01T17:44:45.091948Z",
     "start_time": "2023-06-01T17:44:44.923895Z"
    }
   },
   "outputs": [
    {
     "data": {
      "image/png": "[encoded data removed]",
      "text/plain": [
       "<Figure size 432x288 with 1 Axes>"
      ]
     },
     "metadata": {},
     "output_type": "display_data"
    }
   ],
   "source": [
    "df[df.duration<2000].duration.hist()\n",
    "plt.show()"
   ]
  },
  {
   "cell_type": "code",
   "execution_count": 33,
   "id": "ec75d7a5",
   "metadata": {
    "ExecuteTime": {
     "end_time": "2023-06-01T17:44:45.208501Z",
     "start_time": "2023-06-01T17:44:45.042341Z"
    }
   },
   "outputs": [
    {
     "data": {
      "image/png": "[encoded data removed]",
      "text/plain": [
       "<Figure size 432x288 with 1 Axes>"
      ]
     },
     "metadata": {},
     "output_type": "display_data"
    }
   ],
   "source": [
    "df[df.duration<500].duration.hist()\n",
    "plt.show()"
   ]
  },
  {
   "cell_type": "markdown",
   "id": "cf8c7671",
   "metadata": {},
   "source": [
    "## Campaign\n",
    "\n",
    "Liczba kontaktów z klientem w aktualnej kampanii (włączając ostatni kontakt)"
   ]
  },
  {
   "cell_type": "code",
   "execution_count": 34,
   "id": "055b411a",
   "metadata": {
    "ExecuteTime": {
     "end_time": "2023-06-01T17:44:45.311577Z",
     "start_time": "2023-06-01T17:44:45.217764Z"
    }
   },
   "outputs": [
    {
     "data": {
      "image/png": "[encoded data removed]",
      "text/plain": [
       "<Figure size 432x288 with 1 Axes>"
      ]
     },
     "metadata": {},
     "output_type": "display_data"
    }
   ],
   "source": [
    "df.campaign.hist()\n",
    "plt.show()"
   ]
  },
  {
   "cell_type": "code",
   "execution_count": 35,
   "id": "72682446",
   "metadata": {
    "ExecuteTime": {
     "end_time": "2023-06-01T17:44:45.323417Z",
     "start_time": "2023-06-01T17:44:45.319260Z"
    }
   },
   "outputs": [
    {
     "data": {
      "text/plain": [
       "11914    58\n",
       "18713    50\n",
       "10697    46\n",
       "18744    44\n",
       "18660    43\n",
       "         ..\n",
       "41076     1\n",
       "7604      1\n",
       "27081     1\n",
       "4386      1\n",
       "36613     1\n",
       "Name: campaign, Length: 22152, dtype: int64"
      ]
     },
     "execution_count": 35,
     "metadata": {},
     "output_type": "execute_result"
    }
   ],
   "source": [
    "df.campaign.sort_values(ascending=False)"
   ]
  },
  {
   "cell_type": "code",
   "execution_count": 36,
   "id": "03e9b7ed",
   "metadata": {
    "ExecuteTime": {
     "end_time": "2023-06-01T17:44:45.436002Z",
     "start_time": "2023-06-01T17:44:45.325285Z"
    }
   },
   "outputs": [
    {
     "data": {
      "image/png": "[encoded data removed]",
      "text/plain": [
       "<Figure size 432x288 with 1 Axes>"
      ]
     },
     "metadata": {},
     "output_type": "display_data"
    }
   ],
   "source": [
    "df[df.campaign<=20].campaign.hist(bins=20)\n",
    "plt.show()"
   ]
  },
  {
   "cell_type": "markdown",
   "id": "64aacd00",
   "metadata": {},
   "source": [
    "## Pdays\n",
    "\n",
    "Liczba dni, które upłynęły od ostatniego kontaktu z klientem z poprzedniej kampanii (-1 oznacza brak kontaktu w poprzedniej kampanii)"
   ]
  },
  {
   "cell_type": "code",
   "execution_count": 37,
   "id": "6f7d5fa3",
   "metadata": {
    "ExecuteTime": {
     "end_time": "2023-06-01T17:44:45.443519Z",
     "start_time": "2023-06-01T17:44:45.437853Z"
    }
   },
   "outputs": [
    {
     "data": {
      "text/plain": [
       "0.8158631274828458"
      ]
     },
     "execution_count": 37,
     "metadata": {},
     "output_type": "execute_result"
    }
   ],
   "source": [
    "df[df.pdays == -1].size/df.size"
   ]
  },
  {
   "cell_type": "markdown",
   "id": "2afe96a3",
   "metadata": {},
   "source": [
    "Dla większośći klientów jest to pierwsza kampania, w której uczestniczą"
   ]
  },
  {
   "cell_type": "code",
   "execution_count": 38,
   "id": "3d2258de",
   "metadata": {
    "ExecuteTime": {
     "end_time": "2023-06-01T17:44:45.539689Z",
     "start_time": "2023-06-01T17:44:45.444125Z"
    }
   },
   "outputs": [
    {
     "data": {
      "image/png": "[encoded data removed]",
      "text/plain": [
       "<Figure size 432x288 with 1 Axes>"
      ]
     },
     "metadata": {},
     "output_type": "display_data"
    }
   ],
   "source": [
    "df[df.pdays != -1].pdays.hist()\n",
    "plt.show()"
   ]
  },
  {
   "cell_type": "code",
   "execution_count": 39,
   "id": "01affcc7",
   "metadata": {
    "ExecuteTime": {
     "end_time": "2023-06-01T17:44:45.632154Z",
     "start_time": "2023-06-01T17:44:45.541086Z"
    }
   },
   "outputs": [
    {
     "data": {
      "image/png": "[encoded data removed]",
      "text/plain": [
       "<Figure size 432x288 with 1 Axes>"
      ]
     },
     "metadata": {},
     "output_type": "display_data"
    }
   ],
   "source": [
    "df[(df.pdays != -1) & (df.pdays < 500)].pdays.hist()\n",
    "plt.show()"
   ]
  },
  {
   "cell_type": "markdown",
   "id": "86a9bb0c",
   "metadata": {},
   "source": [
    "## Previous\n",
    "\n",
    "Liczba kontaktów z klientem przed aktualną kampanią"
   ]
  },
  {
   "cell_type": "code",
   "execution_count": 40,
   "id": "85a35720",
   "metadata": {
    "ExecuteTime": {
     "end_time": "2023-06-01T17:44:45.639403Z",
     "start_time": "2023-06-01T17:44:45.633581Z"
    }
   },
   "outputs": [
    {
     "data": {
      "text/plain": [
       "0.8158631274828458"
      ]
     },
     "execution_count": 40,
     "metadata": {},
     "output_type": "execute_result"
    }
   ],
   "source": [
    "df[df.previous == 0].size/df.size"
   ]
  },
  {
   "cell_type": "markdown",
   "id": "d0ab60c6",
   "metadata": {},
   "source": [
    "Analogicznie"
   ]
  },
  {
   "cell_type": "code",
   "execution_count": 41,
   "id": "cba62d59",
   "metadata": {
    "ExecuteTime": {
     "end_time": "2023-06-01T17:44:45.738312Z",
     "start_time": "2023-06-01T17:44:45.640246Z"
    }
   },
   "outputs": [
    {
     "data": {
      "image/png": "[encoded data removed]",
      "text/plain": [
       "<Figure size 432x288 with 1 Axes>"
      ]
     },
     "metadata": {},
     "output_type": "display_data"
    }
   ],
   "source": [
    "df[df.previous != 0].previous.hist()\n",
    "plt.show()"
   ]
  },
  {
   "cell_type": "markdown",
   "id": "8db347d7",
   "metadata": {},
   "source": [
    "Występują pewne outliery"
   ]
  },
  {
   "cell_type": "code",
   "execution_count": 42,
   "id": "3e9a67ac",
   "metadata": {
    "ExecuteTime": {
     "end_time": "2023-06-01T17:44:45.744013Z",
     "start_time": "2023-06-01T17:44:45.738804Z"
    }
   },
   "outputs": [
    {
     "data": {
      "text/plain": [
       "29182    275\n",
       "44822     41\n",
       "42611     40\n",
       "37567     38\n",
       "42422     37\n",
       "        ... \n",
       "42237      0\n",
       "6928       0\n",
       "12723      0\n",
       "23308      0\n",
       "36613      0\n",
       "Name: previous, Length: 22152, dtype: int64"
      ]
     },
     "execution_count": 42,
     "metadata": {},
     "output_type": "execute_result"
    }
   ],
   "source": [
    "df.previous.sort_values(ascending=False)"
   ]
  },
  {
   "cell_type": "markdown",
   "id": "eb7afab6",
   "metadata": {},
   "source": [
    "No te 275 dość sporo"
   ]
  },
  {
   "cell_type": "code",
   "execution_count": 43,
   "id": "9124351c",
   "metadata": {
    "ExecuteTime": {
     "end_time": "2023-06-01T17:44:45.857787Z",
     "start_time": "2023-06-01T17:44:45.745659Z"
    }
   },
   "outputs": [
    {
     "data": {
      "image/png": "[encoded data removed]",
      "text/plain": [
       "<Figure size 432x288 with 1 Axes>"
      ]
     },
     "metadata": {},
     "output_type": "display_data"
    }
   ],
   "source": [
    "df[(df.previous != 0) & (df.previous <= 20)].previous.hist(bins=20)\n",
    "plt.show()"
   ]
  },
  {
   "cell_type": "markdown",
   "id": "943dd6de",
   "metadata": {},
   "source": [
    "## Poutcome\n",
    "\n",
    "Rezultat poprzedniej kampanii"
   ]
  },
  {
   "cell_type": "code",
   "execution_count": 44,
   "id": "5bb806e4",
   "metadata": {
    "ExecuteTime": {
     "end_time": "2023-06-01T17:44:45.863850Z",
     "start_time": "2023-06-01T17:44:45.858284Z"
    }
   },
   "outputs": [
    {
     "data": {
      "text/plain": [
       "unknown    18076\n",
       "failure     2404\n",
       "other        924\n",
       "success      748\n",
       "Name: poutcome, dtype: int64"
      ]
     },
     "execution_count": 44,
     "metadata": {},
     "output_type": "execute_result"
    }
   ],
   "source": [
    "df.poutcome.value_counts()"
   ]
  },
  {
   "cell_type": "code",
   "execution_count": 45,
   "id": "66104f54",
   "metadata": {
    "ExecuteTime": {
     "end_time": "2023-06-01T17:44:45.874937Z",
     "start_time": "2023-06-01T17:44:45.864749Z"
    }
   },
   "outputs": [
    {
     "data": {
      "text/plain": [
       "51"
      ]
     },
     "execution_count": 45,
     "metadata": {},
     "output_type": "execute_result"
    }
   ],
   "source": [
    "df[df.poutcome == 'unknown'].size - df[df.previous == 0].size"
   ]
  },
  {
   "cell_type": "markdown",
   "id": "a91e1c12",
   "metadata": {},
   "source": [
    "Sporo nieznanych wartości, ale tylko w 24 przypadkach z innego powodu niż pierwszego udziału klienta w kampani. Spróbujemy z kodowaniem one hot encoding ale być może usuniemy tą zmienną"
   ]
  },
  {
   "cell_type": "markdown",
   "id": "7a19a7c9",
   "metadata": {},
   "source": [
    "## Korelacja"
   ]
  },
  {
   "cell_type": "code",
   "execution_count": 46,
   "id": "1246721b",
   "metadata": {
    "ExecuteTime": {
     "end_time": "2023-06-01T17:44:46.129003Z",
     "start_time": "2023-06-01T17:44:45.875366Z"
    }
   },
   "outputs": [
    {
     "data": {
      "image/png": "[encoded data removed]",
      "text/plain": [
       "<Figure size 1296x720 with 2 Axes>"
      ]
     },
     "metadata": {},
     "output_type": "display_data"
    }
   ],
   "source": [
    "plt.figure(figsize=(18,10))\n",
    "sns.heatmap(df.corr(method='pearson'),annot=True)\n",
    "plt.show()"
   ]
  },
  {
   "cell_type": "code",
   "execution_count": 47,
   "id": "59f6ead5",
   "metadata": {
    "ExecuteTime": {
     "end_time": "2023-06-01T17:44:46.390Z",
     "start_time": "2023-06-01T17:44:46.131076Z"
    }
   },
   "outputs": [
    {
     "data": {
      "image/png": "[encoded data removed]",
      "text/plain": [
       "<Figure size 1296x720 with 2 Axes>"
      ]
     },
     "metadata": {},
     "output_type": "display_data"
    }
   ],
   "source": [
    "plt.figure(figsize=(18,10))\n",
    "sns.heatmap(df.corr(method='spearman'),annot=True)\n",
    "plt.show()"
   ]
  },
  {
   "cell_type": "markdown",
   "id": "0ecc937e",
   "metadata": {},
   "source": [
    "Oczywista korelacja pomiędzy liczbą dni od ostatniego kontaktu z poprzedniej kampanii a liczbą kontaktów z poprzedniej kampanii. Zobaczmy jeszcze korelację zmiennych numerycznych z kategorycznymi"
   ]
  },
  {
   "cell_type": "code",
   "execution_count": 48,
   "id": "5abd9fd1",
   "metadata": {
    "ExecuteTime": {
     "end_time": "2023-06-01T17:44:46.464258Z",
     "start_time": "2023-06-01T17:44:46.402328Z"
    }
   },
   "outputs": [],
   "source": [
    "col_transformer = ColumnTransformer(\n",
    "    transformers=[\n",
    "        ('passthrough','passthrough', ['duration', 'campaign', 'pdays', 'previous', 'day']),\n",
    "        ('cat', OneHotEncoder(sparse_output=False), ['contact', 'poutcome']),\n",
    "    ])\n",
    "encoding_pipeline = Pipeline([\n",
    "    ('col_transformer', col_transformer)]).fit(df)\n",
    "\n",
    "colnames = pd.Index(['duration', 'campaign', 'pdays', 'previous', 'IsFirstCampaign']).append(pd.Index(col_transformer.named_transformers_['cat'].get_feature_names_out(['contact', 'poutcome'])))\n",
    "\n",
    "encoded_df = pd.DataFrame(encoding_pipeline.transform(df), columns=colnames)"
   ]
  },
  {
   "cell_type": "code",
   "execution_count": 49,
   "id": "99a6ccbf",
   "metadata": {
    "ExecuteTime": {
     "end_time": "2023-06-01T17:44:46.949936Z",
     "start_time": "2023-06-01T17:44:46.418162Z"
    }
   },
   "outputs": [
    {
     "data": {
      "text/plain": [
       "<AxesSubplot:>"
      ]
     },
     "execution_count": 49,
     "metadata": {},
     "output_type": "execute_result"
    },
    {
     "data": {
      "image/png": "[encoded data removed]",
      "text/plain": [
       "<Figure size 1296x720 with 2 Axes>"
      ]
     },
     "metadata": {},
     "output_type": "display_data"
    }
   ],
   "source": [
    "plt.figure(figsize=(18,10))\n",
    "sns.heatmap(encoded_df.corr(method='pearson'),annot=True)\n",
    "# plt.show()"
   ]
  },
  {
   "cell_type": "code",
   "execution_count": 50,
   "id": "c1c73f1d",
   "metadata": {
    "ExecuteTime": {
     "end_time": "2023-06-01T17:44:47.382434Z",
     "start_time": "2023-06-01T17:44:46.949850Z"
    },
    "scrolled": true
   },
   "outputs": [
    {
     "data": {
      "image/png": "[encoded data removed]",
      "text/plain": [
       "<Figure size 1296x720 with 2 Axes>"
      ]
     },
     "metadata": {},
     "output_type": "display_data"
    }
   ],
   "source": [
    "plt.figure(figsize=(18,10))\n",
    "sns.heatmap(encoded_df.corr(method='spearman'),annot=True)\n",
    "plt.show()"
   ]
  },
  {
   "cell_type": "markdown",
   "id": "9f41f5bf",
   "metadata": {},
   "source": [
    "# Preprocessing"
   ]
  },
  {
   "cell_type": "markdown",
   "id": "9991fc35",
   "metadata": {},
   "source": [
    "### Przetworzenie outlierów\n",
    "\n",
    "Zamieniamy na medianę wartości, które na podstawie histogramów traktujemy jako otuliery"
   ]
  },
  {
   "cell_type": "code",
   "execution_count": 51,
   "id": "ac515732",
   "metadata": {
    "ExecuteTime": {
     "end_time": "2023-06-01T17:44:47.388503Z",
     "start_time": "2023-06-01T17:44:47.386140Z"
    }
   },
   "outputs": [],
   "source": [
    "class OutlierTransformer(BaseEstimator, TransformerMixin):\n",
    "    def __init__(self):\n",
    "        self.duration_median = None\n",
    "        self.campaign_median = None\n",
    "        self.previous_median = None\n",
    "\n",
    "    def fit(self, data):\n",
    "        self.duration_median = np.median(data[\"duration\"])\n",
    "        self.campaign_median = np.median(data[\"campaign\"])\n",
    "        self.previous_median = np.median(data[\"previous\"])\n",
    "        return self\n",
    "\n",
    "    def transform(self, data):\n",
    "        data.loc[data[\"duration\"] > 2000, \"duration\"] = self.duration_median\n",
    "        data.loc[data[\"campaign\"] > 20, \"campaign\"] = self.campaign_median\n",
    "        data.loc[data[\"previous\"] > 20, \"previous\"] = self.previous_median\n",
    "        return data"
   ]
  },
  {
   "cell_type": "markdown",
   "id": "19fb8c72",
   "metadata": {},
   "source": [
    "### Nowe zmienne\n",
    "\n",
    "Tworzymy zmienną binarną is_first_campaign opisującą, czy aktualna kampania jest pierwszą dla klienta."
   ]
  },
  {
   "cell_type": "code",
   "execution_count": 53,
   "id": "00b0d5e1",
   "metadata": {
    "ExecuteTime": {
     "end_time": "2023-06-01T17:44:47.396159Z",
     "start_time": "2023-06-01T17:44:47.394059Z"
    }
   },
   "outputs": [],
   "source": [
    "def add_features(data):\n",
    "    data[\"is_first_campaign\"] = np.where(data.previous == 0, 1, 0)\n",
    "    return data"
   ]
  },
  {
   "cell_type": "markdown",
   "id": "656e33e8",
   "metadata": {},
   "source": [
    "### Kodowanie binarne zmienych\n",
    "\n",
    "Kodujemy zmienne default, housing, loan do postaci binarnej"
   ]
  },
  {
   "cell_type": "code",
   "execution_count": 54,
   "id": "62ef0583",
   "metadata": {
    "ExecuteTime": {
     "end_time": "2023-06-01T17:44:47.399772Z",
     "start_time": "2023-06-01T17:44:47.397712Z"
    }
   },
   "outputs": [],
   "source": [
    "def encode(data):\n",
    "    data['loan'] = np.where(data.loan == 'yes', 1, 0)\n",
    "    data['default'] = np.where(data.default == 'yes', 1, 0)\n",
    "    data['housing'] = np.where(data.housing == 'yes', 1, 0)\n",
    "    return data"
   ]
  },
  {
   "cell_type": "markdown",
   "id": "ca127277",
   "metadata": {},
   "source": [
    "### Kodowanie zmiennych kategorycznych metodą Weight of Evidence\n",
    "\n",
    "Kodujemy zmienne job i month metodą WOE. Robimy to w dedykowanej klasie ponieważ metoda fit potrzebuje zmiennej y"
   ]
  },
  {
   "cell_type": "code",
   "execution_count": null,
   "id": "5af57770",
   "metadata": {},
   "outputs": [],
   "source": [
    "class WOE_Encoder(BaseEstimator, TransformerMixin):\n",
    "    def __init__(self):\n",
    "        self.woe1 = WOEEncoder()\n",
    "        self.woe2 = WOEEncoder()\n",
    "\n",
    "    def fit(self, data):\n",
    "        self.woe1.fit(data.job, data.y)\n",
    "        self.woe2.fit(data.month, data.y)\n",
    "        return self\n",
    "\n",
    "    def transform(self, data):\n",
    "        data['encoded_job'] = self.woe1.transform(data.job)\n",
    "        data['encoded_month'] = self.woe2.transform(data.month)\n",
    "        return data"
   ]
  },
  {
   "cell_type": "markdown",
   "id": "701626f3",
   "metadata": {},
   "source": [
    "### Kodowanie pozostałych zmiennych kategorycznych, standaryzacja i selekcja zmiennych\n",
    "\n",
    "- Kodujemy zmienne education, martial, contact, month, poutcome za pomocą one hot encodingu\n",
    "- Standaryzujemy zmienne age, balance, duration, campaign, pdays i previous\n",
    "- Usuwamy zmienną day"
   ]
  },
  {
   "cell_type": "markdown",
   "id": "96aa31a5",
   "metadata": {},
   "source": [
    "# Pipeline"
   ]
  },
  {
   "cell_type": "code",
   "execution_count": 55,
   "id": "cf658377",
   "metadata": {
    "ExecuteTime": {
     "end_time": "2023-06-01T17:44:47.489362Z",
     "start_time": "2023-06-01T17:44:47.401114Z"
    }
   },
   "outputs": [
    {
     "data": {
      "text/html": [
       "<div>\n",
       "<style scoped>\n",
       "    .dataframe tbody tr th:only-of-type {\n",
       "        vertical-align: middle;\n",
       "    }\n",
       "\n",
       "    .dataframe tbody tr th {\n",
       "        vertical-align: top;\n",
       "    }\n",
       "\n",
       "    .dataframe thead th {\n",
       "        text-align: right;\n",
       "    }\n",
       "</style>\n",
       "<table border=\"1\" class=\"dataframe\">\n",
       "  <thead>\n",
       "    <tr style=\"text-align: right;\">\n",
       "      <th></th>\n",
       "      <th>age</th>\n",
       "      <th>job</th>\n",
       "      <th>marital</th>\n",
       "      <th>education</th>\n",
       "      <th>default</th>\n",
       "      <th>balance</th>\n",
       "      <th>housing</th>\n",
       "      <th>loan</th>\n",
       "      <th>contact</th>\n",
       "      <th>day</th>\n",
       "      <th>month</th>\n",
       "      <th>duration</th>\n",
       "      <th>campaign</th>\n",
       "      <th>pdays</th>\n",
       "      <th>previous</th>\n",
       "      <th>poutcome</th>\n",
       "      <th>y</th>\n",
       "    </tr>\n",
       "  </thead>\n",
       "  <tbody>\n",
       "    <tr>\n",
       "      <th>28440</th>\n",
       "      <td>26</td>\n",
       "      <td>admin.</td>\n",
       "      <td>single</td>\n",
       "      <td>secondary</td>\n",
       "      <td>no</td>\n",
       "      <td>94</td>\n",
       "      <td>no</td>\n",
       "      <td>no</td>\n",
       "      <td>cellular</td>\n",
       "      <td>29</td>\n",
       "      <td>jan</td>\n",
       "      <td>171</td>\n",
       "      <td>1</td>\n",
       "      <td>-1</td>\n",
       "      <td>0</td>\n",
       "      <td>unknown</td>\n",
       "      <td>0</td>\n",
       "    </tr>\n",
       "    <tr>\n",
       "      <th>18510</th>\n",
       "      <td>50</td>\n",
       "      <td>services</td>\n",
       "      <td>married</td>\n",
       "      <td>secondary</td>\n",
       "      <td>yes</td>\n",
       "      <td>0</td>\n",
       "      <td>no</td>\n",
       "      <td>no</td>\n",
       "      <td>telephone</td>\n",
       "      <td>31</td>\n",
       "      <td>jul</td>\n",
       "      <td>35</td>\n",
       "      <td>9</td>\n",
       "      <td>-1</td>\n",
       "      <td>0</td>\n",
       "      <td>unknown</td>\n",
       "      <td>0</td>\n",
       "    </tr>\n",
       "    <tr>\n",
       "      <th>10722</th>\n",
       "      <td>56</td>\n",
       "      <td>entrepreneur</td>\n",
       "      <td>married</td>\n",
       "      <td>secondary</td>\n",
       "      <td>no</td>\n",
       "      <td>535</td>\n",
       "      <td>yes</td>\n",
       "      <td>yes</td>\n",
       "      <td>unknown</td>\n",
       "      <td>16</td>\n",
       "      <td>jun</td>\n",
       "      <td>345</td>\n",
       "      <td>4</td>\n",
       "      <td>-1</td>\n",
       "      <td>0</td>\n",
       "      <td>unknown</td>\n",
       "      <td>0</td>\n",
       "    </tr>\n",
       "    <tr>\n",
       "      <th>42957</th>\n",
       "      <td>58</td>\n",
       "      <td>technician</td>\n",
       "      <td>married</td>\n",
       "      <td>secondary</td>\n",
       "      <td>no</td>\n",
       "      <td>7554</td>\n",
       "      <td>no</td>\n",
       "      <td>no</td>\n",
       "      <td>telephone</td>\n",
       "      <td>9</td>\n",
       "      <td>feb</td>\n",
       "      <td>167</td>\n",
       "      <td>1</td>\n",
       "      <td>469</td>\n",
       "      <td>1</td>\n",
       "      <td>success</td>\n",
       "      <td>0</td>\n",
       "    </tr>\n",
       "    <tr>\n",
       "      <th>26987</th>\n",
       "      <td>31</td>\n",
       "      <td>blue-collar</td>\n",
       "      <td>single</td>\n",
       "      <td>secondary</td>\n",
       "      <td>no</td>\n",
       "      <td>23</td>\n",
       "      <td>no</td>\n",
       "      <td>no</td>\n",
       "      <td>cellular</td>\n",
       "      <td>21</td>\n",
       "      <td>nov</td>\n",
       "      <td>116</td>\n",
       "      <td>1</td>\n",
       "      <td>-1</td>\n",
       "      <td>0</td>\n",
       "      <td>unknown</td>\n",
       "      <td>0</td>\n",
       "    </tr>\n",
       "    <tr>\n",
       "      <th>...</th>\n",
       "      <td>...</td>\n",
       "      <td>...</td>\n",
       "      <td>...</td>\n",
       "      <td>...</td>\n",
       "      <td>...</td>\n",
       "      <td>...</td>\n",
       "      <td>...</td>\n",
       "      <td>...</td>\n",
       "      <td>...</td>\n",
       "      <td>...</td>\n",
       "      <td>...</td>\n",
       "      <td>...</td>\n",
       "      <td>...</td>\n",
       "      <td>...</td>\n",
       "      <td>...</td>\n",
       "      <td>...</td>\n",
       "      <td>...</td>\n",
       "    </tr>\n",
       "    <tr>\n",
       "      <th>32781</th>\n",
       "      <td>44</td>\n",
       "      <td>management</td>\n",
       "      <td>single</td>\n",
       "      <td>tertiary</td>\n",
       "      <td>no</td>\n",
       "      <td>1277</td>\n",
       "      <td>yes</td>\n",
       "      <td>no</td>\n",
       "      <td>cellular</td>\n",
       "      <td>17</td>\n",
       "      <td>apr</td>\n",
       "      <td>77</td>\n",
       "      <td>1</td>\n",
       "      <td>268</td>\n",
       "      <td>4</td>\n",
       "      <td>other</td>\n",
       "      <td>0</td>\n",
       "    </tr>\n",
       "    <tr>\n",
       "      <th>45037</th>\n",
       "      <td>45</td>\n",
       "      <td>management</td>\n",
       "      <td>single</td>\n",
       "      <td>tertiary</td>\n",
       "      <td>no</td>\n",
       "      <td>2048</td>\n",
       "      <td>yes</td>\n",
       "      <td>no</td>\n",
       "      <td>cellular</td>\n",
       "      <td>18</td>\n",
       "      <td>oct</td>\n",
       "      <td>310</td>\n",
       "      <td>1</td>\n",
       "      <td>804</td>\n",
       "      <td>1</td>\n",
       "      <td>failure</td>\n",
       "      <td>1</td>\n",
       "    </tr>\n",
       "    <tr>\n",
       "      <th>27786</th>\n",
       "      <td>37</td>\n",
       "      <td>management</td>\n",
       "      <td>married</td>\n",
       "      <td>tertiary</td>\n",
       "      <td>no</td>\n",
       "      <td>-76</td>\n",
       "      <td>yes</td>\n",
       "      <td>no</td>\n",
       "      <td>cellular</td>\n",
       "      <td>28</td>\n",
       "      <td>jan</td>\n",
       "      <td>230</td>\n",
       "      <td>1</td>\n",
       "      <td>204</td>\n",
       "      <td>1</td>\n",
       "      <td>other</td>\n",
       "      <td>0</td>\n",
       "    </tr>\n",
       "    <tr>\n",
       "      <th>10960</th>\n",
       "      <td>41</td>\n",
       "      <td>blue-collar</td>\n",
       "      <td>married</td>\n",
       "      <td>primary</td>\n",
       "      <td>no</td>\n",
       "      <td>402</td>\n",
       "      <td>no</td>\n",
       "      <td>no</td>\n",
       "      <td>unknown</td>\n",
       "      <td>17</td>\n",
       "      <td>jun</td>\n",
       "      <td>114</td>\n",
       "      <td>17</td>\n",
       "      <td>-1</td>\n",
       "      <td>0</td>\n",
       "      <td>unknown</td>\n",
       "      <td>0</td>\n",
       "    </tr>\n",
       "    <tr>\n",
       "      <th>36613</th>\n",
       "      <td>41</td>\n",
       "      <td>blue-collar</td>\n",
       "      <td>single</td>\n",
       "      <td>secondary</td>\n",
       "      <td>no</td>\n",
       "      <td>428</td>\n",
       "      <td>yes</td>\n",
       "      <td>no</td>\n",
       "      <td>cellular</td>\n",
       "      <td>12</td>\n",
       "      <td>may</td>\n",
       "      <td>92</td>\n",
       "      <td>1</td>\n",
       "      <td>-1</td>\n",
       "      <td>0</td>\n",
       "      <td>unknown</td>\n",
       "      <td>0</td>\n",
       "    </tr>\n",
       "  </tbody>\n",
       "</table>\n",
       "<p>22152 rows × 17 columns</p>\n",
       "</div>"
      ],
      "text/plain": [
       "       age           job  marital  education default  balance housing loan  \\\n",
       "28440   26        admin.   single  secondary      no       94      no   no   \n",
       "18510   50      services  married  secondary     yes        0      no   no   \n",
       "10722   56  entrepreneur  married  secondary      no      535     yes  yes   \n",
       "42957   58    technician  married  secondary      no     7554      no   no   \n",
       "26987   31   blue-collar   single  secondary      no       23      no   no   \n",
       "...    ...           ...      ...        ...     ...      ...     ...  ...   \n",
       "32781   44    management   single   tertiary      no     1277     yes   no   \n",
       "45037   45    management   single   tertiary      no     2048     yes   no   \n",
       "27786   37    management  married   tertiary      no      -76     yes   no   \n",
       "10960   41   blue-collar  married    primary      no      402      no   no   \n",
       "36613   41   blue-collar   single  secondary      no      428     yes   no   \n",
       "\n",
       "         contact  day month  duration  campaign  pdays  previous poutcome  y  \n",
       "28440   cellular   29   jan       171         1     -1         0  unknown  0  \n",
       "18510  telephone   31   jul        35         9     -1         0  unknown  0  \n",
       "10722    unknown   16   jun       345         4     -1         0  unknown  0  \n",
       "42957  telephone    9   feb       167         1    469         1  success  0  \n",
       "26987   cellular   21   nov       116         1     -1         0  unknown  0  \n",
       "...          ...  ...   ...       ...       ...    ...       ...      ... ..  \n",
       "32781   cellular   17   apr        77         1    268         4    other  0  \n",
       "45037   cellular   18   oct       310         1    804         1  failure  1  \n",
       "27786   cellular   28   jan       230         1    204         1    other  0  \n",
       "10960    unknown   17   jun       114        17     -1         0  unknown  0  \n",
       "36613   cellular   12   may        92         1     -1         0  unknown  0  \n",
       "\n",
       "[22152 rows x 17 columns]"
      ]
     },
     "execution_count": 55,
     "metadata": {},
     "output_type": "execute_result"
    }
   ],
   "source": [
    "df"
   ]
  },
  {
   "cell_type": "code",
   "execution_count": 56,
   "id": "a07363ee",
   "metadata": {
    "ExecuteTime": {
     "end_time": "2023-06-01T17:44:47.489627Z",
     "start_time": "2023-06-01T17:44:47.413309Z"
    }
   },
   "outputs": [],
   "source": [
    "col_transformer = ColumnTransformer(\n",
    "    transformers=[\n",
    "        ('num', StandardScaler(), ['age', 'balance', 'duration', 'campaign', 'pdays', 'previous']),\n",
    "        ('passthrough','passthrough', ['encoded_month', 'encoded_job', 'default', 'loan', 'housing', 'is_first_campaign']),\n",
    "        ('one_hot', OneHotEncoder(sparse_output=False), ['education', 'marital', 'contact', 'poutcome']),\n",
    "        ('drop', 'drop', ['day', 'y'])\n",
    "    ])\n",
    "\n",
    "pipeline = Pipeline([\n",
    "    ('add_features', FunctionTransformer(add_features)),\n",
    "    ('label_encoder', FunctionTransformer(encode)),\n",
    "    ('outliers', OutlierTransformer()),\n",
    "    ('woe', WOE_Encoder()),\n",
    "    ('col_transformer', col_transformer)])"
   ]
  },
  {
   "cell_type": "code",
   "execution_count": 57,
   "id": "c9018b52",
   "metadata": {
    "ExecuteTime": {
     "end_time": "2023-06-01T17:44:47.521073Z",
     "start_time": "2023-06-01T17:44:47.416676Z"
    }
   },
   "outputs": [
    {
     "data": {
      "text/html": [
       "<style>#sk-container-id-1 {color: black;background-color: white;}#sk-container-id-1 pre{padding: 0;}#sk-container-id-1 div.sk-toggleable {background-color: white;}#sk-container-id-1 label.sk-toggleable__label {cursor: pointer;display: block;width: 100%;margin-bottom: 0;padding: 0.3em;box-sizing: border-box;text-align: center;}#sk-container-id-1 label.sk-toggleable__label-arrow:before {content: \"▸\";float: left;margin-right: 0.25em;color: #696969;}#sk-container-id-1 label.sk-toggleable__label-arrow:hover:before {color: black;}#sk-container-id-1 div.sk-estimator:hover label.sk-toggleable__label-arrow:before {color: black;}#sk-container-id-1 div.sk-toggleable__content {max-height: 0;max-width: 0;overflow: hidden;text-align: left;background-color: #f0f8ff;}#sk-container-id-1 div.sk-toggleable__content pre {margin: 0.2em;color: black;border-radius: 0.25em;background-color: #f0f8ff;}#sk-container-id-1 input.sk-toggleable__control:checked~div.sk-toggleable__content {max-height: 200px;max-width: 100%;overflow: auto;}#sk-container-id-1 input.sk-toggleable__control:checked~label.sk-toggleable__label-arrow:before {content: \"▾\";}#sk-container-id-1 div.sk-estimator input.sk-toggleable__control:checked~label.sk-toggleable__label {background-color: #d4ebff;}#sk-container-id-1 div.sk-label input.sk-toggleable__control:checked~label.sk-toggleable__label {background-color: #d4ebff;}#sk-container-id-1 input.sk-hidden--visually {border: 0;clip: rect(1px 1px 1px 1px);clip: rect(1px, 1px, 1px, 1px);height: 1px;margin: -1px;overflow: hidden;padding: 0;position: absolute;width: 1px;}#sk-container-id-1 div.sk-estimator {font-family: monospace;background-color: #f0f8ff;border: 1px dotted black;border-radius: 0.25em;box-sizing: border-box;margin-bottom: 0.5em;}#sk-container-id-1 div.sk-estimator:hover {background-color: #d4ebff;}#sk-container-id-1 div.sk-parallel-item::after {content: \"\";width: 100%;border-bottom: 1px solid gray;flex-grow: 1;}#sk-container-id-1 div.sk-label:hover label.sk-toggleable__label {background-color: #d4ebff;}#sk-container-id-1 div.sk-serial::before {content: \"\";position: absolute;border-left: 1px solid gray;box-sizing: border-box;top: 0;bottom: 0;left: 50%;z-index: 0;}#sk-container-id-1 div.sk-serial {display: flex;flex-direction: column;align-items: center;background-color: white;padding-right: 0.2em;padding-left: 0.2em;position: relative;}#sk-container-id-1 div.sk-item {position: relative;z-index: 1;}#sk-container-id-1 div.sk-parallel {display: flex;align-items: stretch;justify-content: center;background-color: white;position: relative;}#sk-container-id-1 div.sk-item::before, #sk-container-id-1 div.sk-parallel-item::before {content: \"\";position: absolute;border-left: 1px solid gray;box-sizing: border-box;top: 0;bottom: 0;left: 50%;z-index: -1;}#sk-container-id-1 div.sk-parallel-item {display: flex;flex-direction: column;z-index: 1;position: relative;background-color: white;}#sk-container-id-1 div.sk-parallel-item:first-child::after {align-self: flex-end;width: 50%;}#sk-container-id-1 div.sk-parallel-item:last-child::after {align-self: flex-start;width: 50%;}#sk-container-id-1 div.sk-parallel-item:only-child::after {width: 0;}#sk-container-id-1 div.sk-dashed-wrapped {border: 1px dashed gray;margin: 0 0.4em 0.5em 0.4em;box-sizing: border-box;padding-bottom: 0.4em;background-color: white;}#sk-container-id-1 div.sk-label label {font-family: monospace;font-weight: bold;display: inline-block;line-height: 1.2em;}#sk-container-id-1 div.sk-label-container {text-align: center;}#sk-container-id-1 div.sk-container {/* jupyter's `normalize.less` sets `[hidden] { display: none; }` but bootstrap.min.css set `[hidden] { display: none !important; }` so we also need the `!important` here to be able to override the default hidden behavior on the sphinx rendered scikit-learn.org. See: https://github.com/scikit-learn/scikit-learn/issues/21755 */display: inline-block !important;position: relative;}#sk-container-id-1 div.sk-text-repr-fallback {display: none;}</style><div id=\"sk-container-id-1\" class=\"sk-top-container\"><div class=\"sk-text-repr-fallback\"><pre>Pipeline(steps=[(&#x27;add_features&#x27;,\n",
       "                 FunctionTransformer(func=&lt;function add_features at 0x7fd018a82940&gt;)),\n",
       "                (&#x27;label_encoder&#x27;,\n",
       "                 FunctionTransformer(func=&lt;function encode at 0x7fd018a82d30&gt;)),\n",
       "                (&#x27;outliers&#x27;, OutlierTransformer()), (&#x27;woe&#x27;, WOE_Encoder()),\n",
       "                (&#x27;col_transformer&#x27;,\n",
       "                 ColumnTransformer(transformers=[(&#x27;num&#x27;, StandardScaler(),\n",
       "                                                  [&#x27;age&#x27;, &#x27;balance&#x27;, &#x27;duration&#x27;,\n",
       "                                                   &#x27;campaign&#x27;, &#x27;pdays&#x27;,\n",
       "                                                   &#x27;previous&#x27;]),\n",
       "                                                 (&#x27;passthrough&#x27;, &#x27;passthrough&#x27;,\n",
       "                                                  [&#x27;encoded_month&#x27;,\n",
       "                                                   &#x27;encoded_job&#x27;, &#x27;default&#x27;,\n",
       "                                                   &#x27;loan&#x27;, &#x27;housing&#x27;,\n",
       "                                                   &#x27;is_first_campaign&#x27;]),\n",
       "                                                 (&#x27;one_hot&#x27;,\n",
       "                                                  OneHotEncoder(sparse_output=False),\n",
       "                                                  [&#x27;education&#x27;, &#x27;marital&#x27;,\n",
       "                                                   &#x27;contact&#x27;, &#x27;poutcome&#x27;]),\n",
       "                                                 (&#x27;drop&#x27;, &#x27;drop&#x27;,\n",
       "                                                  [&#x27;day&#x27;, &#x27;y&#x27;])]))])</pre><b>In a Jupyter environment, please rerun this cell to show the HTML representation or trust the notebook. <br />On GitHub, the HTML representation is unable to render, please try loading this page with nbviewer.org.</b></div><div class=\"sk-container\" hidden><div class=\"sk-item sk-dashed-wrapped\"><div class=\"sk-label-container\"><div class=\"sk-label sk-toggleable\"><input class=\"sk-toggleable__control sk-hidden--visually\" id=\"sk-estimator-id-1\" type=\"checkbox\" ><label for=\"sk-estimator-id-1\" class=\"sk-toggleable__label sk-toggleable__label-arrow\">Pipeline</label><div class=\"sk-toggleable__content\"><pre>Pipeline(steps=[(&#x27;add_features&#x27;,\n",
       "                 FunctionTransformer(func=&lt;function add_features at 0x7fd018a82940&gt;)),\n",
       "                (&#x27;label_encoder&#x27;,\n",
       "                 FunctionTransformer(func=&lt;function encode at 0x7fd018a82d30&gt;)),\n",
       "                (&#x27;outliers&#x27;, OutlierTransformer()), (&#x27;woe&#x27;, WOE_Encoder()),\n",
       "                (&#x27;col_transformer&#x27;,\n",
       "                 ColumnTransformer(transformers=[(&#x27;num&#x27;, StandardScaler(),\n",
       "                                                  [&#x27;age&#x27;, &#x27;balance&#x27;, &#x27;duration&#x27;,\n",
       "                                                   &#x27;campaign&#x27;, &#x27;pdays&#x27;,\n",
       "                                                   &#x27;previous&#x27;]),\n",
       "                                                 (&#x27;passthrough&#x27;, &#x27;passthrough&#x27;,\n",
       "                                                  [&#x27;encoded_month&#x27;,\n",
       "                                                   &#x27;encoded_job&#x27;, &#x27;default&#x27;,\n",
       "                                                   &#x27;loan&#x27;, &#x27;housing&#x27;,\n",
       "                                                   &#x27;is_first_campaign&#x27;]),\n",
       "                                                 (&#x27;one_hot&#x27;,\n",
       "                                                  OneHotEncoder(sparse_output=False),\n",
       "                                                  [&#x27;education&#x27;, &#x27;marital&#x27;,\n",
       "                                                   &#x27;contact&#x27;, &#x27;poutcome&#x27;]),\n",
       "                                                 (&#x27;drop&#x27;, &#x27;drop&#x27;,\n",
       "                                                  [&#x27;day&#x27;, &#x27;y&#x27;])]))])</pre></div></div></div><div class=\"sk-serial\"><div class=\"sk-item\"><div class=\"sk-estimator sk-toggleable\"><input class=\"sk-toggleable__control sk-hidden--visually\" id=\"sk-estimator-id-2\" type=\"checkbox\" ><label for=\"sk-estimator-id-2\" class=\"sk-toggleable__label sk-toggleable__label-arrow\">FunctionTransformer</label><div class=\"sk-toggleable__content\"><pre>FunctionTransformer(func=&lt;function add_features at 0x7fd018a82940&gt;)</pre></div></div></div><div class=\"sk-item\"><div class=\"sk-estimator sk-toggleable\"><input class=\"sk-toggleable__control sk-hidden--visually\" id=\"sk-estimator-id-3\" type=\"checkbox\" ><label for=\"sk-estimator-id-3\" class=\"sk-toggleable__label sk-toggleable__label-arrow\">FunctionTransformer</label><div class=\"sk-toggleable__content\"><pre>FunctionTransformer(func=&lt;function encode at 0x7fd018a82d30&gt;)</pre></div></div></div><div class=\"sk-item\"><div class=\"sk-estimator sk-toggleable\"><input class=\"sk-toggleable__control sk-hidden--visually\" id=\"sk-estimator-id-4\" type=\"checkbox\" ><label for=\"sk-estimator-id-4\" class=\"sk-toggleable__label sk-toggleable__label-arrow\">OutlierTransformer</label><div class=\"sk-toggleable__content\"><pre>OutlierTransformer()</pre></div></div></div><div class=\"sk-item\"><div class=\"sk-estimator sk-toggleable\"><input class=\"sk-toggleable__control sk-hidden--visually\" id=\"sk-estimator-id-5\" type=\"checkbox\" ><label for=\"sk-estimator-id-5\" class=\"sk-toggleable__label sk-toggleable__label-arrow\">WOE_Encoder</label><div class=\"sk-toggleable__content\"><pre>WOE_Encoder()</pre></div></div></div><div class=\"sk-item sk-dashed-wrapped\"><div class=\"sk-label-container\"><div class=\"sk-label sk-toggleable\"><input class=\"sk-toggleable__control sk-hidden--visually\" id=\"sk-estimator-id-6\" type=\"checkbox\" ><label for=\"sk-estimator-id-6\" class=\"sk-toggleable__label sk-toggleable__label-arrow\">col_transformer: ColumnTransformer</label><div class=\"sk-toggleable__content\"><pre>ColumnTransformer(transformers=[(&#x27;num&#x27;, StandardScaler(),\n",
       "                                 [&#x27;age&#x27;, &#x27;balance&#x27;, &#x27;duration&#x27;, &#x27;campaign&#x27;,\n",
       "                                  &#x27;pdays&#x27;, &#x27;previous&#x27;]),\n",
       "                                (&#x27;passthrough&#x27;, &#x27;passthrough&#x27;,\n",
       "                                 [&#x27;encoded_month&#x27;, &#x27;encoded_job&#x27;, &#x27;default&#x27;,\n",
       "                                  &#x27;loan&#x27;, &#x27;housing&#x27;, &#x27;is_first_campaign&#x27;]),\n",
       "                                (&#x27;one_hot&#x27;, OneHotEncoder(sparse_output=False),\n",
       "                                 [&#x27;education&#x27;, &#x27;marital&#x27;, &#x27;contact&#x27;,\n",
       "                                  &#x27;poutcome&#x27;]),\n",
       "                                (&#x27;drop&#x27;, &#x27;drop&#x27;, [&#x27;day&#x27;, &#x27;y&#x27;])])</pre></div></div></div><div class=\"sk-parallel\"><div class=\"sk-parallel-item\"><div class=\"sk-item\"><div class=\"sk-label-container\"><div class=\"sk-label sk-toggleable\"><input class=\"sk-toggleable__control sk-hidden--visually\" id=\"sk-estimator-id-7\" type=\"checkbox\" ><label for=\"sk-estimator-id-7\" class=\"sk-toggleable__label sk-toggleable__label-arrow\">num</label><div class=\"sk-toggleable__content\"><pre>[&#x27;age&#x27;, &#x27;balance&#x27;, &#x27;duration&#x27;, &#x27;campaign&#x27;, &#x27;pdays&#x27;, &#x27;previous&#x27;]</pre></div></div></div><div class=\"sk-serial\"><div class=\"sk-item\"><div class=\"sk-estimator sk-toggleable\"><input class=\"sk-toggleable__control sk-hidden--visually\" id=\"sk-estimator-id-8\" type=\"checkbox\" ><label for=\"sk-estimator-id-8\" class=\"sk-toggleable__label sk-toggleable__label-arrow\">StandardScaler</label><div class=\"sk-toggleable__content\"><pre>StandardScaler()</pre></div></div></div></div></div></div><div class=\"sk-parallel-item\"><div class=\"sk-item\"><div class=\"sk-label-container\"><div class=\"sk-label sk-toggleable\"><input class=\"sk-toggleable__control sk-hidden--visually\" id=\"sk-estimator-id-9\" type=\"checkbox\" ><label for=\"sk-estimator-id-9\" class=\"sk-toggleable__label sk-toggleable__label-arrow\">passthrough</label><div class=\"sk-toggleable__content\"><pre>[&#x27;encoded_month&#x27;, &#x27;encoded_job&#x27;, &#x27;default&#x27;, &#x27;loan&#x27;, &#x27;housing&#x27;, &#x27;is_first_campaign&#x27;]</pre></div></div></div><div class=\"sk-serial\"><div class=\"sk-item\"><div class=\"sk-estimator sk-toggleable\"><input class=\"sk-toggleable__control sk-hidden--visually\" id=\"sk-estimator-id-10\" type=\"checkbox\" ><label for=\"sk-estimator-id-10\" class=\"sk-toggleable__label sk-toggleable__label-arrow\">passthrough</label><div class=\"sk-toggleable__content\"><pre>passthrough</pre></div></div></div></div></div></div><div class=\"sk-parallel-item\"><div class=\"sk-item\"><div class=\"sk-label-container\"><div class=\"sk-label sk-toggleable\"><input class=\"sk-toggleable__control sk-hidden--visually\" id=\"sk-estimator-id-11\" type=\"checkbox\" ><label for=\"sk-estimator-id-11\" class=\"sk-toggleable__label sk-toggleable__label-arrow\">one_hot</label><div class=\"sk-toggleable__content\"><pre>[&#x27;education&#x27;, &#x27;marital&#x27;, &#x27;contact&#x27;, &#x27;poutcome&#x27;]</pre></div></div></div><div class=\"sk-serial\"><div class=\"sk-item\"><div class=\"sk-estimator sk-toggleable\"><input class=\"sk-toggleable__control sk-hidden--visually\" id=\"sk-estimator-id-12\" type=\"checkbox\" ><label for=\"sk-estimator-id-12\" class=\"sk-toggleable__label sk-toggleable__label-arrow\">OneHotEncoder</label><div class=\"sk-toggleable__content\"><pre>OneHotEncoder(sparse_output=False)</pre></div></div></div></div></div></div><div class=\"sk-parallel-item\"><div class=\"sk-item\"><div class=\"sk-label-container\"><div class=\"sk-label sk-toggleable\"><input class=\"sk-toggleable__control sk-hidden--visually\" id=\"sk-estimator-id-13\" type=\"checkbox\" ><label for=\"sk-estimator-id-13\" class=\"sk-toggleable__label sk-toggleable__label-arrow\">drop</label><div class=\"sk-toggleable__content\"><pre>[&#x27;day&#x27;, &#x27;y&#x27;]</pre></div></div></div><div class=\"sk-serial\"><div class=\"sk-item\"><div class=\"sk-estimator sk-toggleable\"><input class=\"sk-toggleable__control sk-hidden--visually\" id=\"sk-estimator-id-14\" type=\"checkbox\" ><label for=\"sk-estimator-id-14\" class=\"sk-toggleable__label sk-toggleable__label-arrow\">drop</label><div class=\"sk-toggleable__content\"><pre>drop</pre></div></div></div></div></div></div></div></div></div></div></div></div>"
      ],
      "text/plain": [
       "Pipeline(steps=[('add_features',\n",
       "                 FunctionTransformer(func=<function add_features at 0x7fd018a82940>)),\n",
       "                ('label_encoder',\n",
       "                 FunctionTransformer(func=<function encode at 0x7fd018a82d30>)),\n",
       "                ('outliers', OutlierTransformer()), ('woe', WOE_Encoder()),\n",
       "                ('col_transformer',\n",
       "                 ColumnTransformer(transformers=[('num', StandardScaler(),\n",
       "                                                  ['age', 'balance', 'duration',\n",
       "                                                   'campaign', 'pdays',\n",
       "                                                   'previous']),\n",
       "                                                 ('passthrough', 'passthrough',\n",
       "                                                  ['encoded_month',\n",
       "                                                   'encoded_job', 'default',\n",
       "                                                   'loan', 'housing',\n",
       "                                                   'is_first_campaign']),\n",
       "                                                 ('one_hot',\n",
       "                                                  OneHotEncoder(sparse_output=False),\n",
       "                                                  ['education', 'marital',\n",
       "                                                   'contact', 'poutcome']),\n",
       "                                                 ('drop', 'drop',\n",
       "                                                  ['day', 'y'])]))])"
      ]
     },
     "execution_count": 57,
     "metadata": {},
     "output_type": "execute_result"
    }
   ],
   "source": [
    "pipeline.fit(df)"
   ]
  },
  {
   "cell_type": "code",
   "execution_count": 58,
   "id": "41ef9a6c",
   "metadata": {
    "ExecuteTime": {
     "end_time": "2023-06-01T17:44:47.538917Z",
     "start_time": "2023-06-01T17:44:47.514147Z"
    }
   },
   "outputs": [],
   "source": [
    "colnames = pd.Index(['age', 'balance', 'duration', 'campaign', 'pdays', 'previous', 'month', 'job', 'default', 'loan', 'housing', 'is_first_campaign']).append(pd.Index(col_transformer.named_transformers_['one_hot'].get_feature_names_out(['education', 'marital', 'contact', 'poutcome'])))"
   ]
  },
  {
   "cell_type": "code",
   "execution_count": 59,
   "id": "48da97cc",
   "metadata": {
    "ExecuteTime": {
     "end_time": "2023-06-01T17:44:47.633837Z",
     "start_time": "2023-06-01T17:44:47.518015Z"
    }
   },
   "outputs": [],
   "source": [
    "preprocessed_train = pd.DataFrame(pipeline.transform(df), columns=colnames)\n",
    "preprocessed_test = pd.DataFrame(pipeline.transform(test), columns=colnames)\n",
    "preprocessed_val = pd.DataFrame(pipeline.transform(val), columns=colnames)"
   ]
  },
  {
   "cell_type": "code",
   "execution_count": 60,
   "id": "b2d5d6d2",
   "metadata": {
    "ExecuteTime": {
     "end_time": "2023-06-01T17:44:47.634739Z",
     "start_time": "2023-06-01T17:44:47.602983Z"
    }
   },
   "outputs": [
    {
     "data": {
      "text/html": [
       "<div>\n",
       "<style scoped>\n",
       "    .dataframe tbody tr th:only-of-type {\n",
       "        vertical-align: middle;\n",
       "    }\n",
       "\n",
       "    .dataframe tbody tr th {\n",
       "        vertical-align: top;\n",
       "    }\n",
       "\n",
       "    .dataframe thead th {\n",
       "        text-align: right;\n",
       "    }\n",
       "</style>\n",
       "<table border=\"1\" class=\"dataframe\">\n",
       "  <thead>\n",
       "    <tr style=\"text-align: right;\">\n",
       "      <th></th>\n",
       "      <th>age</th>\n",
       "      <th>balance</th>\n",
       "      <th>duration</th>\n",
       "      <th>campaign</th>\n",
       "      <th>pdays</th>\n",
       "      <th>previous</th>\n",
       "      <th>month</th>\n",
       "      <th>job</th>\n",
       "      <th>default</th>\n",
       "      <th>loan</th>\n",
       "      <th>...</th>\n",
       "      <th>marital_divorced</th>\n",
       "      <th>marital_married</th>\n",
       "      <th>marital_single</th>\n",
       "      <th>contact_cellular</th>\n",
       "      <th>contact_telephone</th>\n",
       "      <th>contact_unknown</th>\n",
       "      <th>poutcome_failure</th>\n",
       "      <th>poutcome_other</th>\n",
       "      <th>poutcome_success</th>\n",
       "      <th>poutcome_unknown</th>\n",
       "    </tr>\n",
       "  </thead>\n",
       "  <tbody>\n",
       "    <tr>\n",
       "      <th>0</th>\n",
       "      <td>-1.412641</td>\n",
       "      <td>-0.430443</td>\n",
       "      <td>-0.345535</td>\n",
       "      <td>-0.656488</td>\n",
       "      <td>-0.411125</td>\n",
       "      <td>-0.335885</td>\n",
       "      <td>-0.178162</td>\n",
       "      <td>0.001409</td>\n",
       "      <td>0.0</td>\n",
       "      <td>0.0</td>\n",
       "      <td>...</td>\n",
       "      <td>0.0</td>\n",
       "      <td>0.0</td>\n",
       "      <td>1.0</td>\n",
       "      <td>1.0</td>\n",
       "      <td>0.0</td>\n",
       "      <td>0.0</td>\n",
       "      <td>0.0</td>\n",
       "      <td>0.0</td>\n",
       "      <td>0.0</td>\n",
       "      <td>1.0</td>\n",
       "    </tr>\n",
       "    <tr>\n",
       "      <th>1</th>\n",
       "      <td>0.855078</td>\n",
       "      <td>-0.462731</td>\n",
       "      <td>-0.912556</td>\n",
       "      <td>2.577611</td>\n",
       "      <td>-0.411125</td>\n",
       "      <td>-0.335885</td>\n",
       "      <td>-0.262245</td>\n",
       "      <td>-0.279402</td>\n",
       "      <td>0.0</td>\n",
       "      <td>0.0</td>\n",
       "      <td>...</td>\n",
       "      <td>0.0</td>\n",
       "      <td>1.0</td>\n",
       "      <td>0.0</td>\n",
       "      <td>0.0</td>\n",
       "      <td>1.0</td>\n",
       "      <td>0.0</td>\n",
       "      <td>0.0</td>\n",
       "      <td>0.0</td>\n",
       "      <td>0.0</td>\n",
       "      <td>1.0</td>\n",
       "    </tr>\n",
       "    <tr>\n",
       "      <th>2</th>\n",
       "      <td>1.422008</td>\n",
       "      <td>-0.278968</td>\n",
       "      <td>0.379918</td>\n",
       "      <td>0.556299</td>\n",
       "      <td>-0.411125</td>\n",
       "      <td>-0.335885</td>\n",
       "      <td>-0.287045</td>\n",
       "      <td>-0.337086</td>\n",
       "      <td>0.0</td>\n",
       "      <td>0.0</td>\n",
       "      <td>...</td>\n",
       "      <td>0.0</td>\n",
       "      <td>1.0</td>\n",
       "      <td>0.0</td>\n",
       "      <td>0.0</td>\n",
       "      <td>0.0</td>\n",
       "      <td>1.0</td>\n",
       "      <td>0.0</td>\n",
       "      <td>0.0</td>\n",
       "      <td>0.0</td>\n",
       "      <td>1.0</td>\n",
       "    </tr>\n",
       "    <tr>\n",
       "      <th>3</th>\n",
       "      <td>1.610984</td>\n",
       "      <td>2.131931</td>\n",
       "      <td>-0.362212</td>\n",
       "      <td>-0.656488</td>\n",
       "      <td>4.240569</td>\n",
       "      <td>0.274344</td>\n",
       "      <td>0.321082</td>\n",
       "      <td>-0.087433</td>\n",
       "      <td>0.0</td>\n",
       "      <td>0.0</td>\n",
       "      <td>...</td>\n",
       "      <td>0.0</td>\n",
       "      <td>1.0</td>\n",
       "      <td>0.0</td>\n",
       "      <td>0.0</td>\n",
       "      <td>1.0</td>\n",
       "      <td>0.0</td>\n",
       "      <td>0.0</td>\n",
       "      <td>0.0</td>\n",
       "      <td>1.0</td>\n",
       "      <td>0.0</td>\n",
       "    </tr>\n",
       "    <tr>\n",
       "      <th>4</th>\n",
       "      <td>-0.940199</td>\n",
       "      <td>-0.454831</td>\n",
       "      <td>-0.574845</td>\n",
       "      <td>-0.656488</td>\n",
       "      <td>-0.411125</td>\n",
       "      <td>-0.335885</td>\n",
       "      <td>-0.076088</td>\n",
       "      <td>-0.494406</td>\n",
       "      <td>0.0</td>\n",
       "      <td>0.0</td>\n",
       "      <td>...</td>\n",
       "      <td>0.0</td>\n",
       "      <td>0.0</td>\n",
       "      <td>1.0</td>\n",
       "      <td>1.0</td>\n",
       "      <td>0.0</td>\n",
       "      <td>0.0</td>\n",
       "      <td>0.0</td>\n",
       "      <td>0.0</td>\n",
       "      <td>0.0</td>\n",
       "      <td>1.0</td>\n",
       "    </tr>\n",
       "    <tr>\n",
       "      <th>...</th>\n",
       "      <td>...</td>\n",
       "      <td>...</td>\n",
       "      <td>...</td>\n",
       "      <td>...</td>\n",
       "      <td>...</td>\n",
       "      <td>...</td>\n",
       "      <td>...</td>\n",
       "      <td>...</td>\n",
       "      <td>...</td>\n",
       "      <td>...</td>\n",
       "      <td>...</td>\n",
       "      <td>...</td>\n",
       "      <td>...</td>\n",
       "      <td>...</td>\n",
       "      <td>...</td>\n",
       "      <td>...</td>\n",
       "      <td>...</td>\n",
       "      <td>...</td>\n",
       "      <td>...</td>\n",
       "      <td>...</td>\n",
       "      <td>...</td>\n",
       "    </tr>\n",
       "    <tr>\n",
       "      <th>22147</th>\n",
       "      <td>0.288148</td>\n",
       "      <td>-0.024105</td>\n",
       "      <td>-0.737446</td>\n",
       "      <td>-0.656488</td>\n",
       "      <td>2.251228</td>\n",
       "      <td>2.105032</td>\n",
       "      <td>0.650124</td>\n",
       "      <td>0.197445</td>\n",
       "      <td>0.0</td>\n",
       "      <td>0.0</td>\n",
       "      <td>...</td>\n",
       "      <td>0.0</td>\n",
       "      <td>0.0</td>\n",
       "      <td>1.0</td>\n",
       "      <td>1.0</td>\n",
       "      <td>0.0</td>\n",
       "      <td>0.0</td>\n",
       "      <td>0.0</td>\n",
       "      <td>1.0</td>\n",
       "      <td>0.0</td>\n",
       "      <td>0.0</td>\n",
       "    </tr>\n",
       "    <tr>\n",
       "      <th>22148</th>\n",
       "      <td>0.382637</td>\n",
       "      <td>0.240720</td>\n",
       "      <td>0.233994</td>\n",
       "      <td>-0.656488</td>\n",
       "      <td>7.556139</td>\n",
       "      <td>0.274344</td>\n",
       "      <td>1.798401</td>\n",
       "      <td>0.197445</td>\n",
       "      <td>0.0</td>\n",
       "      <td>0.0</td>\n",
       "      <td>...</td>\n",
       "      <td>0.0</td>\n",
       "      <td>0.0</td>\n",
       "      <td>1.0</td>\n",
       "      <td>1.0</td>\n",
       "      <td>0.0</td>\n",
       "      <td>0.0</td>\n",
       "      <td>1.0</td>\n",
       "      <td>0.0</td>\n",
       "      <td>0.0</td>\n",
       "      <td>0.0</td>\n",
       "    </tr>\n",
       "    <tr>\n",
       "      <th>22149</th>\n",
       "      <td>-0.373270</td>\n",
       "      <td>-0.488835</td>\n",
       "      <td>-0.099548</td>\n",
       "      <td>-0.656488</td>\n",
       "      <td>1.617806</td>\n",
       "      <td>0.274344</td>\n",
       "      <td>-0.178162</td>\n",
       "      <td>0.197445</td>\n",
       "      <td>0.0</td>\n",
       "      <td>0.0</td>\n",
       "      <td>...</td>\n",
       "      <td>0.0</td>\n",
       "      <td>1.0</td>\n",
       "      <td>0.0</td>\n",
       "      <td>1.0</td>\n",
       "      <td>0.0</td>\n",
       "      <td>0.0</td>\n",
       "      <td>0.0</td>\n",
       "      <td>1.0</td>\n",
       "      <td>0.0</td>\n",
       "      <td>0.0</td>\n",
       "    </tr>\n",
       "    <tr>\n",
       "      <th>22150</th>\n",
       "      <td>0.004683</td>\n",
       "      <td>-0.324651</td>\n",
       "      <td>-0.583183</td>\n",
       "      <td>5.811710</td>\n",
       "      <td>-0.411125</td>\n",
       "      <td>-0.335885</td>\n",
       "      <td>-0.287045</td>\n",
       "      <td>-0.494406</td>\n",
       "      <td>0.0</td>\n",
       "      <td>0.0</td>\n",
       "      <td>...</td>\n",
       "      <td>0.0</td>\n",
       "      <td>1.0</td>\n",
       "      <td>0.0</td>\n",
       "      <td>0.0</td>\n",
       "      <td>0.0</td>\n",
       "      <td>1.0</td>\n",
       "      <td>0.0</td>\n",
       "      <td>0.0</td>\n",
       "      <td>0.0</td>\n",
       "      <td>1.0</td>\n",
       "    </tr>\n",
       "    <tr>\n",
       "      <th>22151</th>\n",
       "      <td>0.004683</td>\n",
       "      <td>-0.315721</td>\n",
       "      <td>-0.674907</td>\n",
       "      <td>-0.656488</td>\n",
       "      <td>-0.411125</td>\n",
       "      <td>-0.335885</td>\n",
       "      <td>-0.592346</td>\n",
       "      <td>-0.494406</td>\n",
       "      <td>0.0</td>\n",
       "      <td>0.0</td>\n",
       "      <td>...</td>\n",
       "      <td>0.0</td>\n",
       "      <td>0.0</td>\n",
       "      <td>1.0</td>\n",
       "      <td>1.0</td>\n",
       "      <td>0.0</td>\n",
       "      <td>0.0</td>\n",
       "      <td>0.0</td>\n",
       "      <td>0.0</td>\n",
       "      <td>0.0</td>\n",
       "      <td>1.0</td>\n",
       "    </tr>\n",
       "  </tbody>\n",
       "</table>\n",
       "<p>22152 rows × 26 columns</p>\n",
       "</div>"
      ],
      "text/plain": [
       "            age   balance  duration  campaign     pdays  previous     month  \\\n",
       "0     -1.412641 -0.430443 -0.345535 -0.656488 -0.411125 -0.335885 -0.178162   \n",
       "1      0.855078 -0.462731 -0.912556  2.577611 -0.411125 -0.335885 -0.262245   \n",
       "2      1.422008 -0.278968  0.379918  0.556299 -0.411125 -0.335885 -0.287045   \n",
       "3      1.610984  2.131931 -0.362212 -0.656488  4.240569  0.274344  0.321082   \n",
       "4     -0.940199 -0.454831 -0.574845 -0.656488 -0.411125 -0.335885 -0.076088   \n",
       "...         ...       ...       ...       ...       ...       ...       ...   \n",
       "22147  0.288148 -0.024105 -0.737446 -0.656488  2.251228  2.105032  0.650124   \n",
       "22148  0.382637  0.240720  0.233994 -0.656488  7.556139  0.274344  1.798401   \n",
       "22149 -0.373270 -0.488835 -0.099548 -0.656488  1.617806  0.274344 -0.178162   \n",
       "22150  0.004683 -0.324651 -0.583183  5.811710 -0.411125 -0.335885 -0.287045   \n",
       "22151  0.004683 -0.315721 -0.674907 -0.656488 -0.411125 -0.335885 -0.592346   \n",
       "\n",
       "            job  default  loan  ...  marital_divorced  marital_married  \\\n",
       "0      0.001409      0.0   0.0  ...               0.0              0.0   \n",
       "1     -0.279402      0.0   0.0  ...               0.0              1.0   \n",
       "2     -0.337086      0.0   0.0  ...               0.0              1.0   \n",
       "3     -0.087433      0.0   0.0  ...               0.0              1.0   \n",
       "4     -0.494406      0.0   0.0  ...               0.0              0.0   \n",
       "...         ...      ...   ...  ...               ...              ...   \n",
       "22147  0.197445      0.0   0.0  ...               0.0              0.0   \n",
       "22148  0.197445      0.0   0.0  ...               0.0              0.0   \n",
       "22149  0.197445      0.0   0.0  ...               0.0              1.0   \n",
       "22150 -0.494406      0.0   0.0  ...               0.0              1.0   \n",
       "22151 -0.494406      0.0   0.0  ...               0.0              0.0   \n",
       "\n",
       "       marital_single  contact_cellular  contact_telephone  contact_unknown  \\\n",
       "0                 1.0               1.0                0.0              0.0   \n",
       "1                 0.0               0.0                1.0              0.0   \n",
       "2                 0.0               0.0                0.0              1.0   \n",
       "3                 0.0               0.0                1.0              0.0   \n",
       "4                 1.0               1.0                0.0              0.0   \n",
       "...               ...               ...                ...              ...   \n",
       "22147             1.0               1.0                0.0              0.0   \n",
       "22148             1.0               1.0                0.0              0.0   \n",
       "22149             0.0               1.0                0.0              0.0   \n",
       "22150             0.0               0.0                0.0              1.0   \n",
       "22151             1.0               1.0                0.0              0.0   \n",
       "\n",
       "       poutcome_failure  poutcome_other  poutcome_success  poutcome_unknown  \n",
       "0                   0.0             0.0               0.0               1.0  \n",
       "1                   0.0             0.0               0.0               1.0  \n",
       "2                   0.0             0.0               0.0               1.0  \n",
       "3                   0.0             0.0               1.0               0.0  \n",
       "4                   0.0             0.0               0.0               1.0  \n",
       "...                 ...             ...               ...               ...  \n",
       "22147               0.0             1.0               0.0               0.0  \n",
       "22148               1.0             0.0               0.0               0.0  \n",
       "22149               0.0             1.0               0.0               0.0  \n",
       "22150               0.0             0.0               0.0               1.0  \n",
       "22151               0.0             0.0               0.0               1.0  \n",
       "\n",
       "[22152 rows x 26 columns]"
      ]
     },
     "execution_count": 60,
     "metadata": {},
     "output_type": "execute_result"
    }
   ],
   "source": [
    "preprocessed_train"
   ]
  },
  {
   "cell_type": "code",
   "execution_count": 61,
   "id": "a76502c6",
   "metadata": {
    "ExecuteTime": {
     "end_time": "2023-06-01T17:44:48.508651Z",
     "start_time": "2023-06-01T17:44:47.624778Z"
    }
   },
   "outputs": [],
   "source": [
    "preprocessed_train.to_csv(\"../preprocessed_data/preprocessed_train.csv\",index=False)\n",
    "preprocessed_test.to_csv(\"../preprocessed_data/preprocessed_test.csv\",index=False)\n",
    "preprocessed_val.to_csv(\"../preprocessed_data/preprocessed_val.csv\",index=False)"
   ]
  }
 ],
 "metadata": {
  "kernelspec": {
   "display_name": "Python 3 (ipykernel)",
   "language": "python",
   "name": "python3"
  },
  "language_info": {
   "codemirror_mode": {
    "name": "ipython",
    "version": 3
   },
   "file_extension": ".py",
   "mimetype": "text/x-python",
   "name": "python",
   "nbconvert_exporter": "python",
   "pygments_lexer": "ipython3",
   "version": "3.9.16"
  }
 },
 "nbformat": 4,
 "nbformat_minor": 5
}
