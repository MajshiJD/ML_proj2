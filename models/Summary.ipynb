{
 "cells": [
  {
   "cell_type": "code",
   "execution_count": 13,
   "metadata": {
    "ExecuteTime": {
     "end_time": "2023-06-07T12:45:34.123292Z",
     "start_time": "2023-06-07T12:45:34.114113Z"
    }
   },
   "outputs": [],
   "source": [
    "import numpy as np\n",
    "import pandas as pd\n",
    "\n",
    "from scipy.spatial import distance\n",
    "from sklearn.cluster import AgglomerativeClustering, KMeans, DBSCAN\n",
    "from sklearn.mixture import GaussianMixture\n",
    "from sklearn.metrics import silhouette_score\n",
    "\n",
    "import warnings\n",
    "import os\n",
    "import sys\n",
    "if not sys.warnoptions:\n",
    "    warnings.simplefilter(\"ignore\")\n",
    "    os.environ[\"PYTHONWARNINGS\"] = \"ignore\""
   ]
  },
  {
   "cell_type": "code",
   "execution_count": 7,
   "metadata": {
    "ExecuteTime": {
     "end_time": "2023-06-07T12:33:21.463709Z",
     "start_time": "2023-06-07T12:33:21.381729Z"
    }
   },
   "outputs": [],
   "source": [
    "df = pd.read_csv(\"../preprocessed_data/preprocessed_pca_train.csv\")"
   ]
  },
  {
   "cell_type": "code",
   "execution_count": 8,
   "outputs": [],
   "source": [
    "def count_clustering_scores(X, model, score_fun):\n",
    "\n",
    "    X = X.to_numpy()\n",
    "    model_instance = model\n",
    "    labels = model_instance.fit_predict(X)\n",
    "\n",
    "    return score_fun(X, labels)\n",
    "\n",
    "def min_interclust_dist(X, label):\n",
    "    clusters = set(label)\n",
    "    global_min_dist = np.inf\n",
    "    for cluster_i in clusters:\n",
    "        cluster_i_idx = np.where(label == cluster_i)\n",
    "        for cluster_j in clusters:\n",
    "            if cluster_i != cluster_j:\n",
    "                cluster_j_idx = np.where(label == cluster_j)\n",
    "                interclust_min_dist = np.min(distance.cdist(X[cluster_i_idx], X[cluster_j_idx]))\n",
    "                global_min_dist = np.min([global_min_dist, interclust_min_dist])\n",
    "    return global_min_dist\n",
    "\n",
    "def _inclust_mean_dists(X, label):\n",
    "    clusters = set(label)\n",
    "    inclust_dist_list = []\n",
    "    for cluster_i in clusters:\n",
    "        cluster_i_idx = np.where(label == cluster_i)\n",
    "        inclust_dist = np.mean(distance.pdist(X[cluster_i_idx]))\n",
    "        inclust_dist_list.append(inclust_dist)\n",
    "    return inclust_dist_list\n",
    "\n",
    "def mean_inclust_dist(X, label):\n",
    "    inclust_dist_list = _inclust_mean_dists(X, label)\n",
    "    return np.mean(inclust_dist_list)\n",
    "\n",
    "def std_dev_of_inclust_dist(X, label):\n",
    "    inclust_dist_list = _inclust_mean_dists(X, label)\n",
    "    return np.std(inclust_dist_list)\n",
    "\n",
    "def mean_dist_to_center(X, label):\n",
    "    clusters = set(label)\n",
    "    inclust_dist_list = []\n",
    "    for cluster_i in clusters:\n",
    "        cluster_i_idx = np.where(label == cluster_i)\n",
    "        cluster_i_mean = np.mean(X[cluster_i_idx], axis=0, keepdims=True)\n",
    "        inclust_dist = np.mean(distance.cdist(X[cluster_i_idx], cluster_i_mean))\n",
    "        inclust_dist_list.append(inclust_dist)\n",
    "    return np.mean(inclust_dist_list)"
   ],
   "metadata": {
    "collapsed": false,
    "ExecuteTime": {
     "end_time": "2023-06-07T12:33:21.629083Z",
     "start_time": "2023-06-07T12:33:21.625269Z"
    }
   }
  },
  {
   "cell_type": "code",
   "execution_count": 15,
   "metadata": {
    "ExecuteTime": {
     "end_time": "2023-06-07T12:48:20.481887Z",
     "start_time": "2023-06-07T12:46:06.092906Z"
    }
   },
   "outputs": [
    {
     "data": {
      "text/plain": "                            min dist between clusters  mean dist in clust  \\\nKMeans                                       0.270478            3.547919   \nAgglomerative ward linkage                   0.928113            3.526179   \nDBSCAN                                       1.108951            6.602728   \nGaussian mixture                             0.577254            3.698110   \n\n                            std dev dist in clust  mean dist to clust center  \\\nKMeans                                   0.390134                   2.478909   \nAgglomerative ward linkage               0.359383                   2.466052   \nDBSCAN                                   3.011956                   4.695553   \nGaussian mixture                         0.646207                   2.575037   \n\n                            silhouette  \nKMeans                        0.334147  \nAgglomerative ward linkage    0.325829  \nDBSCAN                        0.587925  \nGaussian mixture              0.335785  ",
      "text/html": "<div>\n<style scoped>\n    .dataframe tbody tr th:only-of-type {\n        vertical-align: middle;\n    }\n\n    .dataframe tbody tr th {\n        vertical-align: top;\n    }\n\n    .dataframe thead th {\n        text-align: right;\n    }\n</style>\n<table border=\"1\" class=\"dataframe\">\n  <thead>\n    <tr style=\"text-align: right;\">\n      <th></th>\n      <th>min dist between clusters</th>\n      <th>mean dist in clust</th>\n      <th>std dev dist in clust</th>\n      <th>mean dist to clust center</th>\n      <th>silhouette</th>\n    </tr>\n  </thead>\n  <tbody>\n    <tr>\n      <th>KMeans</th>\n      <td>0.270478</td>\n      <td>3.547919</td>\n      <td>0.390134</td>\n      <td>2.478909</td>\n      <td>0.334147</td>\n    </tr>\n    <tr>\n      <th>Agglomerative ward linkage</th>\n      <td>0.928113</td>\n      <td>3.526179</td>\n      <td>0.359383</td>\n      <td>2.466052</td>\n      <td>0.325829</td>\n    </tr>\n    <tr>\n      <th>DBSCAN</th>\n      <td>1.108951</td>\n      <td>6.602728</td>\n      <td>3.011956</td>\n      <td>4.695553</td>\n      <td>0.587925</td>\n    </tr>\n    <tr>\n      <th>Gaussian mixture</th>\n      <td>0.577254</td>\n      <td>3.698110</td>\n      <td>0.646207</td>\n      <td>2.575037</td>\n      <td>0.335785</td>\n    </tr>\n  </tbody>\n</table>\n</div>"
     },
     "execution_count": 15,
     "metadata": {},
     "output_type": "execute_result"
    }
   ],
   "source": [
    "metrices = {\n",
    "    'min dist between clusters': min_interclust_dist,\n",
    "    'mean dist in clust': mean_inclust_dist,\n",
    "    'std dev dist in clust': std_dev_of_inclust_dist,\n",
    "    'mean dist to clust center': mean_dist_to_center,\n",
    "    'silhouette': silhouette_score\n",
    "}\n",
    "\n",
    "models = {\n",
    "    'KMeans': KMeans(n_clusters=2),\n",
    "    'Agglomerative ward linkage': AgglomerativeClustering(n_clusters=2, linkage='ward'),\n",
    "    'DBSCAN': DBSCAN(eps=2.3, min_samples=24),\n",
    "    'Gaussian mixture': GaussianMixture(n_components=2, covariance_type='full')\n",
    "}\n",
    "\n",
    "res = pd.DataFrame()\n",
    "for model_key in models:\n",
    "    for metric_key in metrices:\n",
    "        res.loc[model_key, metric_key] = count_clustering_scores(X=df, model=models[model_key],\n",
    "                                                                score_fun=metrices[metric_key])\n",
    "res"
   ]
  }
 ],
 "metadata": {
  "kernelspec": {
   "display_name": "Python 3 (ipykernel)",
   "language": "python",
   "name": "python3"
  },
  "language_info": {
   "codemirror_mode": {
    "name": "ipython",
    "version": 3
   },
   "file_extension": ".py",
   "mimetype": "text/x-python",
   "name": "python",
   "nbconvert_exporter": "python",
   "pygments_lexer": "ipython3",
   "version": "3.9.0"
  }
 },
 "nbformat": 4,
 "nbformat_minor": 1
}
