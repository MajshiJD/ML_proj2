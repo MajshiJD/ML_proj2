{
 "cells": [
  {
   "cell_type": "code",
   "execution_count": 1,
   "metadata": {
    "collapsed": true,
    "ExecuteTime": {
     "end_time": "2023-05-20T12:00:58.138016Z",
     "start_time": "2023-05-20T12:00:58.023643Z"
    }
   },
   "outputs": [],
   "source": [
    "import pandas as pd\n",
    "import numpy as np\n",
    "\n",
    "import seaborn as sns\n",
    "import matplotlib.pyplot as plt\n",
    "\n",
    "from sklearn.model_selection import train_test_split"
   ]
  },
  {
   "cell_type": "markdown",
   "source": [
    "# Ładowanie i podział zbioru danych"
   ],
   "metadata": {
    "collapsed": false
   }
  },
  {
   "cell_type": "code",
   "execution_count": 2,
   "outputs": [
    {
     "data": {
      "text/plain": "(45211, 17)"
     },
     "execution_count": 2,
     "metadata": {},
     "output_type": "execute_result"
    }
   ],
   "source": [
    "data = pd.read_csv(\"./data/bank-full.csv\")\n",
    "data.shape"
   ],
   "metadata": {
    "collapsed": false,
    "ExecuteTime": {
     "end_time": "2023-05-20T12:00:58.202433Z",
     "start_time": "2023-05-20T12:00:58.139275Z"
    }
   }
  },
  {
   "cell_type": "code",
   "execution_count": 3,
   "outputs": [],
   "source": [
    "build, val = train_test_split(data, test_size=0.3,random_state=42)\n",
    "train, test = train_test_split(build, test_size=0.3, random_state=42)"
   ],
   "metadata": {
    "collapsed": false,
    "ExecuteTime": {
     "end_time": "2023-05-20T12:00:58.216499Z",
     "start_time": "2023-05-20T12:00:58.206150Z"
    }
   }
  },
  {
   "cell_type": "code",
   "execution_count": 4,
   "outputs": [
    {
     "data": {
      "text/plain": "(22152, 8)"
     },
     "execution_count": 4,
     "metadata": {},
     "output_type": "execute_result"
    }
   ],
   "source": [
    "df = train.iloc[:, 8:16].copy()\n",
    "df.shape"
   ],
   "metadata": {
    "collapsed": false,
    "ExecuteTime": {
     "end_time": "2023-05-20T12:00:58.236580Z",
     "start_time": "2023-05-20T12:00:58.219663Z"
    }
   }
  },
  {
   "cell_type": "markdown",
   "source": [
    "# Eksploracyjna analiza danych"
   ],
   "metadata": {
    "collapsed": false
   }
  },
  {
   "cell_type": "code",
   "execution_count": 5,
   "outputs": [
    {
     "name": "stdout",
     "output_type": "stream",
     "text": [
      "<class 'pandas.core.frame.DataFrame'>\n",
      "Int64Index: 22152 entries, 28440 to 36613\n",
      "Data columns (total 8 columns):\n",
      " #   Column    Non-Null Count  Dtype \n",
      "---  ------    --------------  ----- \n",
      " 0   contact   22152 non-null  object\n",
      " 1   day       22152 non-null  int64 \n",
      " 2   month     22152 non-null  object\n",
      " 3   duration  22152 non-null  int64 \n",
      " 4   campaign  22152 non-null  int64 \n",
      " 5   pdays     22152 non-null  int64 \n",
      " 6   previous  22152 non-null  int64 \n",
      " 7   poutcome  22152 non-null  object\n",
      "dtypes: int64(5), object(3)\n",
      "memory usage: 1.5+ MB\n"
     ]
    }
   ],
   "source": [
    "df.info()"
   ],
   "metadata": {
    "collapsed": false,
    "ExecuteTime": {
     "end_time": "2023-05-20T12:00:58.243492Z",
     "start_time": "2023-05-20T12:00:58.232791Z"
    }
   }
  },
  {
   "cell_type": "markdown",
   "source": [
    "Brak braków danych, kolumny zarówno numeryczne jak i kategoryczne"
   ],
   "metadata": {
    "collapsed": false
   }
  },
  {
   "cell_type": "code",
   "execution_count": 6,
   "outputs": [
    {
     "data": {
      "text/plain": "                day      duration      campaign         pdays      previous\ncount  22152.000000  22152.000000  22152.000000  22152.000000  22152.000000\nmean      15.863714    257.111547      2.767606     40.539410      0.586087\nstd        8.311830    256.093527      3.123506    101.040739      2.600391\nmin        1.000000      0.000000      1.000000     -1.000000      0.000000\n25%        8.000000    103.000000      1.000000     -1.000000      0.000000\n50%       16.000000    180.000000      2.000000     -1.000000      0.000000\n75%       21.000000    318.000000      3.000000     -1.000000      0.000000\nmax       31.000000   4918.000000     58.000000    871.000000    275.000000",
      "text/html": "<div>\n<style scoped>\n    .dataframe tbody tr th:only-of-type {\n        vertical-align: middle;\n    }\n\n    .dataframe tbody tr th {\n        vertical-align: top;\n    }\n\n    .dataframe thead th {\n        text-align: right;\n    }\n</style>\n<table border=\"1\" class=\"dataframe\">\n  <thead>\n    <tr style=\"text-align: right;\">\n      <th></th>\n      <th>day</th>\n      <th>duration</th>\n      <th>campaign</th>\n      <th>pdays</th>\n      <th>previous</th>\n    </tr>\n  </thead>\n  <tbody>\n    <tr>\n      <th>count</th>\n      <td>22152.000000</td>\n      <td>22152.000000</td>\n      <td>22152.000000</td>\n      <td>22152.000000</td>\n      <td>22152.000000</td>\n    </tr>\n    <tr>\n      <th>mean</th>\n      <td>15.863714</td>\n      <td>257.111547</td>\n      <td>2.767606</td>\n      <td>40.539410</td>\n      <td>0.586087</td>\n    </tr>\n    <tr>\n      <th>std</th>\n      <td>8.311830</td>\n      <td>256.093527</td>\n      <td>3.123506</td>\n      <td>101.040739</td>\n      <td>2.600391</td>\n    </tr>\n    <tr>\n      <th>min</th>\n      <td>1.000000</td>\n      <td>0.000000</td>\n      <td>1.000000</td>\n      <td>-1.000000</td>\n      <td>0.000000</td>\n    </tr>\n    <tr>\n      <th>25%</th>\n      <td>8.000000</td>\n      <td>103.000000</td>\n      <td>1.000000</td>\n      <td>-1.000000</td>\n      <td>0.000000</td>\n    </tr>\n    <tr>\n      <th>50%</th>\n      <td>16.000000</td>\n      <td>180.000000</td>\n      <td>2.000000</td>\n      <td>-1.000000</td>\n      <td>0.000000</td>\n    </tr>\n    <tr>\n      <th>75%</th>\n      <td>21.000000</td>\n      <td>318.000000</td>\n      <td>3.000000</td>\n      <td>-1.000000</td>\n      <td>0.000000</td>\n    </tr>\n    <tr>\n      <th>max</th>\n      <td>31.000000</td>\n      <td>4918.000000</td>\n      <td>58.000000</td>\n      <td>871.000000</td>\n      <td>275.000000</td>\n    </tr>\n  </tbody>\n</table>\n</div>"
     },
     "execution_count": 6,
     "metadata": {},
     "output_type": "execute_result"
    }
   ],
   "source": [
    "df.describe()"
   ],
   "metadata": {
    "collapsed": false,
    "ExecuteTime": {
     "end_time": "2023-05-20T12:00:58.393040Z",
     "start_time": "2023-05-20T12:00:58.241955Z"
    }
   }
  },
  {
   "cell_type": "markdown",
   "source": [
    "## Contact\n",
    "\n",
    "Rodzaj komunikacji z klientem"
   ],
   "metadata": {
    "collapsed": false
   }
  },
  {
   "cell_type": "code",
   "execution_count": 7,
   "outputs": [
    {
     "data": {
      "text/plain": "cellular     14413\nunknown       6334\ntelephone     1405\nName: contact, dtype: int64"
     },
     "execution_count": 7,
     "metadata": {},
     "output_type": "execute_result"
    }
   ],
   "source": [
    "df.contact.value_counts()"
   ],
   "metadata": {
    "collapsed": false,
    "ExecuteTime": {
     "end_time": "2023-05-20T12:00:58.395158Z",
     "start_time": "2023-05-20T12:00:58.262039Z"
    }
   }
  },
  {
   "cell_type": "markdown",
   "source": [
    "## Day\n",
    "\n",
    "Dzień miesiąca, w którym nastąpił ostatni kontakt z klientem"
   ],
   "metadata": {
    "collapsed": false
   }
  },
  {
   "cell_type": "code",
   "execution_count": 8,
   "outputs": [
    {
     "data": {
      "text/plain": "<Figure size 432x288 with 1 Axes>",
      "image/png": "[encoded data removed]"
     },
     "metadata": {},
     "output_type": "display_data"
    }
   ],
   "source": [
    "sns.histplot(df.day, bins=31)\n",
    "plt.show()"
   ],
   "metadata": {
    "collapsed": false,
    "ExecuteTime": {
     "end_time": "2023-05-20T12:00:58.493437Z",
     "start_time": "2023-05-20T12:00:58.275611Z"
    }
   }
  },
  {
   "cell_type": "markdown",
   "source": [
    "Obserwujemy zmniejszoną aktywność 1., 10. i 24. dnia każdego miesiąca i intrygujący peak 20. dnia miesiąca."
   ],
   "metadata": {
    "collapsed": false
   }
  },
  {
   "cell_type": "markdown",
   "source": [
    "## Month\n",
    "\n",
    "Miesiąc, w którym nastąpił ostatni kontakt z klientem"
   ],
   "metadata": {
    "collapsed": false
   }
  },
  {
   "cell_type": "code",
   "execution_count": 9,
   "outputs": [
    {
     "data": {
      "text/plain": "may    6678\njul    3382\naug    3018\njun    2635\nnov    1961\napr    1457\nfeb    1324\njan     695\noct     370\nsep     284\nmar     236\ndec     112\nName: month, dtype: int64"
     },
     "execution_count": 9,
     "metadata": {},
     "output_type": "execute_result"
    }
   ],
   "source": [
    "df.month.value_counts()"
   ],
   "metadata": {
    "collapsed": false,
    "ExecuteTime": {
     "end_time": "2023-05-20T12:00:58.500002Z",
     "start_time": "2023-05-20T12:00:58.488406Z"
    }
   }
  },
  {
   "cell_type": "code",
   "execution_count": 10,
   "outputs": [
    {
     "data": {
      "text/plain": "<Figure size 432x288 with 1 Axes>",
      "image/png": "[encoded data removed]"
     },
     "metadata": {},
     "output_type": "display_data"
    }
   ],
   "source": [
    "df.replace({\"month\":{\"jan\":1,\"feb\":2,\"mar\":3,\"apr\":4,\"may\":5,\"jun\":6,\"jul\":7,\"aug\":8,\"sep\":9,\"oct\":10,\"nov\":11,\"dec\":12}}).month.hist(bins=12)\n",
    "plt.show()"
   ],
   "metadata": {
    "collapsed": false,
    "ExecuteTime": {
     "end_time": "2023-05-20T12:00:58.655817Z",
     "start_time": "2023-05-20T12:00:58.502550Z"
    }
   }
  },
  {
   "cell_type": "markdown",
   "source": [
    "Widzimy nasilenie w miesiącach wiosennych i letnich - duży peak w maju, rzadziej jesienią i zimą (z wyjątkiem października)"
   ],
   "metadata": {
    "collapsed": false
   }
  },
  {
   "cell_type": "markdown",
   "source": [
    "## Duration\n",
    "\n",
    "Czas w sekundach ostatniego kontaktu z klientem"
   ],
   "metadata": {
    "collapsed": false
   }
  },
  {
   "cell_type": "code",
   "execution_count": 11,
   "outputs": [
    {
     "data": {
      "text/plain": "<Figure size 432x288 with 1 Axes>",
      "image/png": "[encoded data removed]"
     },
     "metadata": {},
     "output_type": "display_data"
    }
   ],
   "source": [
    "df.duration.hist()\n",
    "plt.show()"
   ],
   "metadata": {
    "collapsed": false,
    "ExecuteTime": {
     "end_time": "2023-05-20T12:00:58.771713Z",
     "start_time": "2023-05-20T12:00:58.661644Z"
    }
   }
  },
  {
   "cell_type": "markdown",
   "source": [
    "Być może są obecne wartości odstające"
   ],
   "metadata": {
    "collapsed": false
   }
  },
  {
   "cell_type": "code",
   "execution_count": 12,
   "outputs": [
    {
     "data": {
      "text/plain": "24148    4918\n9947     3881\n44602    3785\n30747    3102\n6451     3094\n         ... \n2599        3\n287         2\n31740       1\n22937       0\n36425       0\nName: duration, Length: 22152, dtype: int64"
     },
     "execution_count": 12,
     "metadata": {},
     "output_type": "execute_result"
    }
   ],
   "source": [
    "df.duration.sort_values(ascending=False)"
   ],
   "metadata": {
    "collapsed": false,
    "ExecuteTime": {
     "end_time": "2023-05-20T12:00:58.782279Z",
     "start_time": "2023-05-20T12:00:58.774821Z"
    }
   }
  },
  {
   "cell_type": "markdown",
   "source": [
    "Potraktujemy czas trwania połączenia powyżej 2000 sekund jako outlier, żeby nie psuło nam to za bardzo scalingu"
   ],
   "metadata": {
    "collapsed": false
   }
  },
  {
   "cell_type": "code",
   "execution_count": 13,
   "outputs": [
    {
     "data": {
      "text/plain": "<Figure size 432x288 with 1 Axes>",
      "image/png": "[encoded data removed]"
     },
     "metadata": {},
     "output_type": "display_data"
    }
   ],
   "source": [
    "df[df.duration<2000].duration.hist()\n",
    "plt.show()"
   ],
   "metadata": {
    "collapsed": false,
    "ExecuteTime": {
     "end_time": "2023-05-20T12:00:58.894671Z",
     "start_time": "2023-05-20T12:00:58.785089Z"
    }
   }
  },
  {
   "cell_type": "code",
   "execution_count": 14,
   "outputs": [
    {
     "data": {
      "text/plain": "<Figure size 432x288 with 1 Axes>",
      "image/png": "[encoded data removed]"
     },
     "metadata": {},
     "output_type": "display_data"
    }
   ],
   "source": [
    "df[df.duration<500].duration.hist()\n",
    "plt.show()"
   ],
   "metadata": {
    "collapsed": false,
    "ExecuteTime": {
     "end_time": "2023-05-20T12:00:58.996623Z",
     "start_time": "2023-05-20T12:00:58.896755Z"
    }
   }
  },
  {
   "cell_type": "markdown",
   "source": [
    "## Campaign\n",
    "\n",
    "Liczba kontaktów z klientem w aktualnej kampanii (włączając ostatni kontakt)"
   ],
   "metadata": {
    "collapsed": false
   }
  },
  {
   "cell_type": "code",
   "execution_count": 15,
   "outputs": [
    {
     "data": {
      "text/plain": "<Figure size 432x288 with 1 Axes>",
      "image/png": "[encoded data removed]"
     },
     "metadata": {},
     "output_type": "display_data"
    }
   ],
   "source": [
    "df.campaign.hist()\n",
    "plt.show()"
   ],
   "metadata": {
    "collapsed": false,
    "ExecuteTime": {
     "end_time": "2023-05-20T12:00:59.104417Z",
     "start_time": "2023-05-20T12:00:58.996851Z"
    }
   }
  },
  {
   "cell_type": "code",
   "execution_count": 16,
   "outputs": [
    {
     "data": {
      "text/plain": "11914    58\n18713    50\n10697    46\n18744    44\n18660    43\n         ..\n41076     1\n7604      1\n27081     1\n4386      1\n36613     1\nName: campaign, Length: 22152, dtype: int64"
     },
     "execution_count": 16,
     "metadata": {},
     "output_type": "execute_result"
    }
   ],
   "source": [
    "df.campaign.sort_values(ascending=False)"
   ],
   "metadata": {
    "collapsed": false,
    "ExecuteTime": {
     "end_time": "2023-05-20T12:00:59.109551Z",
     "start_time": "2023-05-20T12:00:59.105951Z"
    }
   }
  },
  {
   "cell_type": "code",
   "execution_count": 17,
   "outputs": [
    {
     "data": {
      "text/plain": "<Figure size 432x288 with 1 Axes>",
      "image/png": "[encoded data removed]"
     },
     "metadata": {},
     "output_type": "display_data"
    }
   ],
   "source": [
    "df[df.campaign<=20].campaign.hist(bins=20)\n",
    "plt.show()"
   ],
   "metadata": {
    "collapsed": false,
    "ExecuteTime": {
     "end_time": "2023-05-20T12:00:59.225384Z",
     "start_time": "2023-05-20T12:00:59.111824Z"
    }
   }
  },
  {
   "cell_type": "markdown",
   "source": [
    "## Pdays\n",
    "\n",
    "Liczba dni, które upłynęły od ostatniego kontaktu z klientem z poprzedniej kampanii (-1 oznacza brak kontaktu w poprzedniej kampanii)"
   ],
   "metadata": {
    "collapsed": false
   }
  },
  {
   "cell_type": "code",
   "execution_count": 18,
   "outputs": [
    {
     "data": {
      "text/plain": "0.8158631274828458"
     },
     "execution_count": 18,
     "metadata": {},
     "output_type": "execute_result"
    }
   ],
   "source": [
    "df[df.pdays == -1].size/df.size"
   ],
   "metadata": {
    "collapsed": false,
    "ExecuteTime": {
     "end_time": "2023-05-20T12:00:59.236498Z",
     "start_time": "2023-05-20T12:00:59.226241Z"
    }
   }
  },
  {
   "cell_type": "markdown",
   "source": [
    "Dla większośći klientów jest to pierwsza kampania, w której uczestniczą"
   ],
   "metadata": {
    "collapsed": false
   }
  },
  {
   "cell_type": "code",
   "execution_count": 19,
   "outputs": [
    {
     "data": {
      "text/plain": "<Figure size 432x288 with 1 Axes>",
      "image/png": "[encoded data removed]"
     },
     "metadata": {},
     "output_type": "display_data"
    }
   ],
   "source": [
    "df[df.pdays != -1].pdays.hist()\n",
    "plt.show()"
   ],
   "metadata": {
    "collapsed": false,
    "ExecuteTime": {
     "end_time": "2023-05-20T12:00:59.332306Z",
     "start_time": "2023-05-20T12:00:59.235285Z"
    }
   }
  },
  {
   "cell_type": "code",
   "execution_count": 20,
   "outputs": [
    {
     "data": {
      "text/plain": "<Figure size 432x288 with 1 Axes>",
      "image/png": "[encoded data removed]"
     },
     "metadata": {},
     "output_type": "display_data"
    }
   ],
   "source": [
    "df[(df.pdays != -1) & (df.pdays < 500)].pdays.hist()\n",
    "plt.show()"
   ],
   "metadata": {
    "collapsed": false,
    "ExecuteTime": {
     "end_time": "2023-05-20T12:00:59.437538Z",
     "start_time": "2023-05-20T12:00:59.334871Z"
    }
   }
  },
  {
   "cell_type": "markdown",
   "source": [
    "## Previous\n",
    "\n",
    "Liczba kontaktów z klientem przed aktualną kampanią"
   ],
   "metadata": {
    "collapsed": false
   }
  },
  {
   "cell_type": "code",
   "execution_count": 21,
   "outputs": [
    {
     "data": {
      "text/plain": "0.8158631274828458"
     },
     "execution_count": 21,
     "metadata": {},
     "output_type": "execute_result"
    }
   ],
   "source": [
    "df[df.previous == 0].size/df.size"
   ],
   "metadata": {
    "collapsed": false,
    "ExecuteTime": {
     "end_time": "2023-05-20T12:00:59.440592Z",
     "start_time": "2023-05-20T12:00:59.435752Z"
    }
   }
  },
  {
   "cell_type": "markdown",
   "source": [
    "Analogicznie"
   ],
   "metadata": {
    "collapsed": false
   }
  },
  {
   "cell_type": "code",
   "execution_count": 22,
   "outputs": [
    {
     "data": {
      "text/plain": "<Figure size 432x288 with 1 Axes>",
      "image/png": "[encoded data removed]"
     },
     "metadata": {},
     "output_type": "display_data"
    }
   ],
   "source": [
    "df[df.previous != 0].previous.hist()\n",
    "plt.show()"
   ],
   "metadata": {
    "collapsed": false,
    "ExecuteTime": {
     "end_time": "2023-05-20T12:00:59.584284Z",
     "start_time": "2023-05-20T12:00:59.440855Z"
    }
   }
  },
  {
   "cell_type": "markdown",
   "source": [
    "Występują pewne outliery"
   ],
   "metadata": {
    "collapsed": false
   }
  },
  {
   "cell_type": "code",
   "execution_count": 23,
   "outputs": [
    {
     "data": {
      "text/plain": "29182    275\n44822     41\n42611     40\n37567     38\n42422     37\n        ... \n42237      0\n6928       0\n12723      0\n23308      0\n36613      0\nName: previous, Length: 22152, dtype: int64"
     },
     "execution_count": 23,
     "metadata": {},
     "output_type": "execute_result"
    }
   ],
   "source": [
    "df.previous.sort_values(ascending=False)"
   ],
   "metadata": {
    "collapsed": false,
    "ExecuteTime": {
     "end_time": "2023-05-20T12:00:59.592983Z",
     "start_time": "2023-05-20T12:00:59.586316Z"
    }
   }
  },
  {
   "cell_type": "markdown",
   "source": [
    "No te 275 dość sporo"
   ],
   "metadata": {
    "collapsed": false
   }
  },
  {
   "cell_type": "code",
   "execution_count": 24,
   "outputs": [
    {
     "data": {
      "text/plain": "<Figure size 432x288 with 1 Axes>",
      "image/png": "[encoded data removed]"
     },
     "metadata": {},
     "output_type": "display_data"
    }
   ],
   "source": [
    "df[(df.previous != 0) & (df.previous <= 15)].previous.hist(bins=15)\n",
    "plt.show()"
   ],
   "metadata": {
    "collapsed": false,
    "ExecuteTime": {
     "end_time": "2023-05-20T12:00:59.696623Z",
     "start_time": "2023-05-20T12:00:59.592046Z"
    }
   }
  },
  {
   "cell_type": "markdown",
   "source": [
    "## Poutcome\n",
    "\n",
    "Rezultat poprzedniej kampanii"
   ],
   "metadata": {
    "collapsed": false
   }
  },
  {
   "cell_type": "code",
   "execution_count": 25,
   "outputs": [
    {
     "data": {
      "text/plain": "unknown    18076\nfailure     2404\nother        924\nsuccess      748\nName: poutcome, dtype: int64"
     },
     "execution_count": 25,
     "metadata": {},
     "output_type": "execute_result"
    }
   ],
   "source": [
    "df.poutcome.value_counts()"
   ],
   "metadata": {
    "collapsed": false,
    "ExecuteTime": {
     "end_time": "2023-05-20T12:00:59.704042Z",
     "start_time": "2023-05-20T12:00:59.701679Z"
    }
   }
  },
  {
   "cell_type": "markdown",
   "source": [
    "Sporo nieznanych wartości, spróbujemy z kodowaniem one hot encoding ale być może usuniemy tą zmienną"
   ],
   "metadata": {
    "collapsed": false
   }
  },
  {
   "cell_type": "markdown",
   "source": [
    "# Preprocessing"
   ],
   "metadata": {
    "collapsed": false
   }
  },
  {
   "cell_type": "code",
   "execution_count": null,
   "outputs": [],
   "source": [],
   "metadata": {
    "collapsed": false
   }
  }
 ],
 "metadata": {
  "kernelspec": {
   "display_name": "Python 3",
   "language": "python",
   "name": "python3"
  },
  "language_info": {
   "codemirror_mode": {
    "name": "ipython",
    "version": 2
   },
   "file_extension": ".py",
   "mimetype": "text/x-python",
   "name": "python",
   "nbconvert_exporter": "python",
   "pygments_lexer": "ipython2",
   "version": "2.7.6"
  }
 },
 "nbformat": 4,
 "nbformat_minor": 0
}
